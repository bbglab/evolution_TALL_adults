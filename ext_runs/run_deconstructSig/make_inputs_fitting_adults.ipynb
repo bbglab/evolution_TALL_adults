{
 "cells": [
  {
   "cell_type": "markdown",
   "metadata": {},
   "source": [
    "This notebook creates the inputs for DeconstructSigs and shows the many ways in which it was run for the project. \n",
    "\n",
    "This piece of code relies on a workspace directory structure such as \n",
    "```\n",
    "cohort/\n",
    "\tpatientID/\n",
    "\t\tDxTumorID_vs_normalID/\n",
    "\t\tReTumorID_vs_normalID/ (sometimes)\n",
    "\n",
    "```\n",
    " patientID, DxTumorID etc can be found in ../ext_files/all_cohort_clinical_groups.tsv\n",
    " \n",
    "Be aware that the filtered mafs with clonal classification and joined mutations after running the scripts in ```filter/```  have the following file name: ```TumorID_vs_normalID + _strelka_uniq_all_anno_vep92_categories_filt_snps_cluster.maf``` \n",
    ".This file name is used in the following code."
   ]
  },
  {
   "cell_type": "code",
   "execution_count": null,
   "metadata": {
    "collapsed": true
   },
   "outputs": [],
   "source": [
    "import os\n",
    "import pandas as pd\n",
    "import glob\n",
    "import numpy as np\n",
    "from aux_functions import stage_mapping,get_context_rev,add_pyrimidine_type\n",
    "from aux_data_in_pyvar import PATS_DIRS"
   ]
  },
  {
   "cell_type": "code",
   "execution_count": null,
   "metadata": {
    "collapsed": true,
    "scrolled": true
   },
   "outputs": [],
   "source": [
    "clinical = pd.read_excel(\"Additional file 2.xlsx\", sheet_name='Table S1', skiprows=[0,1]) #Additional file 2 Table S1\n",
    "df_clinical = stage_mapping(clinical)\n",
    "df_clinical.tail()"
   ]
  },
  {
   "cell_type": "markdown",
   "metadata": {},
   "source": [
    "### ALL primary"
   ]
  },
  {
   "cell_type": "markdown",
   "metadata": {},
   "source": [
    "The results of the fitting of this run were used in Figure 1c and Additional file 1 Figure S1. \n",
    "\n",
    "In a similar way were created the inputs for the pediatric cohorts. Each cohort had their own run for the primary samples. The signature weights obtained from it served to build figure 1c"
   ]
  },
  {
   "cell_type": "code",
   "execution_count": null,
   "metadata": {
    "collapsed": true
   },
   "outputs": [],
   "source": [
    "dff_pry = pd.DataFrame()\n",
    "\n",
    "for com in df_clinical[df_clinical['STAGE'] == 'primary']['COMPARISON'].tolist():\n",
    "    \n",
    "    pat = df_clinical[df_clinical['COMPARISON'] == com]['PATIENT'].tolist()[0]\n",
    "    \n",
    "    if (pat != 'PAT3') and (pat != 'PAT4'):   \n",
    "        print(pat)\n",
    "        dire_in = PATS_DIRS[pat]\n",
    "\n",
    "        df_pry = pd.read_table(os.path.join(dire_in, pat,com,\n",
    "                            com+'_strelka_uniq_all_anno_vep92_categories_filt_snps_cluster.maf'),\n",
    "                            sep='\\t',low_memory=False)\n",
    "        df_pry = df_pry[df_pry['mut_type'] == 'snv']\n",
    "        df_pry['PATIENT'] = pat\n",
    "\n",
    "        dff_pry = dff_pry.append(df_pry[['#CHROM', 'POS','REF', 'ALT', 'PATIENT']], ignore_index=True)"
   ]
  },
  {
   "cell_type": "code",
   "execution_count": null,
   "metadata": {
    "collapsed": true
   },
   "outputs": [],
   "source": [
    "out_path = \"\" # path to the run of DeconstructSigs\n",
    "\n",
    "# inside out_path make a folder for this run with this input. Here is used run_all_primary/  \n",
    "dff_pry.to_csv(os.path.join(out_path,\"run_all_primary/simple_input.tsv\"),sep='\\t', index=False)"
   ]
  },
  {
   "cell_type": "markdown",
   "metadata": {},
   "source": [
    "For this input deconstructSigs was run:\n",
    "\n",
    "```python assign_signature_to_mutation.py -i run_all_primary/simple_input.tsv -o run_all_primary -s ../../ext_files/run_deconstructSig/signatures.pcawg -t ALL_primary_subset ```"
   ]
  },
  {
   "cell_type": "markdown",
   "metadata": {},
   "source": [
    "### PRIMARY AND RELAPSE"
   ]
  },
  {
   "cell_type": "markdown",
   "metadata": {},
   "source": [
    "We created an input for each type of samples (all primary) and (all relapse) that were both used in three different runs. \n",
    "\n",
    "First we fitted the pcawg signatures + the treatment signatures (see ```../../ext_files/run_deconstructSig/README.txt```) \n",
    "The results of the fitting of this run were used in Additional file 1 Figure S6. \n",
    "\n",
    "run folder name is ```run_samples_treatment/```\n",
    "\n",
    "Second we fitted the pcawg signatures + HSCP signature (see ```../../ext_files/run_deconstructSig/README.txt```) \n",
    "The results of the fitting of this run were used in Additional file 1 Figure S7.\n",
    "\n",
    "run folder name is ```run_samples_hemato/```\n",
    "\n",
    "Third we fitted the pcawg signatures (see ```../../ext_files/run_deconstructSig/README.txt```) \n",
    "The results of the fitting of this run were used in Additional file 1 Figure S7.\n",
    "\n",
    "run folder name is ```run_samples/```\n"
   ]
  },
  {
   "cell_type": "code",
   "execution_count": null,
   "metadata": {
    "collapsed": true
   },
   "outputs": [],
   "source": [
    "dff_pry = pd.DataFrame()\n",
    "dff_rel = pd.DataFrame()\n",
    "\n",
    "for pat in df_clinical['PATIENT'].unique().tolist():\n",
    "    pry_com = df_clinical[(df_clinical['PATIENT'] == pat) & (df_clinical['STAGE'] == 'primary')]['COMPARISON'].tolist()[0]\n",
    "    rel_com = df_clinical[(df_clinical['PATIENT'] == pat) & (df_clinical['STAGE'] == 'relapse')]['COMPARISON'].tolist()[0]\n",
    "    \n",
    "    if (pat != 'PAT3') and (pat != 'PAT4'):   \n",
    "        print(pat)\n",
    "        dire_in = PATS_DIRS[pat]\n",
    "            \n",
    "        df_pry = pd.read_table(os.path.join(dire_in, pat, pry_com,\n",
    "                            pry_com+'_strelka_uniq_all_anno_vep92_categories_filt_snps_cluster.maf'),\n",
    "                            sep='\\t',low_memory=False)\n",
    "        df_rel = pd.read_table(os.path.join(dire_in, pat, rel_com,\n",
    "                            rel_com+'_strelka_uniq_all_anno_vep92_categories_filt_snps_cluster.maf'),\n",
    "                            sep='\\t',low_memory=False)\n",
    "        df_pry = df_pry[df_pry['mut_type'] == 'snv']\n",
    "        df_pry['PATIENT'] = pat\n",
    "        \n",
    "        df_rel = df_rel[df_rel['mut_type'] == 'snv']\n",
    "        df_rel['PATIENT'] = pat\n",
    "\n",
    "        dff_pry = dff_pry.append(df_pry[['#CHROM', 'POS','REF', 'ALT', 'PATIENT']], ignore_index=True)\n",
    "        dff_rel = dff_rel.append(df_rel[['#CHROM', 'POS','REF', 'ALT', 'PATIENT']], ignore_index=True)"
   ]
  },
  {
   "cell_type": "code",
   "execution_count": null,
   "metadata": {
    "collapsed": true
   },
   "outputs": [],
   "source": [
    "dff_pry.to_csv(os.path.join(out_path,\"run_samples_treatment/primary/simple_input.tsv\"),\n",
    "                                                                                 sep='\\t', index=False)\n",
    "dff_rel.to_csv(os.path.join(out_path,\"run_samples_treatment/relapse/simple_input.tsv\"),\n",
    "                                                                                 sep='\\t', index=False)"
   ]
  },
  {
   "cell_type": "markdown",
   "metadata": {},
   "source": [
    "For this input deconstructSigs was run: \n",
    "\n",
    "```python assign_signature_to_mutation.py -i run_samples_treatment/primary/simple_input.tsv -o run_samples_treatment/primary -s ../../ext_files/run_deconstructSig/leukemia_signatures.pcawg -t TALL_relapse_subset```\n",
    "\n",
    "For this input deconstructSigs was run: \n",
    "\n",
    "```python assign_signature_to_mutation.py -i run_samples_treatment/relapse/simple_input.tsv -o run_samples_treatment/relapse -s ../../ext_files/run_deconstructSig/leukemia_signatures.pcawg -t TALL_relapse_subset```"
   ]
  },
  {
   "cell_type": "code",
   "execution_count": null,
   "metadata": {
    "collapsed": true
   },
   "outputs": [],
   "source": [
    "dff_pry.to_csv(os.path.join(out_path,\"run_samples_hemato/primary/simple_input.tsv\"),\n",
    "                                                                                  sep='\\t', index=False)\n",
    "dff_rel.to_csv(os.path.join(out_path,\"run_samples_hemato/relapse/simple_input.tsv\"),\n",
    "                                                                                  sep='\\t', index=False)"
   ]
  },
  {
   "cell_type": "markdown",
   "metadata": {},
   "source": [
    "For this input deconstructSigs was run: \n",
    "\n",
    "```python assign_signature_to_mutation.py -i run_samples_hemato/primary/simple_input.tsv -o run_samples_hemato/primary -s ../../ext_files/run_deconstructSig/signatures_added.pcawg -t TALL_HSCP_comparative```\n",
    "\n",
    "For this input deconstructSigs was run: \n",
    "\n",
    "```python assign_signature_to_mutation.py -i run_samples_hemato/relapse/simple_input.tsv -o run_samples_hemato/relapse -s ../../ext_files/run_deconstructSig/signatures_added.pcawg -t TALL_HSCP_comparative```"
   ]
  },
  {
   "cell_type": "code",
   "execution_count": null,
   "metadata": {
    "collapsed": true
   },
   "outputs": [],
   "source": [
    "dff_pry.to_csv(os.path.join(out_path,\"run_samples/primary/simple_input.tsv\"),\n",
    "                                                                                  sep='\\t', index=False)\n",
    "dff_rel.to_csv(os.path.join(out_path,\"run_samples/relapse/simple_input.tsv\"),\n",
    "                                                                                  sep='\\t', index=False)"
   ]
  },
  {
   "cell_type": "markdown",
   "metadata": {},
   "source": [
    "For this input deconstructSigs was run: \n",
    "\n",
    "```python assign_signature_to_mutation.py -i run_samples/primary/simple_input.tsv -o run_samples/primary -s ../../ext_files/run_deconstructSig/signatures.pcawg -t TALL_subset```\n",
    "\n",
    "For this input deconstructSigs was run: \n",
    "\n",
    "```python assign_signature_to_mutation.py -i run_samples/relapse/simple_input.tsv -o run_samples/relapse -s ../../ext_files/run_deconstructSig/signatures.pcawg -t TALL_subset```"
   ]
  },
  {
   "cell_type": "markdown",
   "metadata": {},
   "source": [
    "### all subsets together"
   ]
  },
  {
   "cell_type": "markdown",
   "metadata": {},
   "source": [
    "After seeing no evidence of treatment signatures we created an input with all primary and relapse mutations together but with a column specifying them in privates (primary and relapse) or shared. The results of the fitting of this run were used in Figure 3a.\n",
    "\n",
    "run folder name is ```run_subsets_together/```"
   ]
  },
  {
   "cell_type": "code",
   "execution_count": null,
   "metadata": {
    "collapsed": true,
    "scrolled": true
   },
   "outputs": [],
   "source": [
    "mutations = pd.DataFrame()\n",
    "\n",
    "for pat in df_clinical['PATIENT'].unique().tolist():\n",
    "    pry_com = df_clinical[(df_clinical['PATIENT'] == pat) & (df_clinical['STAGE'] == 'primary')]['COMPARISON'].tolist()[0]\n",
    "    rel_com = df_clinical[(df_clinical['PATIENT'] == pat) & (df_clinical['STAGE'] == 'relapse')]['COMPARISON'].tolist()[0]\n",
    "    \n",
    "    if (pat != 'PAT3') and (pat != 'PAT4'):   \n",
    "        print(pat)\n",
    "        dire_in = PATS_DIRS[pat]\n",
    "        df_pry = pd.read_table(os.path.join(dire_in, pat, pry_com,\n",
    "                            pry_com+'_strelka_uniq_all_anno_vep92_categories_filt_snps_cluster.maf'),\n",
    "                            sep='\\t',low_memory=False)\n",
    "      \n",
    "        df_rel = pd.read_table(os.path.join(dire_in, pat, rel_com,\n",
    "                            rel_com+'_strelka_uniq_all_anno_vep92_categories_filt_snps_cluster.maf'),\n",
    "                            sep='\\t',low_memory=False)\n",
    "        \n",
    "        if 'AF_less_001' in df_pry.columns:\n",
    "            df_pry.rename(columns={'AF_less_001':'AF_less_0.01'}, inplace=True)\n",
    "            df_rel.rename(columns={'AF_less_001':'AF_less_0.01'}, inplace=True)\n",
    "\n",
    "        df_pry = df_pry[df_pry['mut_type'] == 'snv']\n",
    "        df_pry['PATIENT'] = pat\n",
    "        \n",
    "        df_rel = df_rel[df_rel['mut_type'] == 'snv']\n",
    "        df_rel['PATIENT'] = pat\n",
    "        \n",
    "        all_pry_variants = set(df_pry['Variant'].unique())\n",
    "        all_rel_variants = set(df_rel['Variant'].unique())\n",
    "    \n",
    "        print(len(all_pry_variants))\n",
    "        print(len(all_rel_variants))\n",
    "        \n",
    "        shared_variants = all_pry_variants.intersection(all_rel_variants)\n",
    "        private_pry_variants = all_pry_variants.difference(shared_variants)\n",
    "        private_rel_variants = all_rel_variants.difference(shared_variants) \n",
    "\n",
    "        df_shared = df_pry[df_pry['Variant'].isin(shared_variants)]\n",
    "        df_private_pry = df_pry[df_pry['Variant'].isin(private_pry_variants)]\n",
    "        df_private_rel = df_rel[df_rel['Variant'].isin(private_rel_variants)]\n",
    "\n",
    "        df_shared['subset'] = 'shared'\n",
    "        df_private_pry['subset'] = 'private_primary'\n",
    "        df_private_rel['subset'] = 'private_relapse'\n",
    "\n",
    "        df = df_shared.copy()\n",
    "        df = df.append(df_private_pry, ignore_index=True, sort=False)\n",
    "        df = df.append(df_private_rel, ignore_index=True, sort=False)\n",
    "        df['PATIENT'] = pat\n",
    "\n",
    "        df = df.apply(lambda x: get_context_rev(x), axis=1)\n",
    "        df = add_pyrimidine_type(df)\n",
    "\n",
    "        mutations = mutations.append(df, ignore_index=True, sort=False)"
   ]
  },
  {
   "cell_type": "code",
   "execution_count": null,
   "metadata": {
    "collapsed": true
   },
   "outputs": [],
   "source": [
    "mutations.to_csv(os.path.join(out_path,\"run_subsets_together/simple_input.tsv\"), sep='\\t', index=False)"
   ]
  },
  {
   "cell_type": "markdown",
   "metadata": {},
   "source": [
    "For this input deconstructSigs was run: \n",
    "```python assign_signature_to_mutation.py -i run_subsets_together/simple_input.tsv -o run_subsets_together -s ../../ext_files/run_deconstructSig/signatures.pcawg -t TALL_subset```\n"
   ]
  }
 ],
 "metadata": {
  "kernelspec": {
   "display_name": "Python [conda env:noncoding]",
   "language": "python",
   "name": "conda-env-noncoding-py"
  },
  "language_info": {
   "codemirror_mode": {
    "name": "ipython",
    "version": 3
   },
   "file_extension": ".py",
   "mimetype": "text/x-python",
   "name": "python",
   "nbconvert_exporter": "python",
   "pygments_lexer": "ipython3",
   "version": "3.5.6"
  }
 },
 "nbformat": 4,
 "nbformat_minor": 2
}
