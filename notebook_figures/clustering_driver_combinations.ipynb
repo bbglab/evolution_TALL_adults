{
 "cells": [
  {
   "cell_type": "markdown",
   "metadata": {},
   "source": [
    "This notebook clusters cohorts according to their driver genes composition. The plots correspond to Figure 1d in the paper. The three plots were then joined with SVG editing software. It takes as input the list of candidate driver mutations outputted by driver_mutations_primary_ALL.ipynb"
   ]
  },
  {
   "cell_type": "code",
   "execution_count": null,
   "metadata": {
    "collapsed": true
   },
   "outputs": [],
   "source": [
    "import pandas as pd\n",
    "import numpy as np\n",
    "import os\n",
    "import glob\n",
    "from collections import OrderedDict\n",
    "\n",
    "from scipy.stats import entropy\n",
    "import scipy.cluster.hierarchy as hierarchy\n",
    "from scipy.spatial.distance import pdist,squareform\n",
    "\n",
    "import matplotlib.pyplot as plt\n",
    "import matplotlib.gridspec as gridspec\n",
    "import seaborn as sns\n",
    "\n",
    "from aux_data_in_pyvar import config_rcparams,COLORS_SUBTYPES\n",
    "\n",
    "pd.set_option('display.max_columns', None)\n",
    "pd.set_option('display.max_rows', None)\n",
    "pd.set_option('display.max_colwidth', -1)"
   ]
  },
  {
   "cell_type": "code",
   "execution_count": null,
   "metadata": {
    "collapsed": true
   },
   "outputs": [],
   "source": [
    "# FUNCTIONS\n",
    "\n",
    "def normalize(rw, dict_sum):\n",
    "    return rw/dict_sum[rw.name]\n",
    "\n",
    "def jensen_shannon(x, y):\n",
    "    m = 0.5 * (x + y)\n",
    "    return 0.5 * (entropy(x, m) + entropy(y, m))"
   ]
  },
  {
   "cell_type": "code",
   "execution_count": null,
   "metadata": {
    "collapsed": true
   },
   "outputs": [],
   "source": [
    "config_rcparams()"
   ]
  },
  {
   "cell_type": "code",
   "execution_count": null,
   "metadata": {
    "collapsed": true
   },
   "outputs": [],
   "source": [
    "df = pd.read_csv(\"candidate_driver_muts.tsv\", sep='\\t')## add the path where this file is stored\n",
    "\n",
    "# filter \n",
    "df_pry = df[df['STAGE'] == 'primary']\n",
    "df_pry = df_pry[df_pry['SUBTYPE_LABEL'] != 'PHALL'] # very few patients (only 4)\n",
    "df_pry = df_pry[df_pry['COHORT'] != 'PEDIATRIC ALL (Li et al., 2019, Blood)']"
   ]
  },
  {
   "cell_type": "code",
   "execution_count": null,
   "metadata": {
    "collapsed": true
   },
   "outputs": [],
   "source": [
    "# black_list genes highly mutated in two cohorts coming from the same project. Suspects of FP\n",
    "potential_false_positives = ['MSH3', 'MAP3K4']\n",
    "df_pry = df_pry[~df_pry['SYMBOL'].isin(potential_false_positives)]"
   ]
  },
  {
   "cell_type": "code",
   "execution_count": null,
   "metadata": {},
   "outputs": [],
   "source": [
    "# count most mutated genes\n",
    "counter = df_pry[['SYMBOL','SUBTYPE_LABEL']].drop_duplicates().groupby(['SYMBOL']).count().sort_values(by='SUBTYPE_LABEL', ascending=False)\n",
    "counter.reset_index(inplace=True)\n",
    "counter.rename(columns={'SUBTYPE_LABEL':'COUNT'}, inplace=True)\n",
    "counter"
   ]
  },
  {
   "cell_type": "code",
   "execution_count": null,
   "metadata": {
    "collapsed": true
   },
   "outputs": [],
   "source": [
    "# get list of genes which have at least mutations in 2 cohorts\n",
    "genes_to_figure = counter[counter['COUNT']>2]['SYMBOL'].tolist()\n",
    "df_pry = df_pry[df_pry['SYMBOL'].isin(genes_to_figure)]\n",
    "\n",
    "df_pry_subset = df_pry[['SYMBOL', 'COMPARISON', 'SUBTYPE_LABEL']].drop_duplicates()"
   ]
  },
  {
   "cell_type": "code",
   "execution_count": null,
   "metadata": {},
   "outputs": [],
   "source": [
    "# create a matrix of cohorts as rows and columns as genes with relative counts of mutations\n",
    "\n",
    "num_pat = df_pry_subset[['SUBTYPE_LABEL', 'COMPARISON']].drop_duplicates().groupby('SUBTYPE_LABEL').count()\n",
    "\n",
    "df_pivot = pd.DataFrame(index=df_pry_subset.SUBTYPE_LABEL.unique(), columns=df_pry_subset.SYMBOL.unique())\n",
    "\n",
    "grps = df_pry_subset.groupby(['SUBTYPE_LABEL', 'SYMBOL'])\n",
    "\n",
    "for g in grps.groups:\n",
    "    df_subset = grps.get_group(g)\n",
    "    mut_pats = len(df_subset['COMPARISON'].unique())\n",
    "    \n",
    "    df_pivot.set_value(g[0], g[1], mut_pats/num_pat.loc[g[0], 'COMPARISON'])\n",
    "df_pivot = df_pivot.fillna(0)\n",
    "df_pivot"
   ]
  },
  {
   "cell_type": "code",
   "execution_count": null,
   "metadata": {},
   "outputs": [],
   "source": [
    "# get the total per cohort\n",
    "dicc_total = df_pivot.sum(axis=1).to_dict()\n",
    "dicc_total"
   ]
  },
  {
   "cell_type": "code",
   "execution_count": null,
   "metadata": {},
   "outputs": [],
   "source": [
    "# normalize the relative counts\n",
    "df_pivot = df_pivot.apply(lambda x: normalize(x, dicc_total), axis=1)\n",
    "df_pivot"
   ]
  },
  {
   "cell_type": "code",
   "execution_count": null,
   "metadata": {
    "collapsed": true
   },
   "outputs": [],
   "source": [
    "# sort genes in matrix by number of samples mutated in descending and create sorted lists to use in plot\n",
    "sorter = list(df_pry_subset[['SYMBOL','COMPARISON']].groupby(\"SYMBOL\").count().sort_values(by='COMPARISON',ascending=False).index)\n",
    "df_pivot = df_pivot[sorter]\n",
    "list_genes = df_pivot.columns\n",
    "list_subtypes = df_pry_subset['SUBTYPE_LABEL'].unique()\n",
    "counter = df_pry_subset.groupby(['SYMBOL', 'SUBTYPE_LABEL']).count()"
   ]
  },
  {
   "cell_type": "code",
   "execution_count": null,
   "metadata": {},
   "outputs": [],
   "source": [
    "# get annotations of total number of samples on each matrix cell\n",
    "df_annot = pd.DataFrame(index=df_pry_subset.SUBTYPE_LABEL.unique(), columns=df_pry_subset.SYMBOL.unique())\n",
    "\n",
    "grps = df_pry_subset.groupby(['SUBTYPE_LABEL', 'SYMBOL'])\n",
    "\n",
    "for g in grps.groups:\n",
    "    df_subset = grps.get_group(g)\n",
    "    mut_pats = len(df_subset['COMPARISON'].unique())\n",
    "    \n",
    "    df_annot.set_value(g[0], g[1], mut_pats)"
   ]
  },
  {
   "cell_type": "code",
   "execution_count": null,
   "metadata": {
    "collapsed": true
   },
   "outputs": [],
   "source": [
    "# also sort annotations that accompany matrix\n",
    "df_annot = df_annot.fillna(0)\n",
    "df_annot = df_annot[sorter]"
   ]
  },
  {
   "cell_type": "code",
   "execution_count": null,
   "metadata": {},
   "outputs": [],
   "source": [
    "## MAKE PLOTS\n",
    "\n",
    "output = \"cancer_genes_in_ALL_primary.svg\"\n",
    "\n",
    "fig = plt.figure(figsize=(14, 14))\n",
    "fig.suptitle(\"Mutated cancer genes in ALL subtypes\")\n",
    "\n",
    "gs = gridspec.GridSpec(ncols=2, nrows=2, width_ratios=[2, 1], height_ratios=[1,4],hspace=0.5)\n",
    "\n",
    "# HIEARCHICAL CLUSTERING\n",
    "ax0 = fig.add_subplot(gs[0,0])\n",
    "\n",
    "X = df_pivot.values\n",
    "Y = pdist(X, metric=jensen_shannon)\n",
    "linkage = hierarchy.linkage(Y, method='ward')\n",
    "dist_matrix = squareform(Y)\n",
    "\n",
    "hierarchy.dendrogram(linkage,truncate_mode='level',\n",
    "                    labels=df_pivot.index.values,\n",
    "                    leaf_rotation=90,\n",
    "                    color_threshold=0,\n",
    "                    above_threshold_color='gray',\n",
    "                    no_plot=False,\n",
    "                    ax=ax0)\n",
    "\n",
    "xlabels = [item.get_text() for item in ax0.axes.get_xticklabels()]\n",
    "xticks = ax0.axes.get_xticks()\n",
    "\n",
    "# HEATMAP\n",
    "\n",
    "ax1 = fig.add_subplot(gs[1,0])\n",
    "df_values = df_pivot.reindex(xlabels).T\n",
    "df_nums = df_annot.reindex(xlabels).T\n",
    "\n",
    "ax1.set_ylim([-1, len(list_genes)+1])\n",
    "\n",
    "sns.heatmap(df_values, annot=df_nums, ax=ax1, cmap='Blues',\n",
    "            cbar_kws={'shrink':0.2,'use_gridspec':True, 'pad':0.01})\n",
    "\n",
    "ax1.set_yticks(range(0,len(list_genes)+1, 1))\n",
    "ax1.set_yticklabels(labels=list_genes, rotation=0, fontstyle='italic',va='center')\n",
    "\n",
    "#BARPLOT\n",
    "ax2 = fig.add_subplot(gs[1,1], sharey=ax1)\n",
    "barWidth = 1\n",
    "\n",
    "for i,gene in enumerate(list_genes):\n",
    "    suma = 0\n",
    "    for j,sub in enumerate(list_subtypes):\n",
    "        if j == 0:\n",
    "            try:\n",
    "                ax2.barh(i,counter.loc[(gene, sub), 'COMPARISON'], color=COLORS_SUBTYPES[sub], edgecolor='white', \n",
    "                            height=1, label=sub, align='edge')\n",
    "                suma = suma+counter.loc[(gene, sub), 'COMPARISON']\n",
    "            except KeyError:\n",
    "                ax2.barh(i,0, color=COLORS_SUBTYPES[sub], edgecolor='white', \n",
    "                            height=1, label=sub, align='edge')\n",
    "                suma = suma+0\n",
    "        else:\n",
    "            try:\n",
    "                ax2.barh(i,counter.loc[(gene, sub), 'COMPARISON'], color=COLORS_SUBTYPES[sub], edgecolor='white', \n",
    "                        height=1, label=sub, left=suma, align='edge')\n",
    "                suma = suma+counter.loc[(gene, sub), 'COMPARISON']\n",
    "            except KeyError:\n",
    "                ax2.barh(i, 0, color=COLORS_SUBTYPES[sub], edgecolor='white', \n",
    "                            height=1, label=sub, left=suma, align='edge')\n",
    "                suma = suma+0\n",
    "\n",
    "ax2.spines['right'].set_visible(False)\n",
    "ax2.spines['bottom'].set_visible(False)\n",
    "ax2.xaxis.set_tick_params(reset=True,labeltop=True, top=True, bottom=False, labelbottom=False)   \n",
    "ax2.set_yticks(range(0,len(list_genes)+1, 1))\n",
    "ax2.set_yticklabels(labels=list_genes, rotation=0, fontstyle='italic', va='center')\n",
    "\n",
    "# Legend\n",
    "handles, labels = plt.gca().get_legend_handles_labels()\n",
    "by_label = OrderedDict(zip(labels, handles))\n",
    "plt.legend(by_label.values(), by_label.keys(),prop={'size': 10},ncol=2, bbox_to_anchor=(1, 1))\n",
    "\n",
    "plt.tight_layout()\n",
    "plt.savefig(output, bbox_inches='tight', dpi=300)\n",
    "plt.show()"
   ]
  }
 ],
 "metadata": {
  "kernelspec": {
   "display_name": "Python [conda env:filter_pipeline]",
   "language": "python",
   "name": "conda-env-filter_pipeline-py"
  },
  "language_info": {
   "codemirror_mode": {
    "name": "ipython",
    "version": 3
   },
   "file_extension": ".py",
   "mimetype": "text/x-python",
   "name": "python",
   "nbconvert_exporter": "python",
   "pygments_lexer": "ipython3",
   "version": "3.7.6"
  }
 },
 "nbformat": 4,
 "nbformat_minor": 2
}
