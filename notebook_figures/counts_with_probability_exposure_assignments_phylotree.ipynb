{
 "cells": [
  {
   "cell_type": "markdown",
   "metadata": {},
   "source": [
    "This notebook creates the input for the mutation rate models of each observable signature 5 contribution per patient of each subset (private primary, private relapse and shared) of clonal SNVs.\n",
    "\n",
    "With this data the phylogenetic trees are also drawn which corresponds to Figure 3b of the paper\n",
    "\n",
    "This piece of code relies on a workspace directory structure such as:\n",
    "```\n",
    "cohort/\n",
    "\tpatientID/\n",
    "\t\tDxTumorID_vs_normalID/\n",
    "\t\tReTumorID_vs_normalID/ (sometimes)\n",
    "\n",
    "```\n",
    " patientID, DxTumorID etc can be found in ../ext_files/all_cohort_clinical_groups.tsv\n",
    " \n",
    "Be aware that the filtered mafs with clonal classification and joined mutations after running the scripts in ```filter/```  have the following file name: ```TumorID_vs_normalID + _strelka_uniq_all_anno_vep92_categories_filt_snps_cluster.maf``` \n",
    ".This file name is used in the following code."
   ]
  },
  {
   "cell_type": "code",
   "execution_count": null,
   "metadata": {
    "collapsed": true
   },
   "outputs": [],
   "source": [
    "import sys, os\n",
    "os.environ[\"PATH\"] = os.path.dirname(sys.executable) + os.pathsep + os.environ[\"PATH\"]\n",
    "import matplotlib\n",
    "matplotlib.use('Agg')\n",
    "import pandas as pd\n",
    "import os\n",
    "import matplotlib.pyplot as plt\n",
    "import matplotlib.gridspec as gridspec\n",
    "from matplotlib import collections as mc\n",
    "\n",
    "from aux_functions import stage_mapping, get_context_rev,add_pyrimidine_type, df_to_dict,count_variant_type, get_muts_x_signature\n",
    "from aux_data_in_pyvar import PATS_DIRS, config_rcparams\n",
    "\n",
    "pd.set_option('display.max_columns', None)\n",
    "pd.set_option('display.max_rows', None)\n",
    "pd.set_option('display.max_colwidth', -1)\n",
    "\n",
    "%load_ext autoreload\n",
    "%autoreload 2"
   ]
  },
  {
   "cell_type": "code",
   "execution_count": null,
   "metadata": {
    "collapsed": true
   },
   "outputs": [],
   "source": [
    "config_rcparams()\n",
    "plt.rcParams['font.size'] = 14"
   ]
  },
  {
   "cell_type": "code",
   "execution_count": null,
   "metadata": {
    "collapsed": true
   },
   "outputs": [],
   "source": [
    "def figure_phylo_tree(df,sig, out_dir, clonality):\n",
    "    # PLOT\n",
    "\n",
    "    fig = plt.figure(figsize=(20, 80))\n",
    "\n",
    "    outer = gridspec.GridSpec(len(df['PATIENT'].unique()), 1, wspace=0, hspace=0)\n",
    "\n",
    "    j = 0\n",
    "\n",
    "    num_pat = len(df['PATIENT'].unique())\n",
    "\n",
    "    for i, rw in df.iterrows():\n",
    "\n",
    "        # CREATE SEGMENTS\n",
    "        # lines as proportion in percentatge\n",
    "        if round(df.loc[i, 'PRIVATE_PRY_'+sig]) > round(\n",
    "                df.loc[i, 'PRIVATE_REL_'+sig]):\n",
    "\n",
    "            total_scale = df.loc[i, 'TRUNK_'+sig] + df.loc[i, 'PRIVATE_PRY_'+sig]\n",
    "        else:\n",
    "            total_scale = df.loc[i, 'TRUNK_'+sig] + df.loc[i, 'PRIVATE_REL_'+sig]\n",
    "\n",
    "        line_trunk = (df.loc[i, 'TRUNK_'+sig] / total_scale) * 100\n",
    "        line_pry = (df.loc[i, 'PRIVATE_PRY_'+sig] / total_scale) * 100\n",
    "        line_rel = (df.loc[i, 'PRIVATE_REL_'+sig] / total_scale) * 100\n",
    "\n",
    "        lines = [[(0, 1), (line_trunk, 1)], [(line_trunk, 1), (line_trunk + line_rel, 2.4)],\n",
    "                 [(line_trunk, 1), (line_trunk + line_pry, 0.2)]]\n",
    "        c = ['#006837', '#fd8d3c','#2c7fb8']\n",
    "\n",
    "        # PLOT\n",
    "        line_segments = mc.LineCollection(lines, linewidths=20,\n",
    "                                          colors=c, linestyle='solid')\n",
    "\n",
    "        ax = plt.subplot(outer[j, 0])\n",
    "        ax.add_collection(line_segments)\n",
    "        ax.scatter(line_trunk, 1, s=1000, color='r', zorder=3)\n",
    "\n",
    "        ax.set_ylabel('{} \\n {} years,\\n{}, {}'.format(df.loc[i, 'PATIENT'],\n",
    "                                                   int(df.loc[i, 'DIAGNOSIS_AGE_YEARS']),\n",
    "                                                       df.loc[i, 'SEX'],\n",
    "                                                       df.loc[i, 'IMMUNO_CLASS']), fontsize=60, labelpad=50)\n",
    "\n",
    "\n",
    "        ax.set_ylim([-3, 5])\n",
    "        ax.set_xlim([0, 100])\n",
    "        ax.spines[\"right\"].set_visible(False)\n",
    "\n",
    "        ax.annotate('{}'.format(int(round(df.loc[i, 'TRUNK_'+sig]))),\n",
    "                    (int(round(line_trunk/3)), -1), textcoords='data',\n",
    "                    size=40, horizontalalignment='center', rotation=90)\n",
    "        ax.annotate('{}'.format(int(round(df.loc[i, 'PRIVATE_PRY_'+sig]))),\n",
    "                    (int(round((line_trunk + line_pry) - (line_pry / 2))), -1.2), textcoords='data',\n",
    "                    size=40, verticalalignment='center', rotation=90, ha='right')\n",
    "        ax.annotate('{}'.format(int(round(df.loc[i, 'PRIVATE_REL_'+sig]))),\n",
    "                    (int(round((line_trunk + line_pry) - (line_pry / 2))), 3), textcoords='data', size=40,\n",
    "                    verticalalignment='center', rotation=90, ha='left')\n",
    "        ax.annotate('{} days'.format(int(df.loc[i, 'PRIMARY_TO_RELAPSE_AGE_DAYS'])),\n",
    "                        (100, 1), textcoords='data', size=40, verticalalignment='center', rotation=90)\n",
    "\n",
    "        if j < (num_pat-1):\n",
    "            fig.add_subplot(ax)\n",
    "            plt.yticks([], [])\n",
    "            plt.xticks([], [])\n",
    "\n",
    "        else:\n",
    "            fig.add_subplot(ax)\n",
    "            plt.tick_params(axis='x', which='major', labelsize=50)\n",
    "            plt.yticks([], [])\n",
    "\n",
    "        j = j + 1\n",
    "\n",
    "    plt.tight_layout()\n",
    "\n",
    "    plt.xlabel(\"Molecular time (%)\", rotation=180, fontsize=80)\n",
    "    plt.xticks(rotation=90)\n",
    "\n",
    "    fig.savefig(os.path.join(out_dir,\n",
    "        \"phylo_tree_muts_\"+clonality+\"_\"+sig+\".svg\"),\n",
    "        dpi=500, bbox_inches='tight',\n",
    "        orientation='portrait')\n",
    "    plt.show()\n",
    "    plt.close()"
   ]
  },
  {
   "cell_type": "code",
   "execution_count": null,
   "metadata": {
    "collapsed": true
   },
   "outputs": [],
   "source": [
    "clinical = pd.read_csv(\"\", sep='\\t') # Additional file 1 Table S1\n",
    "clinical = clinical[~clinical['Patient_id'].isin(['PAT3', 'PAT4'])]\n",
    "clinical.head()"
   ]
  },
  {
   "cell_type": "markdown",
   "metadata": {},
   "source": [
    "### Signatures contribution to each subset"
   ]
  },
  {
   "cell_type": "code",
   "execution_count": null,
   "metadata": {
    "collapsed": true
   },
   "outputs": [],
   "source": [
    "# Path to the results from fitting of signatures of deconstructSigs run. Here we expect the results from\n",
    "# all samples (primary and relapse) together. If you check ../ext_runs/run_deconstructSig/make_inputs_fitting_adults.ipynb\n",
    "# it should correspond to the results file signatures_weight.csv of a run with folder named run_subsets_together/\n",
    "deconstruct_run = \"\" "
   ]
  },
  {
   "cell_type": "code",
   "execution_count": null,
   "metadata": {
    "collapsed": true
   },
   "outputs": [],
   "source": [
    "clonal = True"
   ]
  },
  {
   "cell_type": "code",
   "execution_count": null,
   "metadata": {
    "collapsed": true,
    "scrolled": true
   },
   "outputs": [],
   "source": [
    "signature_subsets = pd.DataFrame()\n",
    "\n",
    "for pat in clinical['Patient_id'].unique():\n",
    "\n",
    "    # GET INFO\n",
    "    pat_clinical = clinical[clinical['Patient_id'] == pat].reset_index()\n",
    "    com_pry = pat_clinical.loc[0, 'Primary_seq_id']+'_vs_'+pat_clinical.loc[0, 'Remission_seq_id']\n",
    "    com_rel = pat_clinical.loc[0, 'Relapse_seq_id']+'_vs_'+pat_clinical.loc[0, 'Remission_seq_id']\n",
    "\n",
    "    print(pat)\n",
    "\n",
    "    # READ MUTATION DATASET\n",
    "    df_pry = pd.read_table(os.path.join(PATS_DIRS[pat], pat, com_pry,\n",
    "                                        com_pry+'_strelka_uniq_all_anno_vep92_categories_filt_snps_cluster.maf'),\n",
    "                           sep='\\t',low_memory=False)\n",
    "\n",
    "    df_rel = pd.read_table(os.path.join(PATS_DIRS[pat], pat, com_rel,\n",
    "                                        com_rel+'_strelka_uniq_all_anno_vep92_categories_filt_snps_cluster.maf'), \n",
    "                        sep='\\t',low_memory=False)\n",
    "\n",
    "    # GET CLONALS and SNVS\n",
    "    df_pry = df_pry[df_pry['mut_type'] == 'snv']\n",
    "    df_rel = df_rel[df_rel['mut_type'] == 'snv']\n",
    "\n",
    "    print(len(df_pry))\n",
    "    print(len(df_rel))\n",
    "\n",
    "    # SEPARATE CLONALS SUBCLONALS\n",
    "    if clonal == True:\n",
    "        df_pry = df_pry[df_pry['clonal_classification'] == 'clonal']\n",
    "        df_rel = df_rel[df_rel['clonal_classification'] == 'clonal']\n",
    "\n",
    "    # GET SUBSETS\n",
    "    all_pry_variants = set(df_pry['Variant'].unique())\n",
    "    all_rel_variants = set(df_rel['Variant'].unique())\n",
    "\n",
    "    print(len(all_pry_variants))\n",
    "    print(len(all_rel_variants))\n",
    "\n",
    "    shared_variants = all_pry_variants.intersection(all_rel_variants)\n",
    "    private_pry_variants = all_pry_variants.difference(shared_variants)\n",
    "    private_rel_variants = all_rel_variants.difference(shared_variants) \n",
    "\n",
    "    df_shared = df_pry[df_pry['Variant'].isin(shared_variants)]\n",
    "    df_private_pry = df_pry[df_pry['Variant'].isin(private_pry_variants)]\n",
    "    df_private_rel = df_rel[df_rel['Variant'].isin(private_rel_variants)]\n",
    "\n",
    "    for signature in ['SBS1', 'SBS5', 'SBS18']:\n",
    "\n",
    "        count_pp, count_pr, count_sh = get_muts_x_signature(sh=df_shared, pp=df_private_pry, \n",
    "                                                        pr=df_private_rel, pat=pat, sig=signature, \n",
    "                                                        prob_file_path=deconstruct_run)\n",
    "\n",
    "        signature_subsets.set_value(index=pat, col='PRIVATE_PRY_'+signature, value=count_pp)\n",
    "        signature_subsets.set_value(index=pat, col='PRIVATE_REL_'+signature, value=count_pr)   \n",
    "        signature_subsets.set_value(index=pat, col='TRUNK_'+signature, value=count_sh)   \n",
    "\n",
    "\n",
    "    # ADD info for phylotree\n",
    "    signature_subsets.set_value(index=pat, col='DIAGNOSIS_AGE_YEARS', value=pat_clinical.loc[0, 'Primary_diagnosis_age'])\n",
    "    signature_subsets.set_value(index=pat, col='PRIMARY_TO_RELAPSE_AGE_DAYS', value=pat_clinical.loc[0, 'days_between_pry_rel'])\n",
    "    signature_subsets.set_value(index=pat, col='IMMUNO_CLASS', value=pat_clinical.loc[0,'Primary_immunoclassification'])\n",
    "    signature_subsets.set_value(index=pat, col='SEX', value=pat_clinical.loc[0,'Sex'])"
   ]
  },
  {
   "cell_type": "code",
   "execution_count": null,
   "metadata": {
    "collapsed": true
   },
   "outputs": [],
   "source": [
    "signature_subsets.reset_index(inplace=True)\n",
    "signature_subsets.rename(columns={'index':'PATIENT'}, inplace=True)\n",
    "signature_subsets.sort_values('DIAGNOSIS_AGE_YEARS', ascending=True,  inplace=True)  # sort by age"
   ]
  },
  {
   "cell_type": "code",
   "execution_count": null,
   "metadata": {
    "collapsed": true
   },
   "outputs": [],
   "source": [
    "signature_subsets.to_csv(\"../intermediate_files/signature_counts.tsv\", sep='\\t', index=False)"
   ]
  },
  {
   "cell_type": "markdown",
   "metadata": {},
   "source": [
    "### phylotree plot"
   ]
  },
  {
   "cell_type": "code",
   "execution_count": null,
   "metadata": {
    "collapsed": true
   },
   "outputs": [],
   "source": [
    "signature = 'SBS5'"
   ]
  },
  {
   "cell_type": "code",
   "execution_count": null,
   "metadata": {
    "collapsed": true
   },
   "outputs": [],
   "source": [
    "output_path = \"\" # output path for the figure"
   ]
  },
  {
   "cell_type": "code",
   "execution_count": null,
   "metadata": {
    "collapsed": true
   },
   "outputs": [],
   "source": [
    "figure_phylo_tree(signature_subsets, signature, output_path, 'clonal')"
   ]
  },
  {
   "cell_type": "code",
   "execution_count": null,
   "metadata": {
    "collapsed": true
   },
   "outputs": [],
   "source": [
    "len(signature_subsets)"
   ]
  },
  {
   "cell_type": "code",
   "execution_count": null,
   "metadata": {
    "collapsed": true
   },
   "outputs": [],
   "source": [
    "signature_subsets"
   ]
  },
  {
   "cell_type": "code",
   "execution_count": null,
   "metadata": {
    "collapsed": true
   },
   "outputs": [],
   "source": []
  }
 ],
 "metadata": {
  "kernelspec": {
   "display_name": "Python [conda env:filter_pipeline]",
   "language": "python",
   "name": "conda-env-filter_pipeline-py"
  },
  "language_info": {
   "codemirror_mode": {
    "name": "ipython",
    "version": 3
   },
   "file_extension": ".py",
   "mimetype": "text/x-python",
   "name": "python",
   "nbconvert_exporter": "python",
   "pygments_lexer": "ipython3",
   "version": "3.7.6"
  }
 },
 "nbformat": 4,
 "nbformat_minor": 2
}
