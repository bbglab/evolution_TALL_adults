{
 "cells": [
  {
   "cell_type": "markdown",
   "metadata": {},
   "source": [
    "This notebook provides a table with the altered driver genes in primary samples of ALL (Additional file 1 Figure S2). At the end of the notebook there are also some chi square test to check for differences between groups. The statistics and p-values are then provided in the text"
   ]
  },
  {
   "cell_type": "code",
   "execution_count": null,
   "metadata": {
    "collapsed": true
   },
   "outputs": [],
   "source": [
    "import pandas as pd\n",
    "import os\n",
    "import numpy as np\n",
    "import glob\n",
    "from collections import defaultdict\n",
    "\n",
    "from scipy.stats import chi2_contingency\n",
    "from scipy.stats import chi2\n",
    "\n",
    "import seaborn\n",
    "import matplotlib.pyplot as plt\n",
    "import matplotlib.patches as mpatch\n",
    "import matplotlib.gridspec as gridspec\n",
    "from matplotlib.patches import Rectangle\n",
    "\n",
    "from aux_data_in_pyvar import config_rcparams,COLORS_SUBTYPES,COLORS_AGES_TALL\n",
    "\n",
    "pd.set_option('display.max_columns', None)\n",
    "pd.set_option('display.max_rows', None)\n",
    "pd.set_option('display.max_colwidth', -1)"
   ]
  },
  {
   "cell_type": "code",
   "execution_count": null,
   "metadata": {
    "collapsed": true
   },
   "outputs": [],
   "source": [
    "config_rcparams()\n",
    "\n",
    "def stack_barplot(df, ax_grid, subtype_labels):\n",
    "    \n",
    "    suma_bar = 0\n",
    "    \n",
    "    for c in subtype_labels:\n",
    "        df_c = df[df['SUBTYPE_LABEL'] == c].reset_index()\n",
    "        \n",
    "        if df_c.empty == False:\n",
    "        \n",
    "            ax_grid.barh(0, df_c.loc[0,'NUM PATIENTS'], color=COLORS_SUBTYPES[c], \n",
    "                     edgecolor='white', height=1, left=suma_bar)\n",
    "            suma_bar = suma_bar + df_c.loc[0,'NUM PATIENTS']\n",
    "    return ax_grid"
   ]
  },
  {
   "cell_type": "code",
   "execution_count": null,
   "metadata": {},
   "outputs": [],
   "source": [
    "# literature list of genes\n",
    "df_list_lite = pd.read_csv(\"../ext_files/literature/mutations_lite.tsv\", sep='\\t')\n",
    "df_list_lite.head()"
   ]
  },
  {
   "cell_type": "code",
   "execution_count": null,
   "metadata": {
    "collapsed": true
   },
   "outputs": [],
   "source": [
    "# Read candidate mutations\n",
    "\n",
    "# this dataframe is the result after running ../processing/driver_mutations_primary_ALL.ipynb\n",
    "df_all = pd.read_csv(\"candidate_driver_muts.tsv\", sep='\\t') \n",
    "df_all['PATHWAY'] = df_all['PATHWAY'].fillna('other')\n",
    "df_all['SUBTYPE'] = df_all['SUBTYPE'].str.replace('PHALL', 'Ph positive')\n",
    "df_all['SUBTYPE_LABEL'] = df_all['SUBTYPE_LABEL'].str.replace('PHALL', 'Ph positive')\n",
    "df_all = df_all[df_all['STAGE'] == 'primary']\n",
    "\n",
    "# Read detected candidate driver genes per subtype.\n",
    "# You can find this data frame in Additional file 2 Table S3 \n",
    "df_genes = pd.read_csv(\"cancer_genes_ALL.csv\", sep='\\t')"
   ]
  },
  {
   "cell_type": "code",
   "execution_count": null,
   "metadata": {},
   "outputs": [],
   "source": [
    "# FILTER BY STAGE. THIS PLOT IS A LANDSCAPE OF PRIMARY AL LEUKEMIAS\n",
    "df_all_pry = df_all[df_all['STAGE'] == 'primary'] \n",
    "df_all_pry = df_all_pry[~df_all_pry['AGE_RANGE'].isnull()]\n",
    "\n",
    "\n",
    "# SORT COLUMNS BY COHORT AND AGE RANGES\n",
    "order_subtypes = ['TALL Adult','TALL Pediatric', 'BALL Pediatric', 'DUX4-ERG', 'Hypodiploid',\n",
    "                 'Hyperdiploid', 'Ph-like', 'Ph positive','iAMP21', 'Infant MLL-R']\n",
    "\n",
    "grps_lables = df_all_pry.groupby('SUBTYPE_LABEL')\n",
    "\n",
    "df_all_pry = pd.DataFrame()\n",
    "for g in order_subtypes:\n",
    "    df_label = grps_lables.get_group(g)\n",
    "    df_label.sort_values(by=[\"SUBTYPE\",\"AGE_RANGE\"], inplace=True, ascending=False)\n",
    "    df_all_pry = df_all_pry.append(df_label, ignore_index=True)\n",
    "\n",
    "# create list of sorted samples\n",
    "samples = df_all_pry[['SUBTYPE_LABEL', 'AGE_RANGE', 'COMPARISON']].drop_duplicates()['COMPARISON'].tolist()"
   ]
  },
  {
   "cell_type": "code",
   "execution_count": null,
   "metadata": {
    "collapsed": true
   },
   "outputs": [],
   "source": [
    "# CREATE DICTIONARY WITH GENE AS KEY AND SUBTYPES AS VALUES\n",
    "# this will help to distinguix between mutations in cohort detected \n",
    "# driver genes by intogen or mutations in \"known\" by literature driver gene\n",
    "\n",
    "dicc_drivers = defaultdict(list)\n",
    "\n",
    "for i,rw in df_genes.iterrows():\n",
    "    if (rw[\"SUBTYPE\"] == 'ALL_Pediatric_WXS_pry'):\n",
    "        dicc_drivers[rw['SYMBOL']].append('TALL_Pediatric_WXS_pry')\n",
    "        dicc_drivers[rw['SYMBOL']].append('BALL_Pediatric_WXS_pry')\n",
    "    elif (rw[\"SUBTYPE\"] == 'ALL_Pediatric_WXS_rel'):\n",
    "        dicc_drivers[rw['SYMBOL']].append('TALL_Pediatric_WXS_rel')\n",
    "        dicc_drivers[rw['SYMBOL']].append('BALL_Pediatric_WXS_rel')\n",
    "    else:    \n",
    "        dicc_drivers[rw['SYMBOL']].append(rw['SUBTYPE'])\n",
    "\n",
    "# complete with literature\n",
    "for j,row in df_list_lite.iterrows():\n",
    "    dicc_drivers[row['SYMBOL']].append('literature')"
   ]
  },
  {
   "cell_type": "code",
   "execution_count": null,
   "metadata": {
    "collapsed": true
   },
   "outputs": [],
   "source": [
    "# SORT ROWS (GENES) BY PATHWAYS\n",
    "\n",
    "left_annotator_count = df_all_pry[['PATHWAY', 'SYMBOL', 'COMPARISON']].drop_duplicates().groupby(['PATHWAY','SYMBOL']).count()\n",
    "left_annotator_count.rename(columns={'COMPARISON':'COUNT'}, inplace=True)\n",
    "\n",
    "order_pathways = left_annotator_count.sort_values('COUNT', ascending=False).reset_index()['PATHWAY'].unique().tolist()\n",
    "\n",
    "left_annotator = df_all_pry[['PATHWAY', 'SYMBOL']].drop_duplicates(keep='first')\n",
    "\n",
    "left_annotator = left_annotator.merge(left_annotator_count, on=['PATHWAY', 'SYMBOL'])\n",
    "\n",
    "grps_path = left_annotator.groupby('PATHWAY')\n",
    "left_annotator = pd.DataFrame()\n",
    "\n",
    "for g in order_pathways:\n",
    "    try:\n",
    "        df = grps_path.get_group(g)\n",
    "        df = df.sort_values('COUNT', ascending=False)\n",
    "        left_annotator = left_annotator.append(df, ignore_index=True, sort=False)\n",
    "    except KeyError:\n",
    "        do_nothing = 'do_nothing'"
   ]
  },
  {
   "cell_type": "code",
   "execution_count": null,
   "metadata": {
    "collapsed": true
   },
   "outputs": [],
   "source": [
    "# Create information for stacked barplot on the right\n",
    "\n",
    "subset_for_count = df_all_pry[['PATIENT','SUBTYPE_LABEL','SYMBOL']].drop_duplicates(keep='first')\n",
    "\n",
    "subset_for_count = subset_for_count.groupby(by=['SYMBOL', 'SUBTYPE_LABEL']).count()\n",
    "\n",
    "subset_for_count.rename(columns={'PATIENT':'NUM PATIENTS'}, inplace=True)\n",
    "\n",
    "subset_for_count.reset_index(inplace=True)"
   ]
  },
  {
   "cell_type": "code",
   "execution_count": null,
   "metadata": {
    "collapsed": true
   },
   "outputs": [],
   "source": [
    "# Output plot name\n",
    "output_plot = \"table_driver_mutations_primary_ALL_pathways.svg\""
   ]
  },
  {
   "cell_type": "code",
   "execution_count": null,
   "metadata": {},
   "outputs": [],
   "source": [
    "## MAKE FIGURE\n",
    "\n",
    "# make subset\n",
    "df_subset = df_all[['COMPARISON','AGE_RANGE','SYMBOL','SUBTYPE_LABEL', 'SUBTYPE', 'PATHWAY']]\n",
    "grps_drivers = df_subset.groupby(\"SYMBOL\")\n",
    "\n",
    "## Define figure\n",
    "fig = plt.figure(figsize=(22,250))\n",
    "\n",
    "outer = gridspec.GridSpec(ncols=3, nrows=len(df_subset['SYMBOL'].tolist())+2, hspace=0.2,wspace=0.08, \n",
    "                           width_ratios=[5,len(samples),15], figure=fig)\n",
    "\n",
    "## add pathway grid\n",
    "\n",
    "ax_grid_p0 = fig.add_subplot(outer[1,0])\n",
    "ax_grid_p0.set_ylabel('PATHWAYS', rotation=0, labelpad=1, ha='right', va='center',\n",
    "                     fontsize=12, fontweight='bold')\n",
    "ax_grid_p0.set_yticks([])\n",
    "ax_grid_p0.set_xticks([])\n",
    "ax_grid_p0.tick_params(top=False, bottom=False, left=False, right=False)\n",
    "ax_grid_p0.spines['top'].set_visible(False)\n",
    "ax_grid_p0.spines['right'].set_visible(False)\n",
    "ax_grid_p0.spines['left'].set_visible(False)\n",
    "\n",
    "for k,p in enumerate(left_annotator['PATHWAY'].tolist()):\n",
    "    ax_grid_p = fig.add_subplot(outer[k+2,0], sharex=ax_grid_p0)\n",
    "    ax_grid_p.set_yticks([])\n",
    "    ax_grid_p.set_xticks([])\n",
    "    ax_grid_p.spines['top'].set_visible(False)\n",
    "    ax_grid_p.spines['right'].set_visible(False)\n",
    "    ax_grid_p.spines['bottom'].set_visible(False)\n",
    "    ax_grid_p.spines['left'].set_visible(False)\n",
    "    ax_grid_p.text(x=0.5, y=0.2,s=p, fontsize=12, va='bottom',ha='right', fontweight='bold')\n",
    "    \n",
    "## add cohort label grid\n",
    "\n",
    "width = 1\n",
    "height = 2\n",
    "\n",
    "ax_grid_0 = fig.add_subplot(outer[0,1], sharey=ax_grid_p)\n",
    "ax_grid_0.set_ylabel('ALL SUBTYPES', rotation=0, labelpad=1, ha='right', va='center',\n",
    "                     fontsize=12, fontweight='bold')\n",
    "ax_grid_0.set_yticks([])\n",
    "ax_grid_0.set_xticks(range(len(samples)))\n",
    "ax_grid_0.set_xticklabels(samples,fontsize=8,color='#252525', rotation=90, ha='center',va='bottom')\n",
    "ax_grid_0.tick_params(top=False, bottom=False, left=False, right=False)\n",
    "ax_grid_0.tick_params(axis='x',top=False, bottom=False, left=False,pad = 0, right=False,labelbottom=False,labeltop=True)\n",
    "ax_grid_0.tick_params(axis='y',top=False, bottom=False, left=False, right=False)\n",
    "ax_grid_0.spines['top'].set_visible(False)\n",
    "ax_grid_0.spines['right'].set_visible(False)\n",
    "ax_grid_0.spines['left'].set_visible(False)\n",
    "\n",
    "for i,pat in enumerate(samples):\n",
    "        df_pat = df_subset[df_subset[\"COMPARISON\"] == pat].reset_index(drop=True)\n",
    "        try:\n",
    "            ax_grid_0.add_patch(Rectangle(xy=(i-0.5, 0) ,\n",
    "                                       width=width, height=height, linewidth=0.5, \n",
    "                                            color=COLORS_SUBTYPES[df_pat.loc[0, 'SUBTYPE_LABEL']], \n",
    "                                          fill=True))\n",
    "        except KeyError:\n",
    "            print(df_pat)\n",
    "\n",
    "## add age range grid\n",
    "\n",
    "ax_grid_1 = fig.add_subplot(outer[1,1], sharex=ax_grid_0)\n",
    "ax_grid_1.set_ylabel('AGE RANGES', rotation=0, labelpad=1, ha='right', va='center',\n",
    "                     fontsize=12, fontweight='bold')\n",
    "ax_grid_1.set_yticks([])\n",
    "ax_grid_1.set_xticks(range(len(samples)))\n",
    "ax_grid_1.xaxis.set_visible(False)\n",
    "ax_grid_1.tick_params(top=False, bottom=False, left=False, right=False)\n",
    "ax_grid_1.spines['top'].set_visible(False)\n",
    "ax_grid_1.spines['right'].set_visible(False)\n",
    "ax_grid_1.spines['left'].set_visible(False)\n",
    "for i,pat in enumerate(samples):\n",
    "    df_pat = df_subset[df_subset[\"COMPARISON\"] == pat].reset_index(drop=True)\n",
    "    try:\n",
    "        ax_grid_1.add_patch(Rectangle(xy=(i-0.5, 0) ,\n",
    "                                       width=width, height=height, linewidth=0.5, \n",
    "                                            color=COLORS_AGES_TALL[df_pat.loc[0, 'AGE_RANGE']], \n",
    "                                          fill=True))\n",
    "    except KeyError:\n",
    "        print(df_pat)\n",
    "        \n",
    "## add gene symbol grids\n",
    "\n",
    "for j,gene in enumerate(left_annotator['SYMBOL'].tolist()):\n",
    " \n",
    "    ax_grid = fig.add_subplot(outer[j+2,1], sharex=ax_grid_0)\n",
    "    ax_grid.set_ylabel(gene, rotation=0, labelpad=10, ha='right', va='center',\n",
    "                      fontsize=12,fontstyle='italic')\n",
    "    ax_grid.set_yticks([])\n",
    "    ax_grid.set_xticks(range(len(samples)))\n",
    "    ax_grid.xaxis.set_visible(False)\n",
    "    ax_grid.spines['top'].set_visible(False)\n",
    "    ax_grid.spines['right'].set_visible(False)\n",
    "    ax_grid.spines['bottom'].set_visible(False)\n",
    "    ax_grid.spines['left'].set_visible(False)\n",
    "  \n",
    "    for i,sam in enumerate(samples):\n",
    "        df_subset_gene = grps_drivers.get_group(gene)\n",
    "        df_pat = df_subset_gene[df_subset_gene[\"COMPARISON\"] == sam].reset_index(drop=True)\n",
    "        if df_pat.empty != True:\n",
    "            if df_pat.loc[0, 'SUBTYPE'] in dicc_drivers[gene]:\n",
    "                ax_grid.add_patch(Rectangle(xy=(i-0.5, 0) ,\n",
    "                                       width=width, height=height, linewidth=0.5, \n",
    "                                            color='#252525', fill=True))\n",
    "            else:\n",
    "                ax_grid.add_patch(Rectangle(xy=(i-0.5, 0) ,\n",
    "                                       width=width, height=height, linewidth=0.5, \n",
    "                                            color='#bdbdbd', fill=True))\n",
    "## add stack barplot grid with counts \n",
    "\n",
    "ax_grid_c0 = fig.add_subplot(outer[1,2], sharey=ax_grid_p)\n",
    "ax_grid_c0.text(x=0, y=0,s='NUM.PATIENTS', fontsize=12, fontweight='bold', ha='left', va='center')\n",
    "ax_grid_c0.set_yticks([])\n",
    "ax_grid_c0.set_xticks([])\n",
    "ax_grid_c0.spines['top'].set_visible(False)\n",
    "ax_grid_c0.spines['right'].set_visible(False)\n",
    "ax_grid_c0.spines['bottom'].set_visible(False)\n",
    "\n",
    "for k,gene in enumerate(left_annotator['SYMBOL'].tolist()):\n",
    "\n",
    "    df_counts = subset_for_count[subset_for_count['SYMBOL'] == gene]\n",
    "    \n",
    " \n",
    "    ax_grid_c = fig.add_subplot(outer[k+2,2], sharex=ax_grid_c0)\n",
    "    ax_grid_c = stack_barplot(df_counts, ax_grid_c, order_subtypes)\n",
    "    ax_grid_c.set_xticks([])\n",
    "    ax_grid_c.set_yticks([])\n",
    "    ax_grid_c.spines['top'].set_visible(False)\n",
    "    ax_grid_c.spines['right'].set_visible(False)\n",
    "    ax_grid_c.spines['bottom'].set_visible(False)\n",
    "\n",
    "plt.savefig(output_plot, bbox_inches='tight', dpi=300)\n",
    "plt.show()"
   ]
  },
  {
   "cell_type": "markdown",
   "metadata": {
    "collapsed": true
   },
   "source": [
    "### Chi-square"
   ]
  },
  {
   "cell_type": "code",
   "execution_count": null,
   "metadata": {},
   "outputs": [],
   "source": [
    "df_info = df_all[df_all['STAGE'] == 'primary'][['PATIENT', 'SUBTYPE_LABEL', 'TYPE']].drop_duplicates()\n",
    "df_info.head()"
   ]
  },
  {
   "cell_type": "code",
   "execution_count": null,
   "metadata": {
    "collapsed": true
   },
   "outputs": [],
   "source": [
    "# Define cancer gene of interest\n",
    "cancer_gene = 'PHF6'\n",
    "\n",
    "test_gene = df_info.merge(df_all[df_all['SYMBOL'] == cancer_gene].drop_duplicates()[['SYMBOL', 'PATIENT']].drop_duplicates(), \n",
    "                              how='left', on='PATIENT')\n",
    "test_gene['Mutated'] = test_gene.apply(lambda x: True if type(x['SYMBOL']) == str else False, axis=1)"
   ]
  },
  {
   "cell_type": "code",
   "execution_count": null,
   "metadata": {},
   "outputs": [],
   "source": [
    "test_gene.head()"
   ]
  },
  {
   "cell_type": "code",
   "execution_count": null,
   "metadata": {},
   "outputs": [],
   "source": [
    "# create contingency table\n",
    "contingency_table = pd.crosstab(index=test_gene['Mutated'], columns=test_gene['TYPE'])\n",
    "contingency_table"
   ]
  },
  {
   "cell_type": "code",
   "execution_count": null,
   "metadata": {},
   "outputs": [],
   "source": [
    "stat_chi2, p, dof, expected = chi2_contingency(contingency_table, correction=False)\n",
    "p"
   ]
  },
  {
   "cell_type": "code",
   "execution_count": null,
   "metadata": {},
   "outputs": [],
   "source": [
    "from decimal import Decimal\n",
    "\n",
    "print('%.2E' % Decimal(p))\n",
    "\n",
    "output = \"{:.3f}\".format(p)\n",
    "print(output)"
   ]
  },
  {
   "cell_type": "code",
   "execution_count": null,
   "metadata": {},
   "outputs": [],
   "source": [
    "# interpret test-statistic\n",
    "prob = 0.90\n",
    "critical = chi2.ppf(prob, dof)\n",
    "if abs(stat_chi2) >= critical:\n",
    "    print('Dependent (reject H0)')\n",
    "else:\n",
    "    print('Independent (fail to reject H0)')"
   ]
  },
  {
   "cell_type": "code",
   "execution_count": null,
   "metadata": {},
   "outputs": [],
   "source": [
    "# interpret test-statistic\n",
    "prob = 0.95\n",
    "critical = chi2.ppf(prob, dof)\n",
    "if abs(stat_chi2) >= critical:\n",
    "    print('Dependent (reject H0)')\n",
    "else:\n",
    "    print('Independent (fail to reject H0)')"
   ]
  }
 ],
 "metadata": {
  "kernelspec": {
   "display_name": "Python [conda env:filter_pipeline]",
   "language": "python",
   "name": "conda-env-filter_pipeline-py"
  },
  "language_info": {
   "codemirror_mode": {
    "name": "ipython",
    "version": 3
   },
   "file_extension": ".py",
   "mimetype": "text/x-python",
   "name": "python",
   "nbconvert_exporter": "python",
   "pygments_lexer": "ipython3",
   "version": "3.7.6"
  }
 },
 "nbformat": 4,
 "nbformat_minor": 2
}
