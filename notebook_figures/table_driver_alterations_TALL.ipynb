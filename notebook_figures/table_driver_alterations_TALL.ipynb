{
 "cells": [
  {
   "cell_type": "markdown",
   "metadata": {},
   "source": [
    "This notebook provides a table figure with the protein affecting mutations in driver genes of T-ALL cohorts. The figure here correspond to Figure 2B and Additional file 1 Figure S4 of the paper."
   ]
  },
  {
   "cell_type": "code",
   "execution_count": null,
   "metadata": {
    "collapsed": true
   },
   "outputs": [],
   "source": [
    "import os\n",
    "import pandas as pd\n",
    "import numpy as np\n",
    "import seaborn\n",
    "import matplotlib.pyplot as plt\n",
    "import matplotlib.patches as mpatch\n",
    "from collections import defaultdict\n",
    "import functools\n",
    "from multiprocessing import Pool\n",
    "import matplotlib.gridspec as gridspec\n",
    "from matplotlib.patches import Rectangle\n",
    "import six\n",
    "from bgreference import hg19\n",
    "from scipy.stats import chi2_contingency\n",
    "from scipy.stats import chi2\n",
    "from aux_data_in_pyvar import config_rcparams,COLORS_AGES_TALL,COLORS_SUBTYPES,COLORS_COHORTS,COLORS_IMMUNOPHENO\n",
    "\n",
    "pd.set_option('display.max_columns', None)\n",
    "pd.set_option('display.max_rows', None)\n",
    "pd.set_option('display.max_colwidth', -1)"
   ]
  },
  {
   "cell_type": "code",
   "execution_count": null,
   "metadata": {
    "collapsed": true
   },
   "outputs": [],
   "source": [
    "config_rcparams()"
   ]
  },
  {
   "cell_type": "code",
   "execution_count": null,
   "metadata": {
    "collapsed": true
   },
   "outputs": [],
   "source": [
    "def plot_combination(combination_subset, coord_x, ax_grid):\n",
    "    size_standard = 120\n",
    "    #size_standard = 160\n",
    "    \n",
    "    if {'shared', 'private_relapse','private_primary'} == combination_subset:\n",
    "        drawPieMarker(xs=coord_x,\n",
    "              ys=1,\n",
    "              ratios=[0.5, 0.5],\n",
    "              sizes=[size_standard,size_standard],\n",
    "              colors=['#2c7fb8','#fd8d3c'],\n",
    "              border_colors = \"#006837\",\n",
    "              border_width = 2,\n",
    "              ax = ax_grid)  \n",
    "    elif {'shared', 'private_relapse'} == combination_subset:\n",
    "        drawPieMarker(xs=coord_x,\n",
    "              ys=1,\n",
    "              ratios=[0.5, 0.5],\n",
    "              sizes=[size_standard,size_standard],\n",
    "              colors=['#FFFFFF','#fd8d3c'],\n",
    "              border_colors = \"#006837\",\n",
    "              border_width = 2,\n",
    "              ax = ax_grid)  \n",
    "    elif {'shared', 'private_primary'} == combination_subset:\n",
    "        drawPieMarker(xs=coord_x,\n",
    "              ys=1,\n",
    "              ratios=[0.5, 0.5],\n",
    "              sizes=[size_standard,size_standard],\n",
    "              colors=['#2c7fb8','#FFFFFF'],\n",
    "              border_colors = \"#006837\",\n",
    "              border_width = 2,\n",
    "              ax = ax_grid)  \n",
    "    elif {'private_primary', 'private_relapse'} == combination_subset:\n",
    "        drawPieMarker(xs=coord_x,\n",
    "              ys=1,\n",
    "              ratios=[0.5, 0.5],\n",
    "              sizes=[size_standard,size_standard],\n",
    "              colors=['#2c7fb8','#fd8d3c'],\n",
    "              border_colors = '#FFFFFF',\n",
    "              border_width = 0.8,\n",
    "              ax = ax_grid)  \n",
    "    elif {'shared'} == combination_subset:\n",
    "        drawPieMarker(xs=coord_x,\n",
    "              ys=1,\n",
    "              ratios=[1],\n",
    "              sizes=[size_standard],\n",
    "              colors=['#FFFFFF'],\n",
    "              border_colors = \"#006837\",\n",
    "              border_width = 2,\n",
    "              ax = ax_grid)\n",
    "    elif {'private_primary'} == combination_subset:\n",
    "        drawPieMarker(xs=coord_x,\n",
    "              ys=1,\n",
    "              ratios=[0.5, 0.5],\n",
    "              sizes=[size_standard,size_standard],\n",
    "              colors=['#2c7fb8','#FFFFFF'],\n",
    "              border_colors = '#FFFFFF',\n",
    "              border_width = 0.8,\n",
    "              ax = ax_grid)\n",
    "    elif {'private_relapse'} == combination_subset:\n",
    "        drawPieMarker(xs=coord_x,\n",
    "              ys=1,\n",
    "              ratios=[0.5, 0.5],\n",
    "              sizes=[size_standard,size_standard],\n",
    "              colors=['#FFFFFF', '#fd8d3c'],\n",
    "              border_colors = '#FFFFFF',\n",
    "              border_width = 0.8,\n",
    "              ax = ax_grid)\n",
    "    else:\n",
    " #       drawPieMarker(xs=coord_x,\n",
    " #             ys=1,\n",
    " #             ratios=[1],\n",
    " #             sizes=[size_standard],\n",
    " #             colors=['#FFFFFF'],\n",
    " #             border_colors = '#FFFFFF',\n",
    " #             ax = ax_grid)\n",
    "        pass\n",
    "\n",
    "    \n",
    "def drawPieMarker(xs, ys, ratios, sizes, colors, border_colors, border_width, ax):\n",
    "    \"Adapted from https://stackoverflow.com/questions/56337732/how-to-plot-scatter-pie-chart-using-matplotlib\"\n",
    "    assert sum(ratios) <= 1, 'sum of ratios needs to be < 1'\n",
    "    \n",
    "    markers = []\n",
    "    previous = 0\n",
    "    # calculate the points of the pie pieces\n",
    "    for color, ratio in zip(colors, ratios):\n",
    "        this = 2 * np.pi * ratio + previous\n",
    "        x  = [0] + np.cos(np.linspace(previous, this, 40)).tolist() + [0]\n",
    "        y  = [0] + np.sin(np.linspace(previous, this, 40)).tolist() + [0]\n",
    "        xy = np.column_stack([x, y])\n",
    "        previous = this\n",
    "        markers.append({'marker':xy, 's':np.abs(xy).max()**2*np.array(sizes), 'facecolor':color, \n",
    "                        'edgecolors':border_colors, 'linewidth':border_width})\n",
    "\n",
    "    # scatter each of the pie pieces to create pies\n",
    "    if len(ratios) == 1:\n",
    "        ax.scatter(xs, ys, marker = 'o',s=np.abs(xy).max()**2*np.array(sizes), facecolor=color, \n",
    "                        edgecolors=border_colors, linewidth=border_width)\n",
    "        ax.set_ylim(0,2)\n",
    "    else:\n",
    "        for marker in markers: \n",
    "            ax.scatter(xs, ys, **marker)\n",
    "            ax.set_ylim(0,2)\n",
    "            \n",
    "def stack_barplot(df, ax_grid, cohorts, col):\n",
    "    \n",
    "    suma_bar = 0\n",
    "    df.reset_index(inplace=True, drop=True)\n",
    "    \n",
    "    for c in cohorts:\n",
    "        df_c = df[df['COHORT'] == c].reset_index()\n",
    "        \n",
    "        if df_c.empty == False:\n",
    "        \n",
    "            ax_grid.barh(0, df_c.loc[0,'NUM PATIENTS'], color=COLORS_COHORTS[c], \n",
    "                     edgecolor='white', height=1, left=suma_bar)\n",
    "            suma_bar = suma_bar + df_c.loc[0,'NUM PATIENTS']\n",
    "    if col == 'GENE':\n",
    "        ax_grid.set_ylabel(df.loc[0,col], rotation='horizontal', va='center')"
   ]
  },
  {
   "cell_type": "code",
   "execution_count": null,
   "metadata": {
    "collapsed": true
   },
   "outputs": [],
   "source": [
    "def make_table_alterations(df, fig_size, output_path, option='B'):\n",
    "    ## MAKE FIGURE\n",
    "\n",
    "    #Define some parameters\n",
    "    \n",
    "    width = 1\n",
    "    height = 2\n",
    "\n",
    "    # make subset\n",
    "    df_subset = df[['PATIENT', 'subset', 'AGE_RANGE','SYMBOL','COHORT', 'PATHWAY', 'IMMUNOPHENOTYPE', 'GENE']]\n",
    "    patients = df_subset[['PATIENT']].drop_duplicates()['PATIENT'].tolist()\n",
    "    grps_drivers = df_subset.groupby(\"SYMBOL\")\n",
    "\n",
    "    ## Define figure\n",
    "    fig = plt.figure(figsize=fig_size)\n",
    "\n",
    "    outer = gridspec.GridSpec(ncols=3, nrows=len(df_subset['SYMBOL'].tolist())+3, hspace=0.05,wspace=0.08, \n",
    "                               width_ratios=[7,len(patients),10], figure=fig)\n",
    "\n",
    "    ## add pathway grid\n",
    "\n",
    "    ax_grid_p0 = fig.add_subplot(outer[1,0])\n",
    "    ax_grid_p0.set_ylabel('PATHWAYS', rotation=0, labelpad=2, ha='right', va='center',\n",
    "                         fontsize=12, fontweight='bold')\n",
    "    ax_grid_p0.set_yticks([])\n",
    "    ax_grid_p0.set_xticks([])\n",
    "    ax_grid_p0.tick_params(top=False, bottom=False, left=False, right=False)\n",
    "    ax_grid_p0.spines['top'].set_visible(False)\n",
    "    ax_grid_p0.spines['right'].set_visible(False)\n",
    "    ax_grid_p0.spines['left'].set_visible(False)\n",
    "\n",
    "    for k,p in enumerate(left_annotator['PATHWAY'].tolist()):\n",
    "        ax_grid_p = fig.add_subplot(outer[k+3,0], sharex=ax_grid_p0)\n",
    "        ax_grid_p.set_yticks([])\n",
    "        ax_grid_p.set_xticks([])\n",
    "        ax_grid_p.spines['top'].set_visible(False)\n",
    "        ax_grid_p.spines['right'].set_visible(False)\n",
    "        ax_grid_p.spines['bottom'].set_visible(False)\n",
    "        ax_grid_p.spines['left'].set_visible(False)\n",
    "        ax_grid_p.text(x=0.5, y=0.2,s=p, fontsize=12, va='bottom',ha='right', fontweight='bold')\n",
    "    \n",
    "    ## add immunopheno label grid\n",
    "\n",
    "    ax_grid_extra = fig.add_subplot(outer[0,1])\n",
    "    ax_grid_extra.set_ylabel('IMMUNOPHENO', rotation=0, labelpad=1, ha='right', va='center',\n",
    "                         fontsize=12, fontweight='bold')\n",
    "    ax_grid_extra.set_yticks([])\n",
    "    ax_grid_extra.set_xticks(range(len(patients)))\n",
    "    ax_grid_extra.set_xticklabels(patients,color='#252525', rotation=45, ha='left',va='bottom')\n",
    "    ax_grid_extra.tick_params(axis='x',top=False, bottom=False, left=False, right=False,labelbottom=False,labeltop=True)\n",
    "    ax_grid_extra.tick_params(axis='y',top=False, bottom=False, left=False, right=False)\n",
    "    ax_grid_extra.spines['top'].set_visible(False)\n",
    "    ax_grid_extra.spines['right'].set_visible(False)\n",
    "    ax_grid_extra.spines['left'].set_visible(False)\n",
    "\n",
    "    for i,pat in enumerate(patients):\n",
    "            df_pat = df_subset[df_subset[\"PATIENT\"] == pat].reset_index(drop=True)\n",
    "            try:\n",
    "                ax_grid_extra.add_patch(Rectangle(xy=(i-0.5, 0) ,\n",
    "                                       width=width, height=height, linewidth=0.5, \n",
    "                                            color=COLORS_IMMUNOPHENO[df_pat.loc[0, 'IMMUNOPHENOTYPE']], \n",
    "                                          fill=True))\n",
    "            except KeyError:\n",
    "                print(df_pat) \n",
    "\n",
    "    ## add cohort label grid\n",
    "\n",
    "    ax_grid_0 = fig.add_subplot(outer[1,1], sharex=ax_grid_extra, sharey=ax_grid_p0)\n",
    "    ax_grid_0.set_ylabel('ALL SUBTYPES', rotation=0, labelpad=1, ha='right', va='center',\n",
    "                         fontsize=12, fontweight='bold')\n",
    "    ax_grid_0.set_yticks([])\n",
    "    ax_grid_0.set_xticks(range(len(patients)))\n",
    "    ax_grid_0.tick_params(top=False, bottom=False, left=False, right=False)\n",
    "    ax_grid_0.spines['top'].set_visible(False)\n",
    "    ax_grid_0.spines['right'].set_visible(False)\n",
    "    ax_grid_0.spines['left'].set_visible(False)\n",
    "\n",
    "    for i,pat in enumerate(patients):\n",
    "            df_pat = df_subset[df_subset[\"PATIENT\"] == pat].reset_index(drop=True)\n",
    "            try:\n",
    "                ax_grid_0.add_patch(Rectangle(xy=(i-0.5, 0) ,\n",
    "                                       width=width, height=height, linewidth=0.5, \n",
    "                                            color=COLORS_COHORTS[df_pat.loc[0, 'COHORT']], \n",
    "                                          fill=True))\n",
    "            except KeyError:\n",
    "                print(df_pat)\n",
    "\n",
    "    ## add age range grid\n",
    "\n",
    "    ax_grid_1 = fig.add_subplot(outer[2,1], sharex=ax_grid_extra)\n",
    "    ax_grid_1.set_ylabel('AGE RANGES', rotation=0, labelpad=1, ha='right', va='center',\n",
    "                         fontsize=12, fontweight='bold')\n",
    "    ax_grid_1.set_yticks([])\n",
    "    ax_grid_1.set_xticks(range(len(patients)))\n",
    "    ax_grid_1.xaxis.set_visible(False)\n",
    "    ax_grid_1.tick_params(top=False, bottom=False, left=False, right=False)\n",
    "    ax_grid_1.spines['top'].set_visible(False)\n",
    "    ax_grid_1.spines['right'].set_visible(False)\n",
    "    ax_grid_1.spines['left'].set_visible(False)\n",
    "    for i,pat in enumerate(patients):\n",
    "        df_pat = df_subset[df_subset[\"PATIENT\"] == pat].reset_index(drop=True)\n",
    "        try:\n",
    "            ax_grid_1.add_patch(Rectangle(xy=(i-0.5, 0) ,\n",
    "                                       width=width, height=height, linewidth=0.5, \n",
    "                                            color=COLORS_AGES_TALL[df_pat.loc[0, 'AGE_RANGE']], \n",
    "                                          fill=True))\n",
    "        except KeyError:\n",
    "            print(df_pat)\n",
    "\n",
    "    ## add gene symbol grids\n",
    "\n",
    "    for j,gene in enumerate(left_annotator['SYMBOL'].tolist()):\n",
    "\n",
    "        ax_grid = fig.add_subplot(outer[j+3,1], sharex=ax_grid_extra)\n",
    "        ax_grid.set_ylabel(gene, rotation=0, labelpad=10, ha='right', va='center',\n",
    "                          fontsize=12,fontstyle='italic')\n",
    "        ax_grid.set_yticks([])\n",
    "        ax_grid.set_xticks(range(len(patients)))\n",
    "        ax_grid.xaxis.set_visible(False)\n",
    "        ax_grid.spines['top'].set_visible(False)\n",
    "        ax_grid.spines['bottom'].set_visible(False)\n",
    "        ax_grid.spines['left'].set_visible(False)\n",
    "        if j%2==0:\n",
    "            ax_grid.set_facecolor(\"#e0e0e0\")\n",
    "        for i,pat in enumerate(patients):\n",
    "            df_subset_gene = grps_drivers.get_group(gene)\n",
    "            df_pat = df_subset_gene[df_subset_gene[\"PATIENT\"] == pat]\n",
    "            combination_subset = set(df_pat[df_pat['SYMBOL'] == gene]['subset'].tolist())\n",
    "            plot_combination(combination_subset, i, ax_grid)\n",
    "\n",
    "    ## add stack barplot grid with counts \n",
    "\n",
    "    ax_grid_c0 = fig.add_subplot(outer[2,2],sharey=ax_grid_1)\n",
    "    ax_grid_c0.text(x=0, y=0,s='NUM.PATIENTS', fontsize=12, fontweight='bold', ha='left', va='bottom')\n",
    "    ax_grid_c0.set_yticks([])\n",
    "    ax_grid_c0.set_xticks([])\n",
    "    ax_grid_c0.spines['top'].set_visible(False)\n",
    "    ax_grid_c0.spines['right'].set_visible(False)\n",
    "    ax_grid_c0.spines['bottom'].set_visible(False)\n",
    "    ax_grid_c0.spines['left'].set_visible(False)\n",
    "\n",
    "    if option == 'A':\n",
    "        col = 'GENE'\n",
    "    else:\n",
    "        col = 'SYMBOL'\n",
    "\n",
    "    for k,gene in enumerate(left_annotator.drop_duplicates(subset=col)[col].tolist()):\n",
    "        ax_grid_c = fig.add_subplot(outer[k+3,2],sharex=ax_grid_c0)\n",
    "\n",
    "        ax_grid_c.set_yticks([])\n",
    "        ax_grid_c.set_xticks([])\n",
    "        ax_grid_c.spines['top'].set_visible(False)\n",
    "        ax_grid_c.spines['right'].set_visible(False)\n",
    "        ax_grid_c.spines['bottom'].set_visible(False)\n",
    "        ax_grid_c.spines['left'].set_visible(False)\n",
    "\n",
    "        df_counts = counter_gene[counter_gene[col] == gene]\n",
    "\n",
    "        stack_barplot(df_counts, ax_grid_c, order_cohorts, col)\n",
    "\n",
    "\n",
    "    plt.savefig(output_path, bbox_inches='tight', dpi=300)\n",
    "    plt.show()\n",
    "    "
   ]
  },
  {
   "cell_type": "code",
   "execution_count": null,
   "metadata": {
    "collapsed": true
   },
   "outputs": [],
   "source": [
    "# READ CLINICAL DATA FOR EXTRA COLUMNS IN ADULT COHORT ABOUT IMMUNOPHENOTYPES\n",
    "adult_info = pd.read_csv(\"\", sep='\\t') # Additional file 2 Table S1\n",
    "adult_info = adult_info[['Patient_id', 'Primary_immunoclassification']]\n",
    "adult_info.rename(columns={'Patient_id':'PATIENT', 'Primary_immunoclassification':'IMMUNOPHENOTYPE'}, inplace=True)"
   ]
  },
  {
   "cell_type": "code",
   "execution_count": null,
   "metadata": {
    "collapsed": true,
    "scrolled": true
   },
   "outputs": [],
   "source": [
    "# read driver candidates. Those are obtained after running al processing notebooks\n",
    "# these are provided in Additional file 2 Table S5 and Tables S6\n",
    "\n",
    "# this table is obtained after running driver_mutations_TALL.ipynb  \n",
    "candidate_muts_drivers = pd.read_csv(\"driver_muts_TALL_subsets.tsv\", sep='\\t') \n",
    "#Table S6a\n",
    "candidate_cnv_drivers = pd.read_csv(\"driver_cnv_TALL.tsv\", sep='\\t') \n",
    "#Table S6b\n",
    "candidate_sv_drivers = pd.read_csv(\"driver_sv_TALL.tsv\", sep='\\t')  \n",
    "\n",
    "# In the additional tables are missing the mutations from Li et al., 2020 Blood. To obtain the same\n",
    "# figure those must be added from the supplementary of their paper PMID: 31697823"
   ]
  },
  {
   "cell_type": "code",
   "execution_count": null,
   "metadata": {
    "collapsed": true
   },
   "outputs": [],
   "source": [
    "#make sure all of them have the same columns\n",
    "candidate_muts_drivers['GENE'] = candidate_muts_drivers['SYMBOL']\n",
    "candidate_sv_drivers['GENE'] = candidate_sv_drivers['SYMBOL']  \n",
    "candidate_sv_drivers['SYMBOL'] = candidate_sv_drivers.apply(lambda x: x['SYMBOL']+' '+x['Variant'], axis=1)\n",
    "candidate_cnv_drivers['GENE'] = candidate_cnv_drivers['SYMBOL'].apply(lambda x: x.split(' ')[0] if \" (\" in x else x) "
   ]
  },
  {
   "cell_type": "code",
   "execution_count": null,
   "metadata": {
    "collapsed": true
   },
   "outputs": [],
   "source": [
    "# most common alteration CDKN2A and B\n",
    "candidate_cnv_drivers['SYMBOL'] = candidate_cnv_drivers['SYMBOL'].apply(lambda x: \"CDKN2A,CDKN2B 9p21.1-3 (del)\" if \"9p21\" in x else x)\n",
    "candidate_cnv_drivers['GENE'] = candidate_cnv_drivers['GENE'].apply(lambda x: \"CDKN2A,CDKN2B\" if \"CDKN2\" in x else x)\n",
    "\n",
    "# join CDKN1B\n",
    "candidate_cnv_drivers['SYMBOL'] = candidate_cnv_drivers['SYMBOL'].apply(lambda x: \"CDKN1B 12p13.1-31 (del)\" if \"CDKN1B 12p13\" in x else x)\n",
    "\n",
    "# join HOX gene variants\n",
    "candidate_cnv_drivers['SYMBOL'] = candidate_cnv_drivers['SYMBOL'].apply(lambda x: \"HOXA cluster genes 7p15.2 (amp)\" if \"7p15.2\" in x else x)\n",
    "\n",
    "# correct PKN3. Deletions have been observed previously\n",
    "candidate_cnv_drivers = candidate_cnv_drivers[candidate_cnv_drivers['SYMBOL'] != \"PKN3 9q34.11 (amp)\"]\n",
    "\n",
    "# PRDM1 most likely is a tumor supressor https://www.ncbi.nlm.nih.gov/pmc/articles/PMC3158840/ \n",
    "candidate_cnv_drivers = candidate_cnv_drivers[candidate_cnv_drivers['SYMBOL'] != \"PRDM1 6q21. (amp)\"]\n",
    "\n",
    "# ME1 most likely has a loss of function role and truncating deletions are the driver alterations\n",
    "candidate_cnv_drivers = candidate_cnv_drivers[candidate_cnv_drivers['SYMBOL'] != \"ME1 6q14.2 (amp)\"]\n",
    "\n",
    "# MLLT1 is suggested to have gain of function role https://doi.org/10.1006/bcmd.2002.0525 \n",
    "candidate_cnv_drivers = candidate_cnv_drivers[candidate_cnv_drivers['SYMBOL'] != \"MLLT1 19p13.3 (del)\"]\n",
    "\n",
    "# TAL1 join alteratons for simplicity\n",
    "candidate_cnv_drivers['SYMBOL'] = candidate_cnv_drivers['SYMBOL'].apply(lambda x: \"TAL1 1p32.1-3 (del)\" if \"TAL1\" in x else x)\n",
    "\n",
    "# NOTCH1 amp hasn't been reported in literature as a driver event\n",
    "candidate_cnv_drivers = candidate_cnv_drivers[candidate_cnv_drivers['SYMBOL'] != \"NOTCH1 9q34.3 (amp)\"]\n",
    "\n",
    "# ABL1 is an oncogene https://www.ncbi.nlm.nih.gov/pmc/articles/PMC3935732/\n",
    "candidate_cnv_drivers = candidate_cnv_drivers[candidate_cnv_drivers['SYMBOL'] != \"ABL1 9q34.12 (del)\"]\n",
    "\n",
    "# Join MYC amplifications for simplicity\n",
    "candidate_cnv_drivers['SYMBOL'] = candidate_cnv_drivers['SYMBOL'].apply(lambda x: \"MYC 8q24.3-23 (amp)\" if \"MYC\" in x else x)\n",
    "\n",
    "# Join RB1 deletions \n",
    "candidate_cnv_drivers['SYMBOL'] = candidate_cnv_drivers['SYMBOL'].apply(lambda x: \"RB1 13q14.2-3 (del)\" if \"RB1\" in x else x)\n",
    "\n",
    "# Join PTEN deletions\n",
    "candidate_cnv_drivers['SYMBOL'] = candidate_cnv_drivers['SYMBOL'].apply(lambda x: \"PTEN 10q23.2-33 (del)\" if \"PTEN\" in x else x)\n",
    "\n",
    "# join TLX1 alterations for simplicity\n",
    "candidate_sv_drivers['SYMBOL'] = candidate_sv_drivers['SYMBOL'].apply(lambda x: \"TLX1 t(7;10)(q34;q24),t(10;14)(q24;q11),10q(24.31)(amp)\" if \"TLX1\" in x else x)\n",
    "\n",
    "# join LMO2 alterations for simplicity\n",
    "candidate_sv_drivers['SYMBOL'] = candidate_sv_drivers['SYMBOL'].apply(lambda x: \"LMO2 t(11;14)(p13;q11),11p13(del)\" if \"LMO2\" in x else x) \n",
    "\n",
    "candidate_cnv_drivers.drop_duplicates(inplace=True)\n",
    "\n",
    "# black_list genes highly mutated in two cohorts coming from the same project. Suspects of FP\n",
    "potential_false_positives = ['MSH3', 'MAP3K4']\n",
    "candidate_muts_drivers = candidate_muts_drivers[~candidate_muts_drivers['SYMBOL'].isin(potential_false_positives)]"
   ]
  },
  {
   "cell_type": "code",
   "execution_count": null,
   "metadata": {
    "collapsed": true
   },
   "outputs": [],
   "source": [
    "driver_alterations = candidate_muts_drivers[['SYMBOL', 'PATIENT', 'AGE_RANGE', 'GENE', 'PATHWAY', 'COHORT', 'subset']].drop_duplicates()\n",
    "driver_alterations = driver_alterations.append(candidate_cnv_drivers[['SYMBOL', 'PATIENT', 'AGE_RANGE', 'GENE', 'PATHWAY', 'COHORT', 'subset']].drop_duplicates(), ignore_index=True, sort=False)\n",
    "driver_alterations = driver_alterations.append(candidate_sv_drivers[['SYMBOL', 'PATIENT', 'AGE_RANGE', 'GENE', 'PATHWAY', 'COHORT', 'subset']].drop_duplicates(), ignore_index=True, sort=False)"
   ]
  },
  {
   "cell_type": "code",
   "execution_count": null,
   "metadata": {
    "collapsed": true
   },
   "outputs": [],
   "source": [
    "driver_alterations = driver_alterations.merge(adult_info, on='PATIENT', how='left')"
   ]
  },
  {
   "cell_type": "markdown",
   "metadata": {},
   "source": [
    "#### large table"
   ]
  },
  {
   "cell_type": "code",
   "execution_count": null,
   "metadata": {},
   "outputs": [],
   "source": [
    "# SORT COLUMNS BY COHORT AND AGE RANGES\n",
    "\n",
    "# create new dataframe sorted\n",
    "grps = driver_alterations.groupby(\"COHORT\")\n",
    "\n",
    "order_cohorts = ['ADULT TALL AECC PROJECT',\n",
    "                'PEDIATRIC TALL WXS (Oshima et al., 2016; PNAS)',\n",
    "                'PEDIATRIC ALL (Li et al., 2019, Blood)']\n",
    "\n",
    "driver_alterations = pd.DataFrame()\n",
    "for c in order_cohorts:\n",
    "    df_cohort = grps.get_group(c)\n",
    "    df_cohort.sort_values(by=['AGE_RANGE', 'PATIENT'], inplace=True, ascending=[False, False])\n",
    "    driver_alterations = driver_alterations.append(df_cohort, sort=False, ignore_index=True)\n",
    "\n",
    "# create a list with the patients sorted\n",
    "patients = driver_alterations[['PATIENT']].drop_duplicates(keep='first')['PATIENT'].tolist()"
   ]
  },
  {
   "cell_type": "code",
   "execution_count": null,
   "metadata": {},
   "outputs": [],
   "source": [
    "# count number of patients that have a gene altered by cohort\n",
    "counter_filt = driver_alterations[['GENE', 'PATIENT']].drop_duplicates().groupby(['GENE']).count()\n",
    "counter_filt.reset_index(inplace=True)\n",
    "counter_filt.rename(columns={'PATIENT':'COUNT_GENE'}, inplace=True)\n",
    "\n",
    "print(len(counter_filt))\n",
    "counter_filt = counter_filt[counter_filt['COUNT_GENE']>1]\n",
    "print(len(counter_filt))\n",
    "\n",
    "# at least the gene presents alterations in more than one patient\n",
    "driver_alterations = driver_alterations[driver_alterations['GENE'].isin(counter_filt['GENE'])]"
   ]
  },
  {
   "cell_type": "code",
   "execution_count": null,
   "metadata": {},
   "outputs": [],
   "source": [
    "## count by alteration\n",
    "option = 'B'\n",
    "counter_gene = driver_alterations[['SYMBOL', 'PATIENT', 'COHORT']].drop_duplicates().groupby(['SYMBOL','COHORT']).count()\n",
    "counter_gene.reset_index(inplace=True)\n",
    "counter_gene.rename(columns={'PATIENT':'NUM PATIENTS'}, inplace=True)\n",
    "counter_gene.head()"
   ]
  },
  {
   "cell_type": "code",
   "execution_count": null,
   "metadata": {},
   "outputs": [],
   "source": [
    "driver_alterations[['SYMBOL', 'PATIENT','PATHWAY', 'COHORT']].groupby(['PATHWAY', 'COHORT']).count().sort_values(by=['SYMBOL', 'PATIENT'],ascending=False)"
   ]
  },
  {
   "cell_type": "code",
   "execution_count": null,
   "metadata": {},
   "outputs": [],
   "source": [
    "# SORT ROWS (GENES) BY PATHWAYS\n",
    "\n",
    "#custom order of pathways\n",
    "order_pathways = ['Notch signaling pathway','Cell cycle', 'Ras Pathway','Pyrimidine/purine metabolism', \n",
    "                 'Chromatin histone modifiers','Chromatin other',  'JAK/STAT signaling pathway', \n",
    "                  'Wnt signaling pathway','Epigenetics DNA modifiers','p53 pathway','Transcription factor',\n",
    "                  'NF-KappaB signaling','PI3 kinase pathway','Ubiquitin proteasome pathway',\n",
    "                  'Gonadotropin-releasing hormone receptor pathway',\n",
    "                  'ATP-binding cassette (ABC) transporter superfamily',\n",
    "                  'PKA Signaling', 'Pyruvate metabolism',\n",
    "                  'Apoptosis signaling pathway','Transcriptional misregulation in cancer',\n",
    "                  'Transcriptional regulation of white adipocyte differentiation','Integrin signalling pathway', 'Metabolism',\n",
    "                  'Genome integrity', 'Splicing', \n",
    "                  'Signaling by ROBO receptors', 'Inhibitor of DNA binding','RNA abundance',\n",
    "                  'Interleukin signaling pathway','Regulation of hematopoietic stem cell differentiation','other']\n",
    "print(len(order_pathways))\n",
    "\n",
    "\n",
    "\n",
    "left_annotator_count = driver_alterations[['PATHWAY', 'GENE', 'PATIENT']].drop_duplicates().groupby(['PATHWAY','GENE']).count()\n",
    "left_annotator_count.rename(columns={'PATIENT':'COUNT'}, inplace=True)\n",
    "\n",
    "left_annotator = driver_alterations[['PATHWAY', 'GENE','SYMBOL']].drop_duplicates(keep='first')\n",
    "\n",
    "left_annotator = left_annotator.merge(left_annotator_count, on=['PATHWAY', 'GENE'])\n",
    "\n",
    "grps_path = left_annotator.groupby('PATHWAY')\n",
    "left_annotator = pd.DataFrame()\n",
    "\n",
    "for g in order_pathways:\n",
    "    try:\n",
    "        df = grps_path.get_group(g)\n",
    "        df = df.sort_values(['COUNT', 'GENE'], ascending=[False, False])\n",
    "        left_annotator = left_annotator.append(df, ignore_index=True, sort=False)\n",
    "    except KeyError:\n",
    "        pass"
   ]
  },
  {
   "cell_type": "code",
   "execution_count": null,
   "metadata": {},
   "outputs": [],
   "source": [
    "out_fig = \"table_driver_alterations_TALL_big.svg\"\n",
    "figure_size = (22,180)\n",
    "\n",
    "make_table_alterations(driver_alterations,figure_size,out_fig, option=option)"
   ]
  },
  {
   "cell_type": "markdown",
   "metadata": {},
   "source": [
    "#### short table for main figure"
   ]
  },
  {
   "cell_type": "code",
   "execution_count": null,
   "metadata": {},
   "outputs": [],
   "source": [
    "#  filter by at least two adult patients with gene mutated\n",
    "counter_filt = driver_alterations[driver_alterations['COHORT'] == 'ADULT TALL AECC PROJECT'][['GENE', 'PATIENT']].drop_duplicates().groupby(['GENE']).count()\n",
    "counter_filt.reset_index(inplace=True)\n",
    "counter_filt.rename(columns={'PATIENT':'COUNT_GENE'}, inplace=True)\n",
    "\n",
    "print(len(counter_filt))\n",
    "counter_filt = counter_filt[counter_filt['COUNT_GENE']>1]\n",
    "print(len(counter_filt))\n",
    "\n",
    "driver_alterations = driver_alterations[driver_alterations['GENE'].isin(counter_filt['GENE'])]"
   ]
  },
  {
   "cell_type": "code",
   "execution_count": null,
   "metadata": {},
   "outputs": [],
   "source": [
    "## count by alteration\n",
    "option = 'B'\n",
    "counter_gene = driver_alterations[['SYMBOL', 'PATIENT', 'COHORT']].drop_duplicates().groupby(['SYMBOL','COHORT']).count()\n",
    "counter_gene.reset_index(inplace=True)\n",
    "counter_gene.rename(columns={'PATIENT':'NUM PATIENTS'}, inplace=True)\n",
    "counter_gene.head()"
   ]
  },
  {
   "cell_type": "code",
   "execution_count": null,
   "metadata": {
    "collapsed": true
   },
   "outputs": [],
   "source": [
    "# SORT ROWS (GENES) BY PATHWAYS\n",
    "\n",
    "order_pathways = ['Notch signaling pathway','Cell cycle', 'Ras Pathway','Pyrimidine/purine metabolism', \n",
    "                 'Chromatin histone modifiers','Chromatin other',  'JAK/STAT signaling pathway', \n",
    "                  'Wnt signaling pathway','Epigenetics DNA modifiers','p53 pathway','Transcription factor',\n",
    "                  'NF-KappaB signaling','PI3 kinase pathway','Ubiquitin proteasome pathway',\n",
    "                  'Gonadotropin-releasing hormone receptor pathway',\n",
    "                  'ATP-binding cassette (ABC) transporter superfamily',\n",
    "                  'PKA Signaling','Apoptosis signaling pathway','Transcriptional misregulation in cancer',\n",
    "                  'Transcriptional regulation of white adipocyte differentiation','Inhibitor of DNA binding', \n",
    "                  'Metabolism','Integrin signalling pathway','Genome integrity', 'Splicing', \n",
    "                  'Signaling by ROBO receptors', 'Pyruvate metabolism','RNA abundance',\n",
    "                  'Interleukin signaling pathway','Regulation of hematopoietic stem cell differentiation','other']\n",
    "len(order_pathways)\n",
    "\n",
    "\n",
    "\n",
    "left_annotator_count = driver_alterations[['PATHWAY', 'GENE', 'PATIENT']].drop_duplicates().groupby(['PATHWAY','GENE']).count()\n",
    "left_annotator_count.rename(columns={'PATIENT':'COUNT'}, inplace=True)\n",
    "\n",
    "left_annotator = driver_alterations[['PATHWAY', 'GENE','SYMBOL']].drop_duplicates(keep='first')\n",
    "\n",
    "left_annotator = left_annotator.merge(left_annotator_count, on=['PATHWAY', 'GENE'])\n",
    "\n",
    "grps_path = left_annotator.groupby('PATHWAY')\n",
    "left_annotator = pd.DataFrame()\n",
    "\n",
    "for g in order_pathways:\n",
    "    try:\n",
    "        df = grps_path.get_group(g)\n",
    "        df = df.sort_values(['COUNT', 'GENE'], ascending=[False, False])\n",
    "        left_annotator = left_annotator.append(df, ignore_index=True, sort=False)\n",
    "    except KeyError:\n",
    "        do_nothing = 'do_nothing'"
   ]
  },
  {
   "cell_type": "code",
   "execution_count": null,
   "metadata": {},
   "outputs": [],
   "source": [
    "out_fig = \"table_driver_alterations_TALL_small.svg\"\n",
    "figure_size = (22,80)\n",
    "\n",
    "make_table_alterations(driver_alterations,figure_size,out_fig, option=option)"
   ]
  },
  {
   "cell_type": "markdown",
   "metadata": {
    "collapsed": true
   },
   "source": [
    "### chi square "
   ]
  },
  {
   "cell_type": "code",
   "execution_count": null,
   "metadata": {
    "collapsed": true,
    "scrolled": true
   },
   "outputs": [],
   "source": [
    "df_all = pd.read_csv(\"driver_muts_TALL_subsets.tsv\", sep='\\t') \n",
    "df_info = df_all[['PATIENT', 'SUBTYPE']].drop_duplicates()\n",
    "df_info['AGE_COHORT'] = df_info.apply(lambda x: 'adult' if 'Adult' in x['SUBTYPE'] else 'pediatric', axis=1)"
   ]
  },
  {
   "cell_type": "code",
   "execution_count": null,
   "metadata": {
    "collapsed": true
   },
   "outputs": [],
   "source": [
    "# Define cancer gene of interest\n",
    "cancer_gene = 'PHF6'\n",
    "\n",
    "test_gene = df_info.merge(df_all[df_all['SYMBOL'] == cancer_gene].drop_duplicates()[['SYMBOL', 'PATIENT']].drop_duplicates(), \n",
    "                              how='left', on='PATIENT')\n",
    "test_gene['Mutated'] = test_gene.apply(lambda x: True if type(x['SYMBOL']) == str else False, axis=1)"
   ]
  },
  {
   "cell_type": "code",
   "execution_count": null,
   "metadata": {},
   "outputs": [],
   "source": [
    "test_gene.head()"
   ]
  },
  {
   "cell_type": "code",
   "execution_count": null,
   "metadata": {},
   "outputs": [],
   "source": [
    "# create contingency table\n",
    "contingency_table = pd.crosstab(index=test_gene['Mutated'], columns=test_gene['AGE_COHORT'])\n",
    "contingency_table"
   ]
  },
  {
   "cell_type": "code",
   "execution_count": null,
   "metadata": {},
   "outputs": [],
   "source": [
    "stat_chi2, p, dof, expected = chi2_contingency(contingency_table, correction=False)\n",
    "p"
   ]
  },
  {
   "cell_type": "code",
   "execution_count": null,
   "metadata": {},
   "outputs": [],
   "source": [
    "from decimal import Decimal\n",
    "\n",
    "print('%.2E' % Decimal(p))\n",
    "\n",
    "output = \"{:.3f}\".format(p)\n",
    "print(output)"
   ]
  },
  {
   "cell_type": "code",
   "execution_count": null,
   "metadata": {},
   "outputs": [],
   "source": [
    "# interpret test-statistic\n",
    "prob = 0.90\n",
    "critical = chi2.ppf(prob, dof)\n",
    "if abs(stat_chi2) >= critical:\n",
    "    print('Dependent (reject H0)')\n",
    "else:\n",
    "    print('Independent (fail to reject H0)')"
   ]
  },
  {
   "cell_type": "code",
   "execution_count": null,
   "metadata": {},
   "outputs": [],
   "source": [
    "# interpret test-statistic\n",
    "prob = 0.95\n",
    "critical = chi2.ppf(prob, dof)\n",
    "if abs(stat_chi2) >= critical:\n",
    "    print('Dependent (reject H0)')\n",
    "else:\n",
    "    print('Independent (fail to reject H0)')"
   ]
  },
  {
   "cell_type": "code",
   "execution_count": null,
   "metadata": {
    "collapsed": true
   },
   "outputs": [],
   "source": []
  }
 ],
 "metadata": {
  "kernelspec": {
   "display_name": "Python [conda env:filter_pipeline]",
   "language": "python",
   "name": "conda-env-filter_pipeline-py"
  },
  "language_info": {
   "codemirror_mode": {
    "name": "ipython",
    "version": 3
   },
   "file_extension": ".py",
   "mimetype": "text/x-python",
   "name": "python",
   "nbconvert_exporter": "python",
   "pygments_lexer": "ipython3",
   "version": "3.7.6"
  }
 },
 "nbformat": 4,
 "nbformat_minor": 2
}
