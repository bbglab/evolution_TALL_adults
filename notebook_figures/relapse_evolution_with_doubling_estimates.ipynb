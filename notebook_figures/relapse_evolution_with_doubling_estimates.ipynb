{
 "cells": [
  {
   "cell_type": "markdown",
   "metadata": {},
   "source": [
    "This notebook calculates the minimun number of relapse cells coexisting in the primary at time of diagnosis from the doubling time estimates calculated in relapse_growth_model.ipynb. Results are represented as the barplot from Figure 5 and Additional file 1 Figure S9c"
   ]
  },
  {
   "cell_type": "code",
   "execution_count": null,
   "metadata": {
    "collapsed": true
   },
   "outputs": [],
   "source": [
    "import pandas as pd\n",
    "import numpy as np\n",
    "import matplotlib.pyplot as plt\n",
    "import matplotlib.gridspec as gridspec\n",
    "import matplotlib.patches as mpatches\n",
    "import matplotlib.lines as mlines\n",
    "import matplotlib.ticker as ticker\n",
    "import seaborn as sns\n",
    "from collections import OrderedDict\n",
    "import json\n",
    "from aux_data_in_pyvar import config_rcparams"
   ]
  },
  {
   "cell_type": "code",
   "execution_count": null,
   "metadata": {
    "collapsed": true
   },
   "outputs": [],
   "source": [
    "config_rcparams()"
   ]
  },
  {
   "cell_type": "code",
   "execution_count": null,
   "metadata": {
    "collapsed": true
   },
   "outputs": [],
   "source": [
    "## FUNCTIONS\n",
    "def function_min_cells(rw, db, measure):\n",
    "    rw['cells_{}'.format(measure)] = (7.5E11*(rw['Relapse_sample_blasts']/100))/(2**(rw['days_between_pry_rel']/db))\n",
    "    return rw"
   ]
  },
  {
   "cell_type": "markdown",
   "metadata": {},
   "source": [
    "### mininum number of cells"
   ]
  },
  {
   "cell_type": "code",
   "execution_count": null,
   "metadata": {
    "collapsed": true
   },
   "outputs": [],
   "source": [
    "# get clinical data with days and pathologist blast measures\n",
    "path_to_tsv = \"\" # path to the table of Additional file 2 Table S1\n",
    "\n",
    "df_clinical = pd.read_csv(path_to_tsv, sep='\\t')\n",
    "df_clinical.rename(columns={'Patient_id':'PATIENT'}, inplace=True)\n",
    "blasts_estimates = df_clinical[['PATIENT','days_between_pry_rel','Relapse_sample_blasts']].dropna()"
   ]
  },
  {
   "cell_type": "code",
   "execution_count": null,
   "metadata": {
    "collapsed": true
   },
   "outputs": [],
   "source": [
    "# open the doubling time estimates obtained from relapse_growth_model.ipynb\n",
    "with open('../intermediate_files/info_pop_cells.json', 'r') as fp:\n",
    "    bootstrap_estimates = json.load(fp)"
   ]
  },
  {
   "cell_type": "code",
   "execution_count": null,
   "metadata": {},
   "outputs": [],
   "source": [
    "bootstrap_estimates"
   ]
  },
  {
   "cell_type": "code",
   "execution_count": null,
   "metadata": {},
   "outputs": [],
   "source": [
    "# calculate the number of cells at time of diagnosis and compare with measures from Li et al., 2020 Blood\n",
    "doubling_times_blood = {'CI_down':5,'mean':7.4, 'CI_upp':9} \n",
    "\n",
    "for m,db in doubling_times_blood.items():\n",
    "    blasts_estimates = blasts_estimates.apply(lambda x: function_min_cells(x, db, m+'_blood'), axis=1)\n",
    "    \n",
    "for m,db in bootstrap_estimates.items():\n",
    "    blasts_estimates = blasts_estimates.apply(lambda x: function_min_cells(x, db, m+'_estimates'), axis=1)\n",
    "    \n",
    "## prepare dataframe for plot\n",
    "cols = list(blasts_estimates.columns[blasts_estimates.columns.str.contains('cells_')])\n",
    "cols.extend(['PATIENT'])\n",
    "df_plot = blasts_estimates[cols]\n",
    "df_plot.dropna(inplace=True)\n",
    "df_plot.sort_values(\"cells_mean_estimates\", ascending=False, inplace=True)\n",
    "df_plot"
   ]
  },
  {
   "cell_type": "code",
   "execution_count": null,
   "metadata": {
    "collapsed": true
   },
   "outputs": [],
   "source": [
    "#df_plot.to_csv(\"../intermediate_files/num_cells_db.tsv\", sep='\\t', index=False)"
   ]
  },
  {
   "cell_type": "markdown",
   "metadata": {},
   "source": [
    "#### Comparing with Blood paper of BALL"
   ]
  },
  {
   "cell_type": "code",
   "execution_count": null,
   "metadata": {},
   "outputs": [],
   "source": [
    "fig, ax = plt.subplots(figsize=(12,6))\n",
    "\n",
    "barWidth = 1\n",
    "\n",
    "j = 0\n",
    "xlabels = []\n",
    "\n",
    "for i,rw in df_plot.iterrows():\n",
    "    ax.bar(j, rw['cells_mean_blood'], color='#fdc9a2ff', edgecolor='white',#c8b7beff\n",
    "                width=barWidth, label='7.4 mean doubling time \\n B-ALL (Li et al., 2020, Blood)')\n",
    "    ax.vlines(x=j, ymin=rw['cells_CI_down_blood'], ymax=rw['cells_CI_upp_blood'], color=\"#4d4d4d\")\n",
    "    ax.bar(j+1, rw['cells_mean_estimates'], color='#fd8d3c', edgecolor='white',\n",
    "               width=barWidth, label='{} mean doubling time \\n T-ALL (in-house cohort)'.format(bootstrap_estimates['mean']))\n",
    "    ax.vlines(x=j+1, ymin=rw['cells_CI_down_estimates'], ymax=rw['cells_CI_upp_estimates'], color=\"#4d4d4d\")\n",
    "    xlabels.extend(['',rw['PATIENT'],''])\n",
    "    j=j+3\n",
    "\n",
    "ax.hlines(xmin=-1, xmax=j, y=1, linestyles='dashed', color='#808080ff')\n",
    "ax.hlines(xmin=-1, xmax=j, y=7.5E7, linestyles=':', color='#808080ff')\n",
    "\n",
    "ax.set_yscale('log', basey=10)\n",
    "ax.set_ylim(1E-10, 1E12)\n",
    "ax.set_yticks([1, 1E1,1E2,1E3,1E4,1E5,1E6,1E7,1E8,1E9,1E10,1E11])\n",
    "ax.set_ylabel(\"log10(number of relapse \\n cells at diagnosis)\")\n",
    "\n",
    "ax.set_xticks([x for x in range(0,j,1)])\n",
    "ax.set_xticklabels(labels=xlabels,ha='right', rotation=45)\n",
    "ax.tick_params(axis='x', length=0)\n",
    "\n",
    "ax.spines['right'].set_visible(False)\n",
    "ax.spines['top'].set_visible(False)\n",
    "    \n",
    "# Legend\n",
    "handles, labels = plt.gca().get_legend_handles_labels()\n",
    "\n",
    "dashed_line = mlines.Line2D([], [], linewidth=2, linestyle=\"--\", dashes=(3.7, 2), color='#808080ff')\n",
    "dotted_line = mlines.Line2D([], [], linewidth=2, linestyle=\":\", color='#808080ff')\n",
    "\n",
    "handles.append(dotted_line)\n",
    "labels.append('Clinical refractory threshold')\n",
    "\n",
    "handles.append(dashed_line)\n",
    "labels.append('1 relapse founder cell')\n",
    "\n",
    "ax.legend(handles=handles,bbox_to_anchor=(1,0.5),prop={'size': 8})\n",
    "by_label = OrderedDict(zip(labels, handles))\n",
    "plt.legend(by_label.values(), by_label.keys(),prop={'size': 10},bbox_to_anchor=(1,0.5))\n",
    "\n",
    "plt.tight_layout()\n",
    "fig.savefig(\"relapse_cells_in_dx_comparative.svg\", dpi=300,bbox_inches='tight')\n",
    "plt.show()"
   ]
  },
  {
   "cell_type": "markdown",
   "metadata": {},
   "source": [
    "#### Only adult TALL cohort doubling time estimate"
   ]
  },
  {
   "cell_type": "code",
   "execution_count": null,
   "metadata": {
    "collapsed": true
   },
   "outputs": [],
   "source": [
    "df_plot.reset_index(inplace=True, drop=True)"
   ]
  },
  {
   "cell_type": "code",
   "execution_count": null,
   "metadata": {},
   "outputs": [],
   "source": [
    "fig, ax = plt.subplots(figsize=(10,6))\n",
    "\n",
    "barWidth = 0.8\n",
    "\n",
    "\n",
    "xlabels = []\n",
    "\n",
    "for i,rw in df_plot.iterrows():\n",
    "    ax.bar(i, float(rw['cells_mean_estimates']) , color='#fedabfff', edgecolor='#fd8d3c',linewidth=2,\n",
    "               width=barWidth, label='{} mean doubling time \\n T-ALL (in-house cohort)'.format(bootstrap_estimates['mean']))\n",
    "    ax.vlines(x=i, ymin=rw['cells_CI_down_estimates'], ymax=rw['cells_CI_upp_estimates'], color=\"#4d4d4d\")\n",
    "    xlabels.append(rw['PATIENT'])\n",
    "   \n",
    "\n",
    "ax.hlines(xmin=-1, xmax=i+1, y=1, linestyles='dashed', color='#808080ff') # 1 cell\n",
    "ax.hlines(xmin=-1, xmax=i+1, y=7.5E7, linestyles=':', color='#808080ff') # pathologist limit 0.01%\n",
    "ax.hlines(xmin=-1, xmax=i+1, y=6.68E06, linestyles='dashdot', color='#808080ff') # dPCR limit 0.089%\n",
    "#ax.hlines(xmin=-1, xmax=i+1, y=8.25E06, linestyles='-',color='#808080ff') # dPCR limit 0.11%\n",
    "\n",
    "ax.set_yscale('log', basey=10)\n",
    "ax.set_ylim(1E-10, 1E12)\n",
    "ax.set_yticks([1,1E1,1E2,1E3,1E4,1E5,1E6,1E7,1E8,1E9,1E10,1E11])\n",
    "ax.set_ylabel(\"log10(number of relapse \\n cells at diagnosis)\")\n",
    "\n",
    "ax.set_xticks([x for x in range(0,len(df_plot['PATIENT'].unique()),1)])\n",
    "ax.set_xticklabels(labels=xlabels,ha='center', rotation=90)\n",
    "ax.tick_params(axis='x', length=0)\n",
    "\n",
    "ax.spines['right'].set_visible(False)\n",
    "ax.spines['top'].set_visible(False)\n",
    "    \n",
    "# Legend\n",
    "handles, labels = plt.gca().get_legend_handles_labels()\n",
    "\n",
    "dashed_line = mlines.Line2D([], [], linewidth=2, linestyle=\"--\", dashes=(3.7, 2), color='#808080ff')\n",
    "dotted_line = mlines.Line2D([], [], linewidth=2, linestyle=\":\", color='#808080ff')\n",
    "dashdot_line = mlines.Line2D([], [], linewidth=2, linestyle='dashdot', color='#808080ff')\n",
    "#solid_line = mlines.Line2D([], [], linewidth=2, linestyle='-',color='#808080ff')\n",
    "\n",
    "handles.append(dotted_line)\n",
    "labels.append('MRD 0.01')\n",
    "dashes=(0, (3, 5, 1, 5, 1, 5))\n",
    "handles.append(dashed_line)\n",
    "labels.append('1 relapse founder cell')\n",
    "\n",
    "handles.append(dashdot_line)\n",
    "labels.append('dPCR detection limit SMARCA4')\n",
    "\n",
    "ax.legend(handles=handles,bbox_to_anchor=(1,0.5),prop={'size': 8})\n",
    "by_label = OrderedDict(zip(labels, handles))\n",
    "plt.legend(by_label.values(), by_label.keys(),prop={'size': 14},bbox_to_anchor=(1,0.5))\n",
    "\n",
    "plt.tight_layout()\n",
    "fig.savefig(\"relapse_cells_in_dx.svg\", dpi=300,bbox_inches='tight')\n",
    "plt.show()"
   ]
  },
  {
   "cell_type": "markdown",
   "metadata": {},
   "source": [
    "PAT8 mutación: T786I límite: aprox 0.11%\n",
    "\n",
    "PAT14 mutación: G1162S límite: 0.089%."
   ]
  },
  {
   "cell_type": "code",
   "execution_count": null,
   "metadata": {
    "collapsed": true
   },
   "outputs": [],
   "source": []
  }
 ],
 "metadata": {
  "kernelspec": {
   "display_name": "Python [conda env:filter_pipeline]",
   "language": "python",
   "name": "conda-env-filter_pipeline-py"
  },
  "language_info": {
   "codemirror_mode": {
    "name": "ipython",
    "version": 3
   },
   "file_extension": ".py",
   "mimetype": "text/x-python",
   "name": "python",
   "nbconvert_exporter": "python",
   "pygments_lexer": "ipython3",
   "version": "3.7.6"
  }
 },
 "nbformat": 4,
 "nbformat_minor": 2
}
