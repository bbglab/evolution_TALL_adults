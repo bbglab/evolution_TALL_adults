{
 "cells": [
  {
   "cell_type": "markdown",
   "metadata": {},
   "source": [
    "This notebook calculates the mutational burden of the cohorts of the first part of the analysis. The sigmoid plot belongs to figure 1a of the paper. \n",
    "\n",
    "This piece of code relies on a workspace directory structure such as \n",
    "```\n",
    "cohort/\n",
    "\tpatientID/\n",
    "\t\tDxTumorID_vs_normalID/\n",
    "\t\tReTumorID_vs_normalID/ (sometimes)\n",
    "\n",
    "```\n",
    " patientID, DxTumorID etc can be found in ../ext_files/all_cohort_clinical_groups.tsv\n",
    " \n",
    "Be aware that the filtered mafs with clonal classification and joined mutations after running the scripts in ```filter/```  have the following file name: ```TumorID_vs_normalID + _strelka_uniq_all_anno_vep92_categories_filt_snps_cluster.maf``` \n",
    ".This file name is used in the following code."
   ]
  },
  {
   "cell_type": "code",
   "execution_count": null,
   "metadata": {
    "collapsed": true
   },
   "outputs": [],
   "source": [
    "import os\n",
    "import pandas as pd\n",
    "import numpy as np\n",
    "import glob\n",
    "from io import StringIO\n",
    "import math\n",
    "\n",
    "import matplotlib.pyplot as plt\n",
    "import matplotlib.gridspec as gridspec\n",
    "import seaborn as sns\n",
    "\n",
    "from aux_data_in_pyvar import config_rcparams, PATS_DIRS, TOTAL_LEN_GENOME\n",
    "\n",
    "\n",
    "pd.set_option('display.max_columns', None)\n",
    "pd.set_option('display.max_rows', None)\n",
    "pd.set_option('display.max_colwidth', -1)"
   ]
  },
  {
   "cell_type": "code",
   "execution_count": null,
   "metadata": {
    "collapsed": true
   },
   "outputs": [],
   "source": [
    "config_rcparams()"
   ]
  },
  {
   "cell_type": "code",
   "execution_count": null,
   "metadata": {},
   "outputs": [],
   "source": [
    "# read clinical data\n",
    "info_cohorts = pd.read_csv(\"../ext_files/all_cohort_clinical_groups.tsv\", sep='\\t')\n",
    "info_cohorts['SUBTYPE_LABEL'] = info_cohorts['SUBTYPE_LABEL'].str.replace(\"PHALL\", 'Ph positive')\n",
    "info_cohorts.head()"
   ]
  },
  {
   "cell_type": "code",
   "execution_count": null,
   "metadata": {
    "collapsed": true
   },
   "outputs": [],
   "source": [
    "#filter\n",
    "info_cohorts = info_cohorts[(info_cohorts['STAGE'] == 'primary') & (info_cohorts['SEQUENCING'] == 'WGS')]\n",
    "info_cohorts = info_cohorts[~info_cohorts['AGE_RANGE'].isnull()]\n",
    "info_cohorts = info_cohorts[~info_cohorts['PATIENT'].isin(['PAT3', 'PAT4'])]"
   ]
  },
  {
   "cell_type": "code",
   "execution_count": null,
   "metadata": {
    "collapsed": true
   },
   "outputs": [],
   "source": [
    "# read pediatric data of public repositories\n",
    "\n",
    "dff_count_cohorts = pd.DataFrame()\n",
    "pediatric_maf_path = \"\" # add here the path to the pediatric cohorts\n",
    "\n",
    "for f in glob.glob(os.path.join(pediatric_maf_path, \"*/SJ*/SJ*_vs_SJ*/*_strelka_uniq_all_anno_vep92_categories_filt_snps_cluster.maf\")):\n",
    "        \n",
    "    pat = f.split(\"/\")[-3]\n",
    "    com = f.split(\"/\")[-2]\n",
    "    info_sam = info_cohorts[info_cohorts['COMPARISON'] == com].reset_index()\n",
    "    \n",
    "    if info_sam.empty == False:\n",
    "\n",
    "        df = pd.read_csv(f, sep='\\t')\n",
    "        muts_clonal = df[df['clonal_classification'] == 'clonal']\n",
    "\n",
    "        dff_count_cohorts = dff_count_cohorts.append({'COHORT':info_sam.loc[0, 'COHORT'], 'TYPE':info_sam.loc[0, 'TYPE'], \n",
    "                                                      'SUBTYPE_LABEL':info_sam.loc[0, 'SUBTYPE_LABEL'],\n",
    "                                                      'AGE_RANGE':info_sam.loc[0, 'AGE_RANGE'], 'STAGE':info_sam.loc[0, 'STAGE'], \n",
    "                                                      'MUTS':len(muts_clonal), \n",
    "                                                      'SNVS':len(muts_clonal[muts_clonal['mut_type'] == 'snv']),\n",
    "                                                      'INDELS':len(muts_clonal[muts_clonal['mut_type'] == 'indels']),\n",
    "                                                      'SAMPLE':com}, ignore_index=True)\n"
   ]
  },
  {
   "cell_type": "code",
   "execution_count": null,
   "metadata": {
    "collapsed": true
   },
   "outputs": [],
   "source": [
    "# read adult patient's data\n",
    "\n",
    "for i, rw in info_cohorts[info_cohorts['COHORT'] == 'ADULT TALL AECC PROJECT'].iterrows():\n",
    "    pat = info_cohorts.loc[i, 'PATIENT']\n",
    "    com = info_cohorts.loc[i, 'COMPARISON']\n",
    "    \n",
    "    df = pd.read_csv(os.path.join(PATS_DIRS[pat], pat, com, com+\"_strelka_uniq_all_anno_vep92_categories_filt_snps_cluster.maf\"), sep='\\t')\n",
    "    muts_clonal = df[df['clonal_classification'] == 'clonal']\n",
    "\n",
    "    dff_count_cohorts = dff_count_cohorts.append({'COHORT':info_cohorts.loc[i, 'COHORT'], 'TYPE':info_cohorts.loc[i, 'TYPE'], \n",
    "                                                      'SUBTYPE_LABEL':info_cohorts.loc[i, 'SUBTYPE_LABEL'],\n",
    "                                                      'AGE_RANGE':info_cohorts.loc[i, 'AGE_RANGE'], 'STAGE':info_cohorts.loc[i, 'STAGE'], \n",
    "                                                      'MUTS':len(muts_clonal), \n",
    "                                                      'SNVS':len(muts_clonal[muts_clonal['mut_type'] == 'snv']),\n",
    "                                                      'INDELS':len(muts_clonal[muts_clonal['mut_type'] == 'indels']),\n",
    "                                                      'SAMPLE':com}, ignore_index=True)"
   ]
  },
  {
   "cell_type": "code",
   "execution_count": null,
   "metadata": {},
   "outputs": [],
   "source": [
    "# compute mutation burden\n",
    "\n",
    "dff_count_cohorts['MUTS/MB'] = dff_count_cohorts['MUTS'].apply(lambda x: (x/TOTAL_LEN_GENOME)*(1*10**6))\n",
    "dff_count_cohorts['log2(MUTS/MB)'] = dff_count_cohorts['MUTS'].apply(lambda x:  math.log2((x/TOTAL_LEN_GENOME)*(1*10**6)))\n",
    "dff_count_cohorts[['SUBTYPE_LABEL', 'SAMPLE']].groupby('SUBTYPE_LABEL').count()"
   ]
  },
  {
   "cell_type": "code",
   "execution_count": null,
   "metadata": {
    "collapsed": true
   },
   "outputs": [],
   "source": [
    "# sort cohorts by ascending median of number of mutations per patient \n",
    "\n",
    "sorter = pd.DataFrame()\n",
    "\n",
    "grps = dff_count_cohorts[dff_count_cohorts['SUBTYPE_LABEL'] != 'Other'].groupby(\"SUBTYPE_LABEL\")\n",
    "\n",
    "for g in grps.groups:\n",
    "    df_group = grps.get_group(g)\n",
    "    df_group = df_group.sort_values('log2(MUTS/MB)', ascending=True).reset_index(drop=True)\n",
    "    df_group.reset_index(inplace=True)\n",
    "    median = df_group['log2(MUTS/MB)'].median()\n",
    "    sorter = sorter.append({'SUBTYPE_LABEL':g, 'median':median}, ignore_index=True)\n",
    "    \n",
    "sorter.sort_values(\"median\", inplace=True, ascending=True)\n",
    "order_subtype = sorter['SUBTYPE_LABEL'].tolist()"
   ]
  },
  {
   "cell_type": "code",
   "execution_count": null,
   "metadata": {},
   "outputs": [],
   "source": [
    "order_subtype"
   ]
  },
  {
   "cell_type": "code",
   "execution_count": null,
   "metadata": {},
   "outputs": [],
   "source": [
    "## make plot\n",
    "\n",
    "dire_plot = \"\" # path for the figure\n",
    "\n",
    "grps = dff_count_cohorts.groupby(\"SUBTYPE_LABEL\")\n",
    "\n",
    "fig, axarr = plt.subplots(1,len(order_subtype), figsize=(15, 3), gridspec_kw={'wspace':0.1, 'hspace':0.5}, sharey=True)\n",
    "\n",
    "for i,g in enumerate(order_subtype):\n",
    "    \n",
    "    # cohort\n",
    "    df_group = grps.get_group(g)\n",
    "    df_group = df_group.sort_values('log2(MUTS/MB)', ascending=True).reset_index(drop=True)\n",
    "    df_group.reset_index(inplace=True)\n",
    "    median = df_group['log2(MUTS/MB)'].median()\n",
    "    print(\"{} {}\".format(g, median))\n",
    "    \n",
    "    # scatter\n",
    "    xticks = df_group['index'].tolist()\n",
    "    xtickslabels = df_group['SAMPLE'].tolist()\n",
    "    yvalues = df_group['log2(MUTS/MB)'].tolist()\n",
    "    axarr[i].scatter(x=xticks, y=yvalues, color='#2a2a2a')\n",
    "    axarr[i].set_xlabel(g, fontsize=14)\n",
    "    axarr[i].plot([(len(df_group)/2)-5,(len(df_group)/2)+5],[median,median], color='r')\n",
    "    if i ==0:\n",
    "        axarr[i].set_ylabel('log2(muts/mb)', fontsize=14)\n",
    "    axarr[i].tick_params(axis='both', which='major', labelsize=12)\n",
    "    \n",
    "    fig.suptitle(\"MUTATIONAL BURDEN\", fontsize=16)\n",
    "plt.tight_layout()\n",
    "fig.savefig(os.path.join(dire_plot, \"mutational_burden.svg\"), dpi=300,bbox_inches='tight')\n",
    "plt.show()"
   ]
  }
 ],
 "metadata": {
  "kernelspec": {
   "display_name": "Python [conda env:filter_pipeline]",
   "language": "python",
   "name": "conda-env-filter_pipeline-py"
  },
  "language_info": {
   "codemirror_mode": {
    "name": "ipython",
    "version": 3
   },
   "file_extension": ".py",
   "mimetype": "text/x-python",
   "name": "python",
   "nbconvert_exporter": "python",
   "pygments_lexer": "ipython3",
   "version": "3.7.6"
  }
 },
 "nbformat": 4,
 "nbformat_minor": 2
}
