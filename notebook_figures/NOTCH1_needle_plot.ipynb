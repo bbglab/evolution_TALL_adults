{
 "cells": [
  {
   "cell_type": "markdown",
   "metadata": {},
   "source": [
    "This notebook does the needle plot of NOTCH1 of Figure 2 c in the paper. Protein domains were added latter with an SVG software. \n",
    "\n",
    "Input of this notebook are the re-annotated NOTCH1 mutations with exons. "
   ]
  },
  {
   "cell_type": "code",
   "execution_count": null,
   "metadata": {
    "collapsed": true
   },
   "outputs": [],
   "source": [
    "import sys, os\n",
    "os.environ[\"PATH\"] = os.path.dirname(sys.executable) + os.pathsep + os.environ[\"PATH\"]"
   ]
  },
  {
   "cell_type": "code",
   "execution_count": null,
   "metadata": {
    "collapsed": true
   },
   "outputs": [],
   "source": [
    "import pandas as pd\n",
    "import numpy as np\n",
    "import seaborn\n",
    "import matplotlib.pyplot as plt\n",
    "import matplotlib.patches as mpatch\n",
    "import pybedtools\n",
    "from aux_data_in_pyvar import config_rcparams\n",
    "\n",
    "pd.set_option('display.max_columns', None)\n",
    "pd.set_option('display.max_rows', None)\n",
    "pd.set_option('display.max_colwidth', -1)"
   ]
  },
  {
   "cell_type": "code",
   "execution_count": null,
   "metadata": {
    "collapsed": true
   },
   "outputs": [],
   "source": [
    "## FUNCTIONS\n",
    "\n",
    "def plot_combination(combination_subset, coord_x, ax_grid, coord_y=1):\n",
    "    size_standard = 100\n",
    "    #size_standard = 160\n",
    "    \n",
    "    if {'shared', 'private_relapse','private_primary'} == combination_subset:\n",
    "        ax_grid = drawPieMarker(xs=coord_x,\n",
    "              ys=coord_y,\n",
    "              ratios=[0.5, 0.5],\n",
    "              sizes=[size_standard,size_standard],\n",
    "              colors=['#2c7fb8','#fd8d3c'],\n",
    "              border_colors = \"#006837\",\n",
    "              border_width = 2,\n",
    "              ax = ax_grid)  \n",
    "    elif {'shared', 'private_relapse'} == combination_subset:\n",
    "        ax_grid = drawPieMarker(xs=coord_x,\n",
    "              ys=coord_y,\n",
    "              ratios=[0.5, 0.5],\n",
    "              sizes=[size_standard,size_standard],\n",
    "              colors=['#FFFFFF','#fd8d3c'],\n",
    "              border_colors = \"#006837\",\n",
    "              border_width = 2,\n",
    "              ax = ax_grid)  \n",
    "    elif {'shared', 'private_primary'} == combination_subset:\n",
    "        ax_grid = drawPieMarker(xs=coord_x,\n",
    "              ys=coord_y,\n",
    "              ratios=[0.5, 0.5],\n",
    "              sizes=[size_standard,size_standard],\n",
    "              colors=['#2c7fb8','#FFFFFF'],\n",
    "              border_colors = \"#006837\",\n",
    "              border_width = 2,\n",
    "              ax = ax_grid)  \n",
    "    elif {'private_primary', 'private_relapse'} == combination_subset:\n",
    "        ax_grid = drawPieMarker(xs=coord_x,\n",
    "              ys=coord_y,\n",
    "              ratios=[0.5, 0.5],\n",
    "              sizes=[size_standard,size_standard],\n",
    "              colors=['#2c7fb8','#fd8d3c'],\n",
    "              border_colors = '#FFFFFF',\n",
    "              border_width = 0.8,\n",
    "              ax = ax_grid)  \n",
    "    elif {'shared'} == combination_subset:\n",
    "        ax_grid = drawPieMarker(xs=coord_x,\n",
    "              ys=coord_y,\n",
    "              ratios=[1],\n",
    "              sizes=[size_standard],\n",
    "              colors=['#FFFFFF'],\n",
    "              border_colors = \"#006837\",\n",
    "              border_width = 2,\n",
    "              ax = ax_grid)\n",
    "    elif {'private_primary'} == combination_subset:\n",
    "        ax_grid = drawPieMarker(xs=coord_x,\n",
    "              ys=coord_y,\n",
    "              ratios=[0.5, 0.5],\n",
    "              sizes=[size_standard,size_standard],\n",
    "              colors=['#2c7fb8','#FFFFFF'],\n",
    "              border_colors = '#FFFFFF',\n",
    "              border_width = 0.8,\n",
    "              ax = ax_grid)\n",
    "    elif {'private_relapse'} == combination_subset:\n",
    "        ax_grid = drawPieMarker(xs=coord_x,\n",
    "              ys=coord_y,\n",
    "              ratios=[0.5, 0.5],\n",
    "              sizes=[size_standard,size_standard],\n",
    "              colors=['#FFFFFF', '#fd8d3c'],\n",
    "              border_colors = '#FFFFFF',\n",
    "              border_width = 0.8,\n",
    "              ax = ax_grid)\n",
    "    else:\n",
    " #       drawPieMarker(xs=coord_x,\n",
    " #             ys=1,\n",
    " #             ratios=[1],\n",
    " #             sizes=[size_standard],\n",
    " #             colors=['#FFFFFF'],\n",
    " #             border_colors = '#FFFFFF',\n",
    " #             ax = ax_grid)\n",
    "        pass\n",
    "    return ax_grid\n",
    "\n",
    "    \n",
    "def drawPieMarker(xs, ys, ratios, sizes, colors, border_colors, border_width, ax):\n",
    "    \"Adapted from https://stackoverflow.com/questions/56337732/how-to-plot-scatter-pie-chart-using-matplotlib\"\n",
    "    assert sum(ratios) <= 1, 'sum of ratios needs to be < 1'\n",
    "    \n",
    "    markers = []\n",
    "    previous = 0\n",
    "    # calculate the points of the pie pieces\n",
    "    for color, ratio in zip(colors, ratios):\n",
    "        this = 2 * np.pi * ratio + previous\n",
    "        x  = [0] + np.cos(np.linspace(previous, this, 40)).tolist() + [0]\n",
    "        y  = [0] + np.sin(np.linspace(previous, this, 40)).tolist() + [0]\n",
    "        xy = np.column_stack([x, y])\n",
    "        previous = this\n",
    "        markers.append({'marker':xy, 's':np.abs(xy).max()**2*np.array(sizes), 'facecolor':color, \n",
    "                        'edgecolors':border_colors, 'linewidth':border_width})\n",
    "\n",
    "    # scatter each of the pie pieces to create pies\n",
    "    if len(ratios) == 1:\n",
    "        ax.scatter(xs, ys, marker = 'o',s=np.abs(xy).max()**2*np.array(sizes), facecolor=color, \n",
    "                        edgecolors=border_colors, linewidth=border_width)\n",
    "        #ax.set_ylim(-2,2)\n",
    "    else:\n",
    "        for marker in markers: \n",
    "            ax.scatter(xs, ys, **marker)\n",
    "            #ax.set_ylim(-2,2)\n",
    "    return ax"
   ]
  },
  {
   "cell_type": "code",
   "execution_count": null,
   "metadata": {
    "collapsed": true
   },
   "outputs": [],
   "source": [
    "out_path = \"\" # path for the figure"
   ]
  },
  {
   "cell_type": "code",
   "execution_count": null,
   "metadata": {},
   "outputs": [],
   "source": [
    "## READ NOTCH1 DRIVER MUTATIONS\n",
    "\n",
    "candidates_notch1 = pd.read_csv(\"../intermediate_files/notch1_needle_muts/candidate_muts_notch1.tsv\", sep='\\t')\n",
    "candidates_notch1['AA_change'] = candidates_notch1.apply(lambda x: x['Amino_acids'].split(\"/\")[0]+x['Protein_position']+x['Amino_acids'].split(\"/\")[1], axis=1)\n",
    "candidates_notch1['exon'] = candidates_notch1['EXON'].apply(lambda x: x.split(\"/\")[0])\n",
    "candidates_notch1['exon'] = candidates_notch1['exon'].astype(int)\n",
    "candidates_notch1.head()"
   ]
  },
  {
   "cell_type": "code",
   "execution_count": null,
   "metadata": {},
   "outputs": [],
   "source": [
    "## READ EXON COORDINATES\n",
    "\n",
    "exons_notch1 = pd.read_csv(\"../ext_files/notch1_exons.txt\", sep='\\t')\n",
    "exons_notch1['length_exon'] = exons_notch1.apply(lambda x: x['Exon region end (bp)'] - x['Exon region start (bp)'], axis=1)\n",
    "\n",
    "lists = [i for i in range(0,34,1)]\n",
    "exons_notch1 = exons_notch1.iloc[lists]\n",
    "\n",
    "exons_notch1.sort_values('Exon region start (bp)', ascending=True, inplace=True)\n",
    "exons_notch1.head()"
   ]
  },
  {
   "cell_type": "code",
   "execution_count": null,
   "metadata": {
    "collapsed": true
   },
   "outputs": [],
   "source": [
    "## RE-SCALE EXON COORDINATES FOR THE FIGURE\n",
    "\n",
    "prev_coord = 1\n",
    "\n",
    "exons_rescale = pd.DataFrame()\n",
    "\n",
    "for i, rw in exons_notch1.iterrows():\n",
    "    exons_rescale = exons_rescale.append({'exon_num':rw['Exon rank in transcript'], 'start_exon':prev_coord, 'end_exon':prev_coord+rw['length_exon'], \n",
    "                     'original_start_exon':rw['Exon region start (bp)'],\n",
    "                     'original_end_exon':rw['Exon region end (bp)'],'length':rw['length_exon']}, ignore_index=True)\n",
    "    prev_coord = prev_coord+rw['length_exon']+1\n",
    "    \n",
    "    \n",
    "exons_rescale[['exon_num','start_exon', 'end_exon', 'original_start_exon', 'original_end_exon', 'length']] = exons_rescale[['exon_num','start_exon', 'end_exon', 'original_start_exon', 'original_end_exon', 'length']].astype(int)\n",
    "exons_rescale['chrom'] = '9'\n",
    "exons_rescale = exons_rescale[['chrom','original_start_exon', 'original_end_exon', 'start_exon', 'end_exon', 'length', 'exon_num']]"
   ]
  },
  {
   "cell_type": "code",
   "execution_count": null,
   "metadata": {},
   "outputs": [],
   "source": [
    "## MERGE MUTATIONS WITH EXON COORDINATES\n",
    "\n",
    "muts = pybedtools.BedTool.from_dataframe(candidates_notch1[['#CHROM', 'POS', 'POS','REF', 'ALT', \n",
    "                                                            'SYMBOL', 'Consequence', 'AA_change',\n",
    "                                                            'PATIENT', 'COHORT', \n",
    "                                                            'Variant','subset', 'exon']])\n",
    "exons = pybedtools.BedTool.from_dataframe(exons_rescale)\n",
    "\n",
    "result = muts.intersect(exons, loj = True)\n",
    "\n",
    "merged = pd.read_table(result.fn, names=['#CHROM', 'POS', 'END','REF', 'ALT', 'SYMBOL', 'Consequence',\n",
    "                                         'AA_change','PATIENT', 'COHORT', 'Variant','subset', 'exon', \n",
    "                                         'chrom','original_start_exon', 'original_end_exon', 'start_exon', \n",
    "                                         'end_exon', 'length', 'exon_num'])\n",
    "print(len(merged))\n",
    "merged['length_start_pos'] = merged.apply(lambda x: x['POS']-x['original_start_exon'], axis=1) \n",
    "merged['pos_rescaled'] = merged['start_exon']+merged['length_start_pos']\n",
    "merged[['POS', 'original_start_exon',\n",
    "       'original_end_exon', 'start_exon', 'end_exon', 'length', 'exon_num',\n",
    "       'length_start_pos', 'pos_rescaled', 'AA_change']].sort_values(\"POS\", ascending=False)"
   ]
  },
  {
   "cell_type": "code",
   "execution_count": null,
   "metadata": {},
   "outputs": [],
   "source": [
    "## SEPARATE BY AGE GROUPS\n",
    "\n",
    "# ADULT MUTS ABOVE FIGURE\n",
    "merged_adult = merged[merged['COHORT'] == 'ADULT TALL AECC PROJECT']\n",
    "merged_adult.sort_values(by=['exon_num', 'pos_rescaled'],ascending=[True, False], inplace=True)\n",
    "merged_adult.reset_index(inplace=True, drop=True)\n",
    "\n",
    "\n",
    "# PEDIATRIC MUTS BELOW FIGURE\n",
    "merged_pedia = merged[merged['COHORT'] != 'ADULT TALL AECC PROJECT']\n",
    "merged_pedia.sort_values(by=['exon_num', 'pos_rescaled'],ascending=[True, False], inplace=True)\n",
    "merged_pedia.reset_index(inplace=True, drop=True)"
   ]
  },
  {
   "cell_type": "code",
   "execution_count": null,
   "metadata": {
    "scrolled": true
   },
   "outputs": [],
   "source": [
    "merged_adult[['PATIENT', 'POS','subset','AA_change','exon']].sort_values(by=['PATIENT','exon','POS'], ascending=[True, False,True])"
   ]
  },
  {
   "cell_type": "markdown",
   "metadata": {},
   "source": [
    "A few adult NOTCH1 mutations with positions that are consecutive seem to be calling errors due to a misalingment of the region. After inspection of the BAM are manually corrected "
   ]
  },
  {
   "cell_type": "code",
   "execution_count": null,
   "metadata": {
    "collapsed": true
   },
   "outputs": [],
   "source": [
    "errors = ['9_139399325_G_T','9_139400005_G_A','9_139390864_C_G']\n",
    "\n",
    "merged_adult = merged_adult[~merged_adult['Variant'].isin(errors)]"
   ]
  },
  {
   "cell_type": "code",
   "execution_count": null,
   "metadata": {},
   "outputs": [],
   "source": [
    "## FIGURE\n",
    "\n",
    "fig,ax = plt.subplots(figsize=(20,30))\n",
    "lenght = exons_rescale[exons_rescale['exon_num'] == 1]['end_exon'].unique()[0]\n",
    "ax.set_ylim(-40,30)\n",
    "ax.set_xlim(0,lenght+1)\n",
    "\n",
    "ax.spines['bottom'].set_linewidth(0.25)\n",
    "ax.spines['left'].set_linewidth(0.25)\n",
    "ax.spines['right'].set_visible(False)\n",
    "ax.spines['top'].set_visible(False)\n",
    "\n",
    "ax.hlines(xmin=1.,xmax=lenght,y=-0.15,lw=2,color=\"black\",alpha=1.)\n",
    "for i,r in exons_rescale.iterrows():\n",
    "    rect = mpatch.Rectangle(xy=(r[\"start_exon\"],-0.3),width=r[\"length\"],height=0.3,\n",
    "                            color='#fcbba1',alpha=1., zorder=2, ec='black')\n",
    "    ax.annotate(s=r[\"exon_num\"],xy=((r[\"length\"]/2)+r['start_exon'],-0.3),fontsize=10, ha='center')\n",
    "    ax.add_patch(rect)\n",
    "\n",
    "#adults\n",
    "\n",
    "for i ,rw in merged_adult.iterrows():\n",
    "    ax = plot_combination({rw['subset']}, coord_x=rw['pos_rescaled'], ax_grid=ax, coord_y=1+i) \n",
    "    ax.text(s=rw['AA_change'], x=rw['pos_rescaled'], y=1.5+i, rotation=90, ha='center',  va='bottom')\n",
    "    ax.vlines(x=rw['pos_rescaled'], ymin=0, ymax=0.9+i, linestyles='dashed', color='#BFBFBF')\n",
    "\n",
    "#pediatrics    \n",
    "for j ,rw_2 in merged_pedia.iterrows():\n",
    "    ax = plot_combination({rw_2['subset']}, coord_x=rw_2['pos_rescaled'], ax_grid=ax, coord_y=-1-j)\n",
    "    ax.text(s=rw_2['AA_change'], x=rw_2['pos_rescaled'], y=-1.2-j, rotation=90, ha='center',  va='top')\n",
    "    ax.vlines(x=rw_2['pos_rescaled'], ymax=-0.15, ymin=-0.9-j, linestyles='dashed', color='#BFBFBF')\n",
    "    \n",
    "ax.set_yticks([])\n",
    "ax.set_xticks([])\n",
    "ax.spines['top'].set_visible(False)\n",
    "ax.spines['right'].set_visible(False)\n",
    "ax.spines['bottom'].set_visible(False)\n",
    "ax.spines['left'].set_visible(False)\n",
    "\n",
    "fig.savefig(os.path.join(out_path,\"notch1_python.svg\"), dpi=100)\n",
    "plt.show()"
   ]
  }
 ],
 "metadata": {
  "kernelspec": {
   "display_name": "Python [conda env:filter_pipeline]",
   "language": "python",
   "name": "conda-env-filter_pipeline-py"
  },
  "language_info": {
   "codemirror_mode": {
    "name": "ipython",
    "version": 3
   },
   "file_extension": ".py",
   "mimetype": "text/x-python",
   "name": "python",
   "nbconvert_exporter": "python",
   "pygments_lexer": "ipython3",
   "version": "3.7.6"
  }
 },
 "nbformat": 4,
 "nbformat_minor": 2
}
