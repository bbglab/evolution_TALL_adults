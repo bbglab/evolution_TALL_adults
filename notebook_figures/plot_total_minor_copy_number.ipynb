{
 "cells": [
  {
   "cell_type": "markdown",
   "metadata": {
    "collapsed": true
   },
   "source": [
    "This notebook makes plots of the copy number profile of each sample from FACETS results which correspond to Additional file 1 Figure S5.\n",
    "\n",
    "This piece of code relies on a workspace directory structure such as \n",
    "```\n",
    "cohort/\n",
    "\tpatientID/\n",
    "\t\tDxTumorID_vs_normalID/\n",
    "\t\tReTumorID_vs_normalID/ (sometimes)\n",
    "\n",
    "```\n",
    " patientID, DxTumorID etc can be found in ../ext_files/all_cohort_clinical_groups.tsv\n",
    "\n",
    "The results of the calls from FACETS are expected to come from runs that used scripts here: ```../ext_runs/run_FACETS``` and the calls for each patient are expected to follow the above folder system."
   ]
  },
  {
   "cell_type": "code",
   "execution_count": null,
   "metadata": {
    "collapsed": true
   },
   "outputs": [],
   "source": [
    "import sys, os\n",
    "import pandas as pd\n",
    "import numpy as np\n",
    "import glob\n",
    "import matplotlib.pyplot as plt\n",
    "import matplotlib.gridspec as gridspec\n",
    "import seaborn as sns\n",
    "\n",
    "from matplotlib import collections  as mc\n",
    "from aux_data_in_pyvar import config_rcparams\n",
    "from aux_functions import process_cnv\n",
    "\n",
    "pd.set_option('display.max_columns', None)\n",
    "pd.set_option('display.max_rows', None)\n",
    "pd.set_option('display.max_colwidth', -1)\n",
    "\n",
    "%load_ext autoreload\n",
    "%autoreload 2"
   ]
  },
  {
   "cell_type": "code",
   "execution_count": null,
   "metadata": {
    "collapsed": true
   },
   "outputs": [],
   "source": [
    "config_rcparams()"
   ]
  },
  {
   "cell_type": "code",
   "execution_count": null,
   "metadata": {
    "collapsed": true
   },
   "outputs": [],
   "source": [
    "dict_cnv = {\n",
    "    0: -1,\n",
    "    1: -0.5,\n",
    "    2: 0,\n",
    "    3: 0.5,\n",
    "    4: 1,\n",
    "    5: 1.5,\n",
    "    6: 2,\n",
    "    7: 2.5,\n",
    "    8: 3}"
   ]
  },
  {
   "cell_type": "code",
   "execution_count": null,
   "metadata": {},
   "outputs": [],
   "source": [
    "# get chromosome length\n",
    "\n",
    "length_chrom = pd.read_table(\"../ext_files/chrom_length\", sep='\\t', names=['chrom', 'len', 'sth'])\n",
    "length_chrom = length_chrom.drop('sth', axis=1)\n",
    "length_chrom['chrom'] = length_chrom['chrom'].str.replace(\"chr\", \"\")\n",
    "length_chrom = length_chrom[length_chrom['chrom'] != 'Y']\n",
    "\n",
    "order_chrom = [str(x) for x in range(1,23,1)]\n",
    "order_chrom.extend(['X'])\n",
    "\n",
    "total = 30956774120 \n",
    "length_chrom['prop'] = length_chrom.apply(lambda x: (x['len']/total)*100,axis=1)\n",
    "length_chrom = length_chrom.sort_values(by='chrom')\n",
    "\n",
    "prop_chrom = length_chrom[['chrom', 'prop']]\n",
    "prop_chrom = prop_chrom.set_index('chrom')\n",
    "prop_chrom = prop_chrom.loc[order_chrom]\n",
    "widths = list(prop_chrom['prop'])\n",
    "\n",
    "length_chrom.set_index('chrom', inplace=True)\n",
    "length_chrom = length_chrom.to_dict()\n",
    "length_chrom = length_chrom['len']\n",
    "length_chrom"
   ]
  },
  {
   "cell_type": "markdown",
   "metadata": {},
   "source": [
    "#### Read and fix copy number "
   ]
  },
  {
   "cell_type": "code",
   "execution_count": null,
   "metadata": {
    "collapsed": true
   },
   "outputs": [],
   "source": [
    "## READ CLINICAL DATA\n",
    "clinical = pd.read_csv(\"../ext_files/all_cohort_clinical_groups.tsv\", sep='\\t')\n",
    "clinical = clinical[clinical['COHORT'] == \"ADULT TALL AECC PROJECT\"]\n",
    "\n",
    "\n",
    "## ADULT DATA\n",
    "dire_in = \"\" # run of facets\n",
    "dire_out = \"\" # input path for figures"
   ]
  },
  {
   "cell_type": "code",
   "execution_count": null,
   "metadata": {
    "collapsed": true,
    "scrolled": true
   },
   "outputs": [],
   "source": [
    "facets_results = process_cnv(dire_in, clinical)"
   ]
  },
  {
   "cell_type": "markdown",
   "metadata": {},
   "source": [
    "#### Plot copy number"
   ]
  },
  {
   "cell_type": "code",
   "execution_count": null,
   "metadata": {
    "collapsed": true
   },
   "outputs": [],
   "source": [
    "grps_pat = facets_results.groupby(\"patient\")\n",
    "order_sample = set(facets_results['sample'].sort_values())"
   ]
  },
  {
   "cell_type": "code",
   "execution_count": null,
   "metadata": {},
   "outputs": [],
   "source": [
    "for pat in grps_pat.groups:\n",
    "    print(pat)\n",
    "    df_example = grps_pat.get_group(pat)\n",
    "    fig = plt.figure(figsize=(30,9))\n",
    "    outer = gridspec.GridSpec(2, 1, wspace=0.2, hspace=0.6)\n",
    "\n",
    "    for s, sam in enumerate(df_example['sample'].unique()):\n",
    "        df_example_sub = df_example[df_example['sample'] == sam]\n",
    "        df_example_sub = df_example_sub.sort_values(by=['start'])\n",
    "\n",
    "        axx = plt.subplot(outer[s])\n",
    "        axx.set_title(sam, pad=60, fontsize=28)\n",
    "        axx.set_yticks([], [])\n",
    "        axx.set_xticks([], [])\n",
    "\n",
    "        grps_chrom = df_example_sub.groupby(\"chrom\")\n",
    "\n",
    "        for j, chrom in enumerate(order_chrom):\n",
    "            df_chrom = grps_chrom.get_group(chrom)\n",
    "            if df_chrom.empty == True:\n",
    "                df_chrom = df_chrom.append({'chrom':chrom, 'start':0, 'end':length_chrom[chrom], \n",
    "                                            'tcn.em':2, 'lcn.em':1, \n",
    "                                            'sample':sam, 'patient':pat}, ignore_index=True)\n",
    "            else:\n",
    "                df_chrom.reset_index(drop=True, inplace=True)\n",
    "            \n",
    "    \n",
    "            df_chrom['major'] = df_chrom.apply(lambda x: 1 if x['tcn.em'] == 2 and x['lcn.em'] == 0 else x['tcn.em']-x['lcn.em'], axis=1)\n",
    "            df_chrom['minor'] = df_chrom.apply(lambda x: 1 if x['tcn.em'] == 2 and x['lcn.em'] == 0 else x['lcn.em'], axis=1)\n",
    "\n",
    "            lines_major = []\n",
    "            lines_minor = []\n",
    "            c_maj = []\n",
    "            c_min = []\n",
    "\n",
    "            inner = gridspec.GridSpecFromSubplotSpec(1,23, subplot_spec=outer[s,0], wspace=0, \n",
    "                                                     hspace=0,width_ratios=widths)\n",
    "\n",
    "            for i, rw in df_chrom.iterrows():\n",
    "                if i == 0:\n",
    "                    if (rw['tcn.em'] == 2) and (rw['lcn.em'] == 0):\n",
    "                        lines_major.append([(0,1.15),(rw['start'], 1.15)])\n",
    "                        c_maj.extend(\"k\")\n",
    "                        lines_minor.append([(0,0.85),(rw['start'], 0.85)])\n",
    "                        c_min.extend(\"k\")\n",
    "\n",
    "                        lines_major.append([(df_chrom.loc[i,'start'], df_chrom.loc[i,'major']+0.15), \n",
    "                                                (df_chrom.loc[i,'end'], df_chrom.loc[i,'major']+0.15)])\n",
    "                        c_maj.extend(\"k\")\n",
    "                        lines_minor.append([(df_chrom.loc[i,'start'], df_chrom.loc[i,'minor']-0.15), \n",
    "                                            (df_chrom.loc[i,'end'], df_chrom.loc[i,'minor']-0.15)])\n",
    "                        c_min.extend(\"k\")\n",
    "                    else:\n",
    "                        lines_major.append([(0,1.15),(rw['start'], 1.15)])\n",
    "                        c_maj.extend(\"k\")\n",
    "                        lines_minor.append([(0,0.85),(rw['start'], 0.85)])\n",
    "                        c_min.extend({u'gray': (0.50196078431372548, 0.50196078431372548, 0.50196078431372548)})\n",
    "\n",
    "                        lines_major.append([(df_chrom.loc[i,'start'], df_chrom.loc[i,'major']+0.15), \n",
    "                                                (df_chrom.loc[i,'end'], df_chrom.loc[i,'major']+0.15)])\n",
    "                        c_maj.extend(\"k\")\n",
    "                        lines_minor.append([(df_chrom.loc[i,'start'], df_chrom.loc[i,'minor']-0.15), \n",
    "                                            (df_chrom.loc[i,'end'], df_chrom.loc[i,'minor']-0.15)])\n",
    "                        c_min.extend({u'gray': (0.50196078431372548, 0.50196078431372548, 0.50196078431372548)})\n",
    "\n",
    "                else:\n",
    "                    if (rw['tcn.em'] == 2) and (rw['lcn.em'] == 0):\n",
    "                        lines_major.append([(df_chrom.loc[i-1,'end'], 1.15), (df_chrom.loc[i,'start'],  1.15)])\n",
    "                        c_maj.extend(\"k\")\n",
    "                        lines_minor.append([(df_chrom.loc[i-1,'end'], 0.85), (df_chrom.loc[i,'start'], 0.85)])\n",
    "                        c_min.extend('k')\n",
    "\n",
    "                        lines_major.append([(df_chrom.loc[i,'start'], df_chrom.loc[i,'major']+0.15), \n",
    "                                          (df_chrom.loc[i,'end'], df_chrom.loc[i,'major']+0.15)])\n",
    "                        c_maj.extend(\"k\")\n",
    "                        lines_minor.append([(df_chrom.loc[i,'start'], df_chrom.loc[i,'minor']-0.15), \n",
    "                                          (df_chrom.loc[i,'end'], df_chrom.loc[i,'minor']-0.15)])\n",
    "                        c_min.extend('k')\n",
    "\n",
    "                    else:\n",
    "                        lines_major.append([(df_chrom.loc[i-1,'end'], 1.15), (df_chrom.loc[i,'start'],  1.15)])\n",
    "                        c_maj.extend(\"k\")\n",
    "                        lines_minor.append([(df_chrom.loc[i-1,'end'], 0.85), (df_chrom.loc[i,'start'], 0.85)])\n",
    "                        c_min.extend({u'gray': (0.50196078431372548, 0.50196078431372548, 0.50196078431372548)})\n",
    "\n",
    "                        lines_major.append([(df_chrom.loc[i,'start'], df_chrom.loc[i,'major']+0.15), \n",
    "                                          (df_chrom.loc[i,'end'], df_chrom.loc[i,'major']+0.15)])\n",
    "                        c_maj.extend(\"k\")\n",
    "                        lines_minor.append([(df_chrom.loc[i,'start'], df_chrom.loc[i,'minor']-0.15), \n",
    "                                          (df_chrom.loc[i,'end'], df_chrom.loc[i,'minor']-0.15)])\n",
    "                        c_min.extend({u'gray': (0.50196078431372548, 0.50196078431372548, 0.50196078431372548)})\n",
    "\n",
    "\n",
    "            lines_major.append([(df_chrom.loc[i,'end'], 1.15), (length_chrom[chrom], 1.15)])\n",
    "            c_maj.extend(\"k\")\n",
    "\n",
    "            lines_minor.append([(df_chrom.loc[i,'end'], 0.85), (length_chrom[chrom], 0.85)])\n",
    "            c_min.extend({u'gray': (0.50196078431372548, 0.50196078431372548, 0.50196078431372548)})\n",
    "\n",
    "            lc_minor = mc.LineCollection(lines_minor, colors=c_min, linewidths=5)\n",
    "            lc_major = mc.LineCollection(lines_major, colors=c_maj, linewidths=5)\n",
    "\n",
    "\n",
    "            ax = plt.Subplot(fig, inner[j])\n",
    "            ax.add_collection(lc_major)\n",
    "            ax.add_collection(lc_minor)\n",
    "            ax.axhspan(0, 1, facecolor='#0571b0', alpha=0.05)\n",
    "            ax.axhspan(1, 6, facecolor='#d7191c', alpha=0.05)\n",
    "\n",
    "            ax.set_ylim([0,6])\n",
    "            ax.set_xlim([0, length_chrom[df_chrom['chrom'].unique()[0]]]) \n",
    "\n",
    "\n",
    "            ax.set_title(\"chr{}\".format(chrom), rotation=30, pad=30, fontsize=24)\n",
    "\n",
    "            if j == 0:    \n",
    "                ax1 = fig.add_subplot(ax)\n",
    "                plt.tick_params(axis='x', which='major', labelsize=20)\n",
    "                ax.set_yticks([0,1,2,3,4,5,6])\n",
    "                ax.set_yticklabels([0,1,2,3,4,5,6], fontsize=20)\n",
    "\n",
    "            else:\n",
    "                fig.add_subplot(ax, sharey=ax1)    \n",
    "                plt.setp(ax.get_yticklabels(), visible=False)\n",
    "                plt.yticks([], [])\n",
    "\n",
    "            plt.xticks([], [])\n",
    "\n",
    "\n",
    "    fig.suptitle(pat, x=0.51, y=1.1,fontsize=34)\n",
    "    plt.tight_layout()\n",
    "    plt.savefig(os.path.join(dire_out, \"cnv_{}.svg\").format(pat), \n",
    "                    doi=500,bbox_inches = 'tight',pad_inches=0.1)\n",
    "    plt.savefig(os.path.join(dire_out, \"cnv_{}.png\").format(pat), \n",
    "                    doi=25,format='png',bbox_inches = 'tight',pad_inches=0.1)  \n",
    "    plt.show()"
   ]
  }
 ],
 "metadata": {
  "kernelspec": {
   "display_name": "Python [conda env:filter_pipeline]",
   "language": "python",
   "name": "conda-env-filter_pipeline-py"
  },
  "language_info": {
   "codemirror_mode": {
    "name": "ipython",
    "version": 3
   },
   "file_extension": ".py",
   "mimetype": "text/x-python",
   "name": "python",
   "nbconvert_exporter": "python",
   "pygments_lexer": "ipython3",
   "version": "3.7.6"
  }
 },
 "nbformat": 4,
 "nbformat_minor": 2
}
