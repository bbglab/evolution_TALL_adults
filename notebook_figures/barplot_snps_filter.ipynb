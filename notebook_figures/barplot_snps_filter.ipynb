{
 "cells": [
  {
   "cell_type": "markdown",
   "metadata": {},
   "source": [
    "This notebook figure corresponds to Additional file 3 Figure S1b. It shows the filtered potential SNPs from the samples. \n",
    "\n",
    "\n",
    "This piece of code relies on a workspace directory structure such as:\n",
    "```\n",
    "cohort/\n",
    "\tpatientID/\n",
    "\t\tDxTumorID_vs_normalID/\n",
    "\t\tReTumorID_vs_normalID/ (sometimes)\n",
    "\n",
    "```\n",
    " patientID, DxTumorID etc can be found in ../ext_files/all_cohort_clinical_groups.tsv\n",
    " \n",
    "Be aware that the mafs with joined mutations after running step 6 of filtering have the following file name: ```TumorID_vs_normalID + _strelka_uniq_all_anno_vep92_categories.maf```. This is a MAF file with Gnomad population frequencies added but before filtering for it. \n",
    "This file name is used in the following code.\n",
    "\n",
    "PATS_DIRS is a dictionary with the path to the patient folder where the MAF files are.  "
   ]
  },
  {
   "cell_type": "code",
   "execution_count": null,
   "metadata": {
    "collapsed": true
   },
   "outputs": [],
   "source": [
    "import sys, os\n",
    "import pandas as pd\n",
    "import numpy as np\n",
    "import matplotlib\n",
    "import matplotlib.pyplot as plt\n",
    "import matplotlib.gridspec as gridspec\n",
    "import seaborn as sns\n",
    "from collections import OrderedDict\n",
    "from aux_data_in_pyvar import config_rcparams, PATS_DIRS\n",
    "from aux_functions import stage_mapping"
   ]
  },
  {
   "cell_type": "code",
   "execution_count": null,
   "metadata": {
    "collapsed": true
   },
   "outputs": [],
   "source": [
    "def individual_filter(in_path, pat, com, out_path):\n",
    "\n",
    "    # READ FILE OF CATEGORIES\n",
    "    in_file = os.path.join(in_path, pat, com, com+'_strelka_uniq_all_anno_vep92_categories.maf')\n",
    "    df = pd.read_csv(in_file, sep='\\t')\n",
    "    df.rename(columns={'AF_less_0.01':'AF_less_001'}, inplace=True)\n",
    "\n",
    "    # MAKE LIST OF VALUES FOR BARS\n",
    "    j = 0\n",
    "\n",
    "    bar_keep = list()\n",
    "    bar_snps = list()\n",
    "    r_pos = list()\n",
    "    names = list()\n",
    "\n",
    "    for b in df['bins'].unique():\n",
    "        dff = df[df['bins'] == b]\n",
    "        num_keep = len(set(dff[dff['AF_less_001'] == 'yes']['Variant'].unique()))\n",
    "        bar_keep.append(num_keep)\n",
    "        num_snps = len(set(dff[dff['AF_less_001'] == 'no']['Variant'].unique()))\n",
    "        bar_snps.append(num_snps)\n",
    "\n",
    "        names.append(b)\n",
    "        r_pos.append(j)\n",
    "        j = j + 1\n",
    "    \n",
    "    count = pd.DataFrame()\n",
    "    count = count.append({\"PATIENT\":pat, \"COMPARISON\":com, \n",
    "                          'SNPs':len(set(df[df['AF_less_001'] == 'no']['Variant'].unique())),\n",
    "                         'Keep':len(set(df[df['AF_less_001'] == 'yes']['Variant'].unique()))}, ignore_index=True)\n",
    "    return count"
   ]
  },
  {
   "cell_type": "code",
   "execution_count": null,
   "metadata": {
    "collapsed": true
   },
   "outputs": [],
   "source": [
    "output_path = \"\""
   ]
  },
  {
   "cell_type": "code",
   "execution_count": null,
   "metadata": {
    "collapsed": true
   },
   "outputs": [],
   "source": [
    "clinical = pd.read_csv(\"\", sep='\\t') # Additional file 2 Table S1 from the paper\n",
    "clinical = stage_mapping(clinical)"
   ]
  },
  {
   "cell_type": "code",
   "execution_count": null,
   "metadata": {
    "collapsed": true
   },
   "outputs": [],
   "source": [
    "grps = clinical.groupby(by=['PATIENT', 'COMPARISON'])\n",
    "\n",
    "counts = pd.DataFrame()\n",
    "\n",
    "for g in grps.groups:\n",
    "    input_path = PATS_DIRS[g[0]]\n",
    "    counts = counts.append(individual_filter(input_path, g[0], g[1], output_path), ignore_index=True)"
   ]
  },
  {
   "cell_type": "code",
   "execution_count": null,
   "metadata": {
    "collapsed": true
   },
   "outputs": [],
   "source": [
    "counts = counts.merge(clinical[['COMPARISON', 'STAGE']], how='left', on='COMPARISON')\n",
    "counts['SORTER'] = counts['PATIENT'].apply(lambda x: int(x.replace(\"PAT\", \"\")))\n",
    "counts.sort_values(by=['SORTER', 'STAGE'], inplace=True)\n",
    "counts.reset_index(drop=True, inplace=True)"
   ]
  },
  {
   "cell_type": "code",
   "execution_count": null,
   "metadata": {
    "collapsed": true
   },
   "outputs": [],
   "source": [
    "fig = plt.figure(figsize=(25,10))\n",
    "\n",
    "outer = gridspec.GridSpec(1,1, wspace=0, hspace=0)\n",
    "\n",
    "barWidth = 1\n",
    "\n",
    "ax = plt.subplot(outer[0,0])\n",
    "\n",
    "grps = counts.groupby(\"PATIENT\")\n",
    "\n",
    "labels = []\n",
    "\n",
    "i = 0\n",
    "for g in counts['PATIENT'].unique():\n",
    "    df = grps.get_group(g).reset_index()\n",
    "    # primary\n",
    "    ax.bar(i, df[df['STAGE'] == 'primary'].loc[0,'Keep'], color='#678796', edgecolor='white', \n",
    "       width=barWidth, label='keep')\n",
    "    ax.bar(i, df[df['STAGE'] == 'primary'].loc[0,'SNPs'], bottom= df[df['STAGE'] == 'primary'].loc[0,'Keep'], \n",
    "           color='#bababa', edgecolor='white', width=barWidth,label='filter out SNP')\n",
    "    labels.append(g+'_primary')\n",
    "    # relapse\n",
    "    ax.bar(i+1, df[df['STAGE'] == 'relapse'].loc[1,'Keep'], color='#678796', edgecolor='white', \n",
    "       width=barWidth, label='keep')\n",
    "    ax.bar(i+1, df[df['STAGE'] == 'relapse'].loc[1,'SNPs'], bottom= df[df['STAGE'] == 'relapse'].loc[1,'Keep'], \n",
    "           color='#bababa', edgecolor='white', width=barWidth,label='filter out SNP')\n",
    "    labels.append(g+'_relapse')\n",
    "    labels.append('')\n",
    "    i = i+3\n",
    "\n",
    "pos = [x for x in range(0, len(labels),1)]\n",
    "# Custom axis\n",
    "plt.xticks(pos,labels)\n",
    "plt.xlabel(\"Patients\",fontsize=22, labelpad=24)\n",
    "plt.ylabel(\"Mutations\", fontsize=22, labelpad=24)\n",
    "ax.tick_params(axis='both', which='major', labelsize=18)\n",
    "\n",
    "plt.xticks(rotation=45, fontsize=18, ha='right')\n",
    "# Legend\n",
    "handles, labels = plt.gca().get_legend_handles_labels()\n",
    "by_label = OrderedDict(zip(labels, handles))\n",
    "plt.legend(by_label.values(), by_label.keys(),prop={'size': 20},bbox_to_anchor=(1,1))\n",
    "\n",
    "plt.tight_layout()\n",
    "\n",
    "fig.savefig(os.path.join(out_path, \"barplot_snps_filter.svg\"), dpi=300, bbox_inches='tight')\n",
    "plt.show()  "
   ]
  },
  {
   "cell_type": "code",
   "execution_count": null,
   "metadata": {
    "collapsed": true
   },
   "outputs": [],
   "source": []
  }
 ],
 "metadata": {
  "kernelspec": {
   "display_name": "Python [conda env:filter_pipeline]",
   "language": "python",
   "name": "conda-env-filter_pipeline-py"
  },
  "language_info": {
   "codemirror_mode": {
    "name": "ipython",
    "version": 3
   },
   "file_extension": ".py",
   "mimetype": "text/x-python",
   "name": "python",
   "nbconvert_exporter": "python",
   "pygments_lexer": "ipython3",
   "version": "3.7.6"
  }
 },
 "nbformat": 4,
 "nbformat_minor": 2
}
