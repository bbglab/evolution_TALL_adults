{
 "cells": [
  {
   "cell_type": "markdown",
   "metadata": {},
   "source": [
    "This notebook creates Figure 1c"
   ]
  },
  {
   "cell_type": "code",
   "execution_count": null,
   "metadata": {
    "collapsed": true
   },
   "outputs": [],
   "source": [
    "import pandas as pd\n",
    "import numpy as np\n",
    "import pybedtools\n",
    "import gzip\n",
    "from io import StringIO\n",
    "import os\n",
    "import glob\n",
    "\n",
    "import matplotlib.pyplot as plt\n",
    "import matplotlib.gridspec as gridspec\n",
    "import seaborn as sns\n",
    "\n",
    "from aux_data_in_pyvar import config_rcparams, COLORS_SIGNATURES\n",
    "\n",
    "pd.set_option('display.max_columns', None)\n",
    "pd.set_option('display.max_rows', None)\n",
    "pd.set_option('display.max_colwidth', -1)"
   ]
  },
  {
   "cell_type": "code",
   "execution_count": null,
   "metadata": {
    "collapsed": true
   },
   "outputs": [],
   "source": [
    "config_rcparams()"
   ]
  },
  {
   "cell_type": "code",
   "execution_count": null,
   "metadata": {
    "collapsed": true
   },
   "outputs": [],
   "source": [
    "df_signatures = pd.DataFrame()"
   ]
  },
  {
   "cell_type": "code",
   "execution_count": null,
   "metadata": {
    "collapsed": true
   },
   "outputs": [],
   "source": [
    "# Get age ranges and ALL subtypes from clinical data\n",
    "clinical = pd.read_csv(\"../ext_files/all_cohort_clinical_groups.tsv\", sep='\\t')\n",
    "clinical = clinical[~clinical['COMPARISON'].isin(['AE6518_vs_AE6519', 'AE6521_vs_AE6522'])] # PAT3, PAT4 primary samples are damaged\n",
    "black_list = ['SJBALL021893_D1_vs_SJBALL021893_G1', 'SJBALL021894_D1_vs_SJBALL021894_G1',\n",
    "             'SJBALL021895_D1_vs_SJBALL021895_G1', 'SJBALL021896_D1_vs_SJBALL021896_G1',\n",
    "             'SJBALL021897_D1_vs_SJBALL021897_G1', 'SJTALL014_D_vs_SJTALL014_G',\n",
    "             'SJPHALL020041_D1_vs_SJPHALL020041_G1'] # those lack some clinical information\n",
    "clinical['SUBTYPE_LABEL'] = clinical['SUBTYPE_LABEL'].str.replace(\"PHALL\", 'Ph positive')\n",
    "clinical = clinical[~clinical['COMPARISON'].isin(black_list)]\n",
    "clinical = clinical[clinical['STAGE'] == 'primary']\n",
    "clinical.head()"
   ]
  },
  {
   "cell_type": "code",
   "execution_count": null,
   "metadata": {
    "collapsed": true
   },
   "outputs": [],
   "source": [
    "## PEDIATRIC FITTING\n",
    "\n",
    "# Path to the results from fitting of signatures of deconstructSigs run. Here we expect the results from\n",
    "# all primary samples per cohort from pediatric projects that we have downloaded. \n",
    "# If you check ../ext_runs/run_deconstructSig/make_inputs_fitting_adults.ipynb is explained how to obtain\n",
    "# the signature weigths for the primary mutations of all the pediatic cohorts. \n",
    "pediatric_paths = \"run_all_primary_pediatric/*/signatures_weight.csv\" # *asterisk to catch all the pediatric cohort folders\n",
    "\n",
    "for f in glob.glob(pediatric_paths):\n",
    "    df_w = pd.read_csv(f, sep='\\t')\n",
    "    df_signatures = df_signatures.append(df_w, ignore_index=True)\n",
    "    \n",
    "df_signatures = df_signatures.merge(clinical[['PATIENT','COMPARISON', 'SUBTYPE', 'SUBTYPE_LABEL']], how='left', left_on='sample_id', \n",
    "                                    right_on='PATIENT')\n",
    "df_signatures = df_signatures.dropna(subset=['SUBTYPE'])\n",
    "\n",
    "## ADULT FITTING\n",
    "# all primary leukemias\n",
    "\n",
    "# Path to the results from fitting of signatures of deconstructSigs run. Here we expect the results from\n",
    "# all primary samples of the adult T-ALL cohort. If you check ../ext_runs/run_deconstructSig/make_inputs_fitting_adults.ipynb\n",
    "# it should correspond to a path pointing to a run with folder named run_all_primary/\n",
    "df_w = pd.read_csv(\"\", sep='\\t')\n",
    "\n",
    "df_w = df_w.merge(clinical[clinical['STAGE'] == 'primary'][['PATIENT','COMPARISON', 'SUBTYPE', 'SUBTYPE_LABEL']], how='left', \n",
    "                  left_on='sample_id',right_on='PATIENT')\n",
    "df_w = df_w.dropna(subset=['SUBTYPE'])\n",
    "\n",
    "# append both\n",
    "df_signatures = df_signatures.append(df_w, ignore_index=True)\n",
    "df_signatures = df_signatures.fillna(0)"
   ]
  },
  {
   "cell_type": "code",
   "execution_count": null,
   "metadata": {
    "collapsed": true
   },
   "outputs": [],
   "source": [
    "# mean of exposures in dict for plot\n",
    "\n",
    "all_sig = [\"SBS1\", \"SBS2\",\"SBS5\", \"SBS6\",\"SBS9\", \"SBS13\", \"SBS17a\", \"SBS17b\",\"SBS18\",\"SBS34\",\"SBS36\", \"SBS37\"]\n",
    "\n",
    "sub_sig = []\n",
    "for s in all_sig:\n",
    "    if s in df_signatures.columns:\n",
    "        sub_sig.append(s)\n",
    "sub_sig.extend(['unknown' ,'SUBTYPE_LABEL'])\n",
    "\n",
    "\n",
    "mean_exposures = df_signatures[sub_sig].groupby('SUBTYPE_LABEL').mean()\n",
    "mean_exposures.rename(columns={'unknown':'unassigned'}, inplace = True)\n",
    "mean_exposures = mean_exposures.T\n",
    "mean_exposures.index.name=None\n",
    "dicc_expo = mean_exposures.to_dict()\n",
    "\n",
    "sd_exposures = df_signatures[sub_sig].groupby('SUBTYPE_LABEL').std()\n",
    "sd_exposures.rename(columns={'unknown':'unassigned'}, inplace = True)\n",
    "sd_exposures = sd_exposures.T\n",
    "sd_exposures.index.name=None\n",
    "dicc_sd = sd_exposures.to_dict()\n",
    "\n",
    "dicc_pats = df_signatures[['SUBTYPE_LABEL', 'COMPARISON']].drop_duplicates().groupby('SUBTYPE_LABEL').count()\n",
    "dicc_pats = dicc_pats.to_dict()['COMPARISON']"
   ]
  },
  {
   "cell_type": "code",
   "execution_count": null,
   "metadata": {
    "collapsed": true
   },
   "outputs": [],
   "source": [
    "# custom orders\n",
    "order_sig = ['unassigned','SBS6','SBS36','SBS34','SBS17b','SBS17a', 'SBS13', 'SBS37', 'SBS9', 'SBS2',  'SBS18', 'SBS1', 'SBS5']\n",
    "order_subtype = ['DUX4-ERG',\n",
    " 'Ph-like',\n",
    " 'Hypodiploid',\n",
    " 'Infant MLL-R',\n",
    " 'TALL Pediatric',\n",
    " 'Hyperdiploid',\n",
    " 'TALL Adult',\n",
    " 'iAMP21',\n",
    " 'Ph positive'] # same as in mutation burden \n",
    "\n",
    "out_path = \"\" # output path for the figure"
   ]
  },
  {
   "cell_type": "code",
   "execution_count": null,
   "metadata": {
    "collapsed": true
   },
   "outputs": [],
   "source": [
    "fig, axs = plt.subplots(1,len(order_subtype), figsize=(15, 4),frameon=False,\n",
    "                        gridspec_kw={'wspace':0.1, 'hspace':0.5}, sharey=True)\n",
    "\n",
    "for i,sub in enumerate(order_subtype):\n",
    "    dicc_sub = dicc_expo[sub]\n",
    "    ax = axs[i]\n",
    "    j = 0\n",
    "    labels = []\n",
    "    for sig in order_sig:\n",
    "        try:\n",
    "            ax.barh(y=j, width=dicc_sub[sig], color=COLORS_SIGNATURES[sig], \n",
    "                xerr=dicc_sd[sub][sig])\n",
    "            ax.tick_params(axis='x', which='major', labelsize=12)\n",
    "            j = j+1\n",
    "            labels.append(sig)\n",
    "        except KeyError:\n",
    "            continue\n",
    "    ax.set_xlabel(sub, fontsize =14)\n",
    "axs[0].set_yticks(range(0,len(labels), 1))\n",
    "axs[0].set_yticklabels(labels, fontsize =14)\n",
    "axs[0].set_ylabel('Mean of exposures', fontsize=16)\n",
    "\n",
    "\n",
    "fig.savefig(os.path.join(out_path,\"barplot_signatures_subtypes_all.svg\"), dpi=300, bbox_inches='tight')"
   ]
  },
  {
   "cell_type": "code",
   "execution_count": null,
   "metadata": {
    "collapsed": true
   },
   "outputs": [],
   "source": []
  }
 ],
 "metadata": {
  "kernelspec": {
   "display_name": "Python [conda env:filter_pipeline]",
   "language": "python",
   "name": "conda-env-filter_pipeline-py"
  },
  "language_info": {
   "codemirror_mode": {
    "name": "ipython",
    "version": 3
   },
   "file_extension": ".py",
   "mimetype": "text/x-python",
   "name": "python",
   "nbconvert_exporter": "python",
   "pygments_lexer": "ipython3",
   "version": "3.7.6"
  }
 },
 "nbformat": 4,
 "nbformat_minor": 2
}
