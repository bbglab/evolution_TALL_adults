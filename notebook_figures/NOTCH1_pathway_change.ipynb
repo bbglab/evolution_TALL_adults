{
 "cells": [
  {
   "cell_type": "markdown",
   "metadata": {},
   "source": [
    "This notebook explores the multiple mutations of NOTCH1 per patient and also de convergent evolution of the NOTCH1 pathway mutations adding FBXW7 variants. The plot corresponds to figure 2 d of the paper "
   ]
  },
  {
   "cell_type": "code",
   "execution_count": null,
   "metadata": {
    "collapsed": true
   },
   "outputs": [],
   "source": [
    "import os\n",
    "import pandas as pd\n",
    "import numpy as np\n",
    "import matplotlib.pyplot as plt\n",
    "import matplotlib.patches as mpatch\n",
    "import matplotlib.gridspec as gridspec\n",
    "import seaborn as sns\n",
    "from aux_data_in_pyvar import config_rcparams, PATS_DIRS\n",
    "from matplotlib.lines import Line2D\n",
    "\n",
    "pd.set_option('display.max_columns', None)\n",
    "pd.set_option('display.max_rows', None)\n",
    "pd.set_option('display.max_colwidth', -1)\n",
    "%matplotlib inline"
   ]
  },
  {
   "cell_type": "code",
   "execution_count": null,
   "metadata": {
    "collapsed": true
   },
   "outputs": [],
   "source": [
    "config_rcparams()"
   ]
  },
  {
   "cell_type": "code",
   "execution_count": null,
   "metadata": {
    "collapsed": true
   },
   "outputs": [],
   "source": [
    "genes = {'FBXW7':\"#decd87ff\",\n",
    "'NOTCH1':'#d35f5fff'}\n",
    "\n",
    "errors = ['9_139399325_G_T','9_139400005_G_A','9_139390864_C_G'] # manually inspection of consecutive mutations in BAM revealed two NOTCH1 misalignment errors"
   ]
  },
  {
   "cell_type": "code",
   "execution_count": null,
   "metadata": {},
   "outputs": [],
   "source": [
    "# The expected dataframe here is driver_muts_TALL_subsets.tsv that is the output of \n",
    "# running ../processing/driver_mutations_TALL.ipynb\n",
    "df_all = pd.read_csv(\"/workspace/projects/all_aecc/figures_jul2020/TALL_driver_alterations/driver_muts_TALL_subsets.tsv\", sep='\\t') "
   ]
  },
  {
   "cell_type": "code",
   "execution_count": null,
   "metadata": {},
   "outputs": [],
   "source": [
    "# clinical\n",
    "df_info = pd.read_csv(\"../ext_files/all_cohort_clinical_groups.tsv\", sep='\\t')\n",
    "df_info = df_info[df_info['COHORT']=='ADULT TALL AECC PROJECT']\n",
    "\n",
    "# mutations\n",
    "dire_out = \"\" \n",
    "\n",
    "dff_all = pd.DataFrame()\n",
    "\n",
    "for pat in df_info['PATIENT'].unique():\n",
    "    \n",
    "    dire_mafs = PATS_DIRS[pat]\n",
    "    \n",
    "    # get patient information\n",
    "    pat_info = df_info[df_info['PATIENT'] == pat].reset_index(drop=True)\n",
    "    com_pry = pat_info[pat_info['STAGE'] == 'primary']['COMPARISON'].unique()[0]\n",
    "    com_rel = pat_info[pat_info['STAGE'] == 'relapse']['COMPARISON'].unique()[0]\n",
    "    print(com_pry) \n",
    "    \n",
    "    # read maf files with clonal information\n",
    "    df_pry = pd.read_csv(os.path.join(dire_mafs, pat, com_pry, com_pry+'_strelka_uniq_all_anno_vep92_categories_filt_snps_cluster.maf'), sep='\\t')\n",
    "    df_pry.rename(columns={'ccf':'ccf_pry', 'clonal_classification':'clonal_classification_pry'}, inplace=True)\n",
    "    df_rel = pd.read_csv(os.path.join(dire_mafs, pat, com_rel, com_rel+'_strelka_uniq_all_anno_vep92_categories_filt_snps_cluster.maf'), sep='\\t')\n",
    "    df_rel.rename(columns={'ccf':'ccf_rel', 'clonal_classification':'clonal_classification_rel'}, inplace=True)\n",
    "    \n",
    "    df_pry = df_pry[~df_pry['Variant'].isin(errors)]\n",
    "    df_rel = df_rel[~df_rel['Variant'].isin(errors)]\n",
    "    \n",
    "    df_pry['ccf_pry'] = df_pry['ccf_pry'].astype(float)\n",
    "    df_rel['ccf_rel'] = df_rel['ccf_rel'].astype(float)\n",
    "    \n",
    "    # get driver mutations\n",
    "    df_pat = df_all[df_all['PATIENT'] == pat]\n",
    "    df_pat = df_pat[df_pat['SYMBOL'].isin(genes.keys())]\n",
    "    \n",
    "    # get clonal info\n",
    "    df_pat = df_pat[['SYMBOL', 'AA_change', 'PATIENT', '#CHROM', 'POS','REF', 'subset']].merge(df_pry[['#CHROM', 'POS', 'REF','ccf_pry','clonal_classification_pry']], how='left', on=['#CHROM', 'POS', 'REF'])\n",
    "    df_pat = df_pat.merge(df_rel[['#CHROM', 'POS','REF', 'ccf_rel', 'clonal_classification_rel']], how='left', on=['#CHROM', 'POS', 'REF'])\n",
    "    df_pat = df_pat.fillna(0)\n",
    "    \n",
    "    # append all\n",
    "    dff_all = dff_all.append(df_pat, ignore_index=True, sort=False)"
   ]
  },
  {
   "cell_type": "code",
   "execution_count": null,
   "metadata": {},
   "outputs": [],
   "source": [
    "grps = dff_all.groupby('PATIENT')\n",
    "dff_plot = pd.DataFrame()\n",
    "   \n",
    "fig = plt.figure(figsize=(20,2))\n",
    "outer = gridspec.GridSpec(1, len(grps), wspace=0.1, hspace=0.2)\n",
    "\n",
    "for i,pat in enumerate(grps.groups):\n",
    "    print(i)\n",
    "    df_plot = grps.get_group(pat)\n",
    "    df_plot = df_plot[['PATIENT', 'subset', 'clonal_classification_pry', 'clonal_classification_rel', 'SYMBOL']]\n",
    "    df_plot = df_plot.groupby(['subset', 'clonal_classification_pry', 'clonal_classification_rel', 'SYMBOL']).count()\n",
    "    df_plot = df_plot.reset_index()\n",
    "    df_plot.rename(columns={'PATIENT':'num'}, inplace=True)\n",
    "    df_plot['PATIENT'] = pat\n",
    "    dff_plot = dff_plot.append(df_plot, ignore_index=True, sort=False)\n",
    "\n",
    "    ax = plt.subplot(outer[i])\n",
    "    ax.set_xlim(0,2)\n",
    "    ax.set_ylim(0,2)\n",
    "    \n",
    "    #primary\n",
    "    rect = mpatch.Rectangle(xy=(0, 1.5),width=1,height=0.5,color=\"#d1e5f0\",alpha=1., zorder=3)\n",
    "    ax.annotate(s=\"S\",xy=(0.5, 1.7),ha='center',va='center',fontweight='bold', fontsize=14)\n",
    "    ax.add_patch(rect)\n",
    "    \n",
    "    rect = mpatch.Rectangle(xy=(1, 1.5),width=1,height=0.5,color=\"#2c7fb8\",alpha=1., zorder=3)\n",
    "    ax.annotate(s=\"C\",xy=(1.5, 1.7),ha='center',va='center',fontweight='bold', fontsize=14,color=\"w\")\n",
    "    ax.add_patch(rect)\n",
    "    \n",
    "    # relapse\n",
    "    rect = mpatch.Rectangle(xy=(0, 0),width=1,height=0.5,color=\"#fddbc7\",alpha=1., zorder=3)\n",
    "    ax.annotate(s=\"S\",xy=(0.5, 0.25),ha='center',va='center',fontweight='bold', fontsize=14)\n",
    "    ax.add_patch(rect)\n",
    "    \n",
    "    rect = mpatch.Rectangle(xy=(1, 0),width=1,height=0.5,color=\"#fd8d3c\",alpha=1., zorder=3)\n",
    "    ax.annotate(s=\"C\",xy=(1.5, 0.25),ha='center',va='center',fontweight='bold', fontsize=14,color=\"w\")\n",
    "    ax.add_patch(rect)\n",
    "    \n",
    "    for j,rw in df_plot.iterrows():\n",
    "        if rw['subset'] == 'shared':\n",
    "            if (rw['clonal_classification_pry'] == 'clonal') and (rw['clonal_classification_rel'] == 'clonal'):\n",
    "                line1 = [(1.50,0.25), (1.50,1.75)]\n",
    "                (line1_xs, line1_ys) = zip(*line1)\n",
    "                ax.add_line(Line2D(line1_xs, line1_ys, linewidth=4, color=genes[rw['SYMBOL']]))\n",
    "                ax.annotate(s=rw['num'],xy=(1.5, 1),ha='center',va='center',fontweight='bold', fontsize=10)\n",
    "            elif (rw['clonal_classification_pry'] == 'clonal') and (rw['clonal_classification_rel'] == 'subclonal'):\n",
    "                line1 = [(0.5,0.25), (1.50,1.75)]\n",
    "                (line1_xs, line1_ys) = zip(*line1)\n",
    "                ax.add_line(Line2D(line1_xs, line1_ys, linewidth=4, color=genes[rw['SYMBOL']]))\n",
    "                ax.annotate(s=rw['num'],xy=(1, 1),ha='center',va='center',fontweight='bold', fontsize=10)\n",
    "            elif (rw['clonal_classification_pry'] == 'subclonal') and (rw['clonal_classification_rel'] == 'clonal'):\n",
    "                line1 = [(1.50,0.25), (0.5,1.75)]\n",
    "                (line1_xs, line1_ys) = zip(*line1)\n",
    "                ax.add_line(Line2D(line1_xs, line1_ys, linewidth=4, color=genes[rw['SYMBOL']]))\n",
    "                ax.annotate(s=rw['num'],xy=(1, 1),ha='center',va='center',fontweight='bold', fontsize=10)\n",
    "            elif (rw['clonal_classification_pry'] == 'subclonal') and (rw['clonal_classification_rel'] == 'subclonal'):\n",
    "                line1 = [(0.50,0.25), (0.50,1.75)]\n",
    "                (line1_xs, line1_ys) = zip(*line1)\n",
    "                ax.add_line(Line2D(line1_xs, line1_ys, linewidth=4, color=genes[rw['SYMBOL']]))\n",
    "                ax.annotate(s=rw['num'],xy=(0.5, 1),ha='center',va='center',fontweight='bold', fontsize=10)\n",
    "            else:\n",
    "                pass\n",
    "        elif (rw['clonal_classification_pry'] == 'clonal') and (rw['clonal_classification_rel'] == 0):\n",
    "            line1 = [(0.5,1),(1.50,1.75)]\n",
    "            (line1_xs, line1_ys) = zip(*line1)\n",
    "            ax.add_line(Line2D(line1_xs, line1_ys, linewidth=4,color=genes[rw['SYMBOL']], marker='X', markersize=8))\n",
    "            ax.annotate(s=rw['num'],xy=(0.5,1),ha='center',va='center',fontweight='bold', fontsize=10)\n",
    "        elif (rw['clonal_classification_pry'] == 'subclonal') and (rw['clonal_classification_rel'] == 0):\n",
    "            line1 = [(1.25,1),(0.5,1.75)]\n",
    "            (line1_xs, line1_ys) = zip(*line1)\n",
    "            ax.add_line(Line2D(line1_xs, line1_ys, linewidth=4,color=genes[rw['SYMBOL']],marker='X', markersize=8))\n",
    "            ax.annotate(s=rw['num'],xy=(1.25,1),ha='center',va='center',fontweight='bold', fontsize=10)\n",
    "        elif (rw['clonal_classification_pry'] == 0) and (rw['clonal_classification_rel'] == 'subclonal'):\n",
    "            line1 = [(0.75,1), (0.25,0.5)]\n",
    "            (line1_xs, line1_ys) = zip(*line1)\n",
    "            ax.add_line(Line2D(line1_xs, line1_ys, linewidth=4,color=genes[rw['SYMBOL']], marker='X', markersize=8))\n",
    "            ax.annotate(s=rw['num'],xy=(0.75,1),ha='center',va='center',fontweight='bold', fontsize=10)\n",
    "        elif (rw['clonal_classification_pry'] == 0) and (rw['clonal_classification_rel'] == 'clonal'):\n",
    "            line1 = [(0.75,1), (1.5,0.25)]\n",
    "            (line1_xs, line1_ys) = zip(*line1)\n",
    "            ax.add_line(Line2D(line1_xs, line1_ys, linewidth=4,color=genes[rw['SYMBOL']], marker='X', markersize=8))\n",
    "            ax.annotate(s=rw['num'],xy=(0.75,1),ha='center',va='center',fontweight='bold', fontsize=10)\n",
    "        else:\n",
    "            pass\n",
    "    if i == 0:\n",
    "        ax.set_xticks([])\n",
    "        ax.set_yticks([0.25,1.75])\n",
    "        ax.set_yticklabels(['Relapse','Primary'])\n",
    "    else:\n",
    "        ax.set_xticks([])\n",
    "        ax.set_yticks([])\n",
    "    ax.tick_params(top='off', left='off', right='off')\n",
    "    ax.spines['top'].set_visible(False)\n",
    "    ax.spines['right'].set_visible(False)\n",
    "    ax.spines['left'].set_visible(False)\n",
    "    ax.spines['bottom'].set_visible(False)\n",
    "    ax.set_title(pat)\n",
    "    \n",
    "fig.savefig(os.path.join(dire_out, \n",
    "                         'clonality_change_main.svg'), \n",
    "            dpi=300, bbox_inches='tight')\n",
    "plt.show()"
   ]
  },
  {
   "cell_type": "code",
   "execution_count": null,
   "metadata": {
    "collapsed": true
   },
   "outputs": [],
   "source": [
    "dff_plot.to_csv(\"../intermediate_files/notch1_pathway_muts.tsv\", sep='\\t', index=False)"
   ]
  },
  {
   "cell_type": "markdown",
   "metadata": {},
   "source": [
    "CAREFUL! Some FBXW7 mutations, here represented as yellow bars, can be overlapped by red ones. To make those visual we finished the final figure with an SVG software. Same with the red bars with upper numbers being >1 for which we manually draw as much bars as the number. "
   ]
  }
 ],
 "metadata": {
  "kernelspec": {
   "display_name": "Python [conda env:filter_pipeline]",
   "language": "python",
   "name": "conda-env-filter_pipeline-py"
  },
  "language_info": {
   "codemirror_mode": {
    "name": "ipython",
    "version": 3
   },
   "file_extension": ".py",
   "mimetype": "text/x-python",
   "name": "python",
   "nbconvert_exporter": "python",
   "pygments_lexer": "ipython3",
   "version": "3.7.6"
  }
 },
 "nbformat": 4,
 "nbformat_minor": 2
}
