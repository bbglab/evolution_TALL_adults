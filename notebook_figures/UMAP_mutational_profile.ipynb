{
 "cells": [
  {
   "cell_type": "markdown",
   "metadata": {},
   "source": [
    "This notebook does a dimentionality redution with UMAP. It takes the 96 mutation types or channels and plots them into 2 dimensions or components to see a clustering of patients by mutation profile. \n",
    "\n",
    "Only primary samples are used\n",
    "\n",
    "The dot plots correspond to Figure 1b of the paper"
   ]
  },
  {
   "cell_type": "code",
   "execution_count": null,
   "metadata": {
    "collapsed": true
   },
   "outputs": [],
   "source": [
    "import os\n",
    "import pandas as pd\n",
    "import numpy as np\n",
    "import glob\n",
    "from io import StringIO\n",
    "\n",
    "import umap\n",
    "import matplotlib.pyplot as plt\n",
    "import matplotlib.gridspec as gridspec\n",
    "import seaborn as sns\n",
    "from collections import OrderedDict\n",
    "from aux_data_in_pyvar import CHANNELS,config_rcparams, COLORS_AGES, COLORS_AGES_TALL, COLORS_SUBTYPES\n",
    "\n",
    "\n",
    "pd.set_option('display.max_columns', None)\n",
    "pd.set_option('display.max_rows', None)\n",
    "pd.set_option('display.max_colwidth', -1)"
   ]
  },
  {
   "cell_type": "code",
   "execution_count": null,
   "metadata": {
    "collapsed": true
   },
   "outputs": [],
   "source": [
    "config_rcparams()"
   ]
  },
  {
   "cell_type": "code",
   "execution_count": null,
   "metadata": {
    "collapsed": true
   },
   "outputs": [],
   "source": [
    "# Normalize counts\n",
    "\n",
    "def get_context_counts(df_pat_count):\n",
    "    \n",
    "    sums = pd.DataFrame(df_pat_count.sum(axis=1))\n",
    "    for sam, value in df_pat_count.iterrows():\n",
    "        for cntxt in df_pat_count.columns:\n",
    "            df_pat_count.loc[sam, cntxt] = df_pat_count.loc[sam, cntxt]/sums.loc[sam, 0]\n",
    "    \n",
    "    df_pat_count = df_pat_count.reset_index().rename(columns={'index':'SAMPLE'})\n",
    "    return df_pat_count"
   ]
  },
  {
   "cell_type": "code",
   "execution_count": null,
   "metadata": {
    "collapsed": true
   },
   "outputs": [],
   "source": [
    "dire_plot = \"\" # output for the plot"
   ]
  },
  {
   "cell_type": "code",
   "execution_count": null,
   "metadata": {},
   "outputs": [],
   "source": [
    "# Get age ranges and ALL subtypes from clinical data\n",
    "clinical = pd.read_csv(\"../ext_files/all_cohort_clinical_groups.tsv\", sep='\\t')\n",
    "clinical = clinical[~clinical['COMPARISON'].isin(['AE6518_vs_AE6519', 'AE6521_vs_AE6522'])] # PAT3, PAT4 primary samples are damaged\n",
    "black_list = ['SJBALL021893_D1_vs_SJBALL021893_G1', 'SJBALL021894_D1_vs_SJBALL021894_G1',\n",
    "             'SJBALL021895_D1_vs_SJBALL021895_G1', 'SJBALL021896_D1_vs_SJBALL021896_G1',\n",
    "             'SJBALL021897_D1_vs_SJBALL021897_G1', 'SJTALL014_D_vs_SJTALL014_G',\n",
    "             'SJPHALL020041_D1_vs_SJPHALL020041_G1'] # those lack some clinical information\n",
    "clinical['SUBTYPE_LABEL'] = clinical['SUBTYPE_LABEL'].str.replace(\"PHALL\", 'Ph positive')\n",
    "clinical = clinical[~clinical['COMPARISON'].isin(black_list)]\n",
    "clinical = clinical[clinical['STAGE'] == 'primary']\n",
    "clinical.head()"
   ]
  },
  {
   "cell_type": "code",
   "execution_count": null,
   "metadata": {
    "collapsed": true
   },
   "outputs": [],
   "source": [
    "## INITATE COLLECTOR DF \n",
    "# pedia\n",
    "dff_channels = pd.DataFrame()"
   ]
  },
  {
   "cell_type": "code",
   "execution_count": null,
   "metadata": {},
   "outputs": [],
   "source": [
    "## ADULT TALL\n",
    "# Path to the results from fitting of signatures of deconstructSigs run. Here we expect the results from\n",
    "# all primary samples of the adult T-ALL cohort. If you check ../ext_runs/run_deconstructSig/make_inputs_fitting_adults.ipynb\n",
    "# it should correspond to a path pointing to a run with folder named run_all_primary/\n",
    "path_adult = \"\"\n",
    "df_channels = pd.read_csv(os.path.join(path_adult, \"mut_count_96_ch.tsv\"), sep='\\t')\n",
    "df_channels = get_context_counts(df_channels)\n",
    "\n",
    "## PEDIATRIC COHORTS\n",
    "# Path to the results from fitting of signatures of deconstructSigs run. Here we expect the results from\n",
    "# all primary samples per cohort from pediatric projects that we have downloaded. \n",
    "# If you check ../ext_runs/run_deconstructSig/make_inputs_fitting_adults.ipynb is explained how to obtain\n",
    "# the signature weigths for the primary mutations of all the pediatic cohorts. \n",
    "path_pediatric = \"\"\n",
    "\n",
    "for file in glob.glob(os.path.join(path_pediatric, '*', 'mut_count_96_ch.tsv')):# *asterisk to catch all the pediatric cohort folders\n",
    "    cohort = file.split(\"/\")[-2]\n",
    "    print(cohort)\n",
    "    df = pd.read_csv(file, sep='\\t')\n",
    "    df = get_context_counts(df)\n",
    "    dff_channels = dff_channels.append(df, ignore_index=True,sort=False)"
   ]
  },
  {
   "cell_type": "code",
   "execution_count": null,
   "metadata": {
    "collapsed": true
   },
   "outputs": [],
   "source": [
    "# append both\n",
    "dff_channels = dff_channels.append(df_channels, ignore_index=True,sort=False)\n",
    "dff_channels.rename(columns={'SAMPLE':'PATIENT'}, inplace=True)\n",
    "\n",
    "# merge clinical info to counts\n",
    "dff_channels = dff_channels.merge(clinical[['COHORT', 'PATIENT','COMPARISON', 'SUBTYPE_LABEL', 'AGE_RANGE']], how='left', on='PATIENT')\n",
    "\n",
    "# sort them by customized subtype order and age range\n",
    "dff_channels.sort_values('AGE_RANGE', inplace=True)\n",
    "\n",
    "grps = dff_channels.groupby('SUBTYPE_LABEL')\n",
    "\n",
    "dff_channels = pd.DataFrame()\n",
    "\n",
    "for g in ['iAMP21','Hyperdiploid', 'Hypodiploid', \n",
    "       'Ph positive', 'Ph-like','Infant MLL-R','DUX4-ERG', 'TALL Pediatric','TALL Adult']:\n",
    "    df = grps.get_group(g)\n",
    "    dff_channels = dff_channels.append(df, ignore_index=True, sort=False)"
   ]
  },
  {
   "cell_type": "code",
   "execution_count": null,
   "metadata": {
    "collapsed": true
   },
   "outputs": [],
   "source": [
    "array_channels = dff_channels[CHANNELS]\n",
    "array_cohorts = np.array(dff_channels['COHORT'].tolist())\n",
    "array_ages = np.array(dff_channels['AGE_RANGE'].tolist())\n",
    "array_subtypes = np.array(dff_channels['SUBTYPE_LABEL'].tolist())\n",
    "array_patients = np.array(dff_channels['COMPARISON'].tolist())"
   ]
  },
  {
   "cell_type": "markdown",
   "metadata": {},
   "source": [
    "## UMAP\n",
    "\n",
    "Uniform Manifold Approximation and Projection (manifold learning and dimension reduction algorithm)"
   ]
  },
  {
   "cell_type": "code",
   "execution_count": null,
   "metadata": {},
   "outputs": [],
   "source": [
    "reducer = umap.UMAP(random_state=53, n_neighbors=20, min_dist=0.2)\n",
    "embedding = reducer.fit_transform(array_channels)\n",
    "embedding.shape"
   ]
  },
  {
   "cell_type": "code",
   "execution_count": null,
   "metadata": {},
   "outputs": [],
   "source": [
    "fig = plt.figure(figsize=(10,10))\n",
    "outer = gridspec.GridSpec(1,1, wspace=0, hspace=0)\n",
    "ax = plt.subplot(outer[0,0])\n",
    "\n",
    "for i, label in enumerate(array_subtypes):\n",
    "    if \"TALL\" in label:\n",
    "        ax.scatter(embedding[i, 0], embedding[i, 1],s=200, c=COLORS_SUBTYPES[label], label=label,marker=\"^\",\n",
    "                  linewidths=0.8, edgecolors='#000000')\n",
    "    else:\n",
    "        ax.scatter(embedding[i, 0], embedding[i, 1],s=140,c=COLORS_SUBTYPES[label], label=label,\n",
    "                  linewidths=0.8, edgecolors='#252525',alpha=0.9)\n",
    "    ax.set_yticks([])\n",
    "    ax.set_xticks([])\n",
    "    ax.set_xlabel(\"Component 1\", fontsize=14, labelpad=10)\n",
    "    ax.set_ylabel(\"Component 2\",fontsize=14,labelpad=10)\n",
    "    ax.set_title(\"UMAP of ALL subtypes\", fontsize=18,pad=10)\n",
    "# Legend\n",
    "handles, labels = plt.gca().get_legend_handles_labels()\n",
    "by_label = OrderedDict(zip(labels, handles))\n",
    "plt.legend(by_label.values(), by_label.keys(),prop={'size': 14}, loc='center right', bbox_to_anchor=(1.3, 0.5))\n",
    "fig.savefig(os.path.join(dire_plot,\"umap_all_subtypes.svg\"), dpi=300, bbox_inches='tight')\n",
    "plt.show()"
   ]
  },
  {
   "cell_type": "code",
   "execution_count": null,
   "metadata": {},
   "outputs": [],
   "source": [
    "fig = plt.figure(figsize=(10,10))\n",
    "outer = gridspec.GridSpec(1,1, wspace=0, hspace=0)\n",
    "ax = plt.subplot(outer[0,0])\n",
    "\n",
    "for i, label in enumerate(array_ages):\n",
    "    com = array_patients[i]\n",
    "    if ('AE' in com) or ('SJTALL' in com):\n",
    "        ax.scatter(embedding[i, 0], embedding[i, 1], s=200,c=COLORS_AGES_TALL[label], label=label,marker=\"^\",\n",
    "             linewidths=0.8, edgecolors='#000000')\n",
    "    else:\n",
    "        ax.scatter(embedding[i, 0], embedding[i, 1], s=140,c=COLORS_AGES[label], label=label,\n",
    "             linewidths=0.8, edgecolors='#252525')\n",
    "    ax.set_yticks([])\n",
    "    ax.set_xticks([])\n",
    "    ax.set_xlabel(\"Component 1\", fontsize=14, labelpad=10)\n",
    "    ax.set_ylabel(\"Component 2\",fontsize=14,labelpad=10)\n",
    "    ax.set_title(\"UMAP of ALL age groups\", fontsize=18,pad=10)\n",
    "# Legend\n",
    "handles, labels = plt.gca().get_legend_handles_labels()\n",
    "by_label = OrderedDict(zip(labels, handles))\n",
    "plt.legend(by_label.values(), by_label.keys(),prop={'size': 14}, loc='center right', bbox_to_anchor=(1.3, 0.5))\n",
    "fig.savefig(os.path.join(dire_plot,\"umap_all_age.svg\"), dpi=300, bbox_inches='tight')\n",
    "plt.show()"
   ]
  }
 ],
 "metadata": {
  "kernelspec": {
   "display_name": "Python [conda env:noncoding]",
   "language": "python",
   "name": "conda-env-noncoding-py"
  },
  "language_info": {
   "codemirror_mode": {
    "name": "ipython",
    "version": 3
   },
   "file_extension": ".py",
   "mimetype": "text/x-python",
   "name": "python",
   "nbconvert_exporter": "python",
   "pygments_lexer": "ipython3",
   "version": "3.5.6"
  }
 },
 "nbformat": 4,
 "nbformat_minor": 2
}
