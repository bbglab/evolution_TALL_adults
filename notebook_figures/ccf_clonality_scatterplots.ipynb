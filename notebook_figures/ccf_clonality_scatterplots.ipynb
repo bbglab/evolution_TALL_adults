{
 "cells": [
  {
   "cell_type": "markdown",
   "metadata": {},
   "source": [
    "This notebook does scatter plots with the Cancer Cell Fraction values of primary and relapse. The plots are then ensembled in figure of Additional file 3 Figure S1c. \n",
    "\n",
    "This piece of code relies on a workspace directory structure such as:\n",
    "```\n",
    "cohort/\n",
    "\tpatientID/\n",
    "\t\tDxTumorID_vs_normalID/\n",
    "\t\tReTumorID_vs_normalID/ (sometimes)\n",
    "\n",
    "```\n",
    " patientID, DxTumorID etc can be found in ../ext_files/all_cohort_clinical_groups.tsv\n",
    " \n",
    "Be aware that the filtered mafs with clonal classification and joined mutations after running the scripts in ```filter/```  have the following file name: ```TumorID_vs_normalID + _strelka_uniq_all_anno_vep92_categories_filt_snps_cluster.maf``` \n",
    ".This file name is used in the following code.\n",
    "\n",
    "PATS_DIRS is a dictionary with the path to the patient folder where the MAF files are.  "
   ]
  },
  {
   "cell_type": "code",
   "execution_count": null,
   "metadata": {
    "collapsed": true
   },
   "outputs": [],
   "source": [
    "import os\n",
    "import pandas as pd\n",
    "import numpy as np\n",
    "import seaborn as sns\n",
    "import matplotlib.pyplot as plt\n",
    "import matplotlib.gridspec as gridspec\n",
    "from collections import OrderedDict\n",
    "from scipy.stats import gaussian_kde\n",
    "\n",
    "from aux_data_in_pyvar import config_rcparams, PATS_DIRS\n",
    "from aux_functions import get_three_subsets"
   ]
  },
  {
   "cell_type": "code",
   "execution_count": null,
   "metadata": {
    "collapsed": true
   },
   "outputs": [],
   "source": [
    "## FUNCTIONS\n",
    "def scatter_plot(dff, pat, info_clinic, out_path):\n",
    "    dff.rename(columns={\"clonal_classification_rel\":'Relapse Clonal Categories',\n",
    "                       'clonal_classification_pry':\"Primary Clonal Categories\"}, inplace=True)\n",
    "    dff.sort_values(by=['ccf_primary', 'ccf_relapse'], inplace=True, ascending=False)\n",
    "    \n",
    "    ccf_x = dff['ccf_primary'].tolist()\n",
    "    ccf_y = dff['ccf_relapse'].tolist()\n",
    "\n",
    "    g = sns.JointGrid(x=\"ccf_primary\", y=\"ccf_relapse\", data=dff, xlim=[-.2,1.5], ylim=[-.2,1.5])\n",
    "    g = g.plot_joint(sns.scatterplot,data=dff, hue='Primary Clonal Categories',\n",
    "                     style=\"Relapse Clonal Categories\", markers=['o', '^'], alpha=0.2, linewidth=0.8,\n",
    "                     edgecolor='face', s=100,legend=False)\n",
    "    g = g.plot_marginals(sns.kdeplot, shade=True, color='#4d4d4d')\n",
    "        \n",
    "    title = pat\n",
    "    g.fig.suptitle(title, fontsize = 22, y=1.0)\n",
    "    g.fig.set_figwidth(6)\n",
    "    g.fig.set_figheight(4)\n",
    "    g.ax_joint.set_xlabel('CCF Primary', fontsize = 18)\n",
    "    g.ax_joint.set_ylabel('CCF Relapse', fontsize = 18)\n",
    "    #g.ax_joint.legend(bbox_to_anchor=(1.20, 1.20), loc=2)\n",
    "    #g.savefig(os.path.join(out_path, pat+\".svg\"), dpi=50, bbox_inches='tight')\n",
    "    g.savefig(os.path.join(out_path, pat+\".png\"), dpi=50, bbox_inches='tight')\n",
    "    plt.show()"
   ]
  },
  {
   "cell_type": "code",
   "execution_count": null,
   "metadata": {
    "collapsed": true
   },
   "outputs": [],
   "source": [
    "config_rcparams()"
   ]
  },
  {
   "cell_type": "code",
   "execution_count": null,
   "metadata": {
    "collapsed": true
   },
   "outputs": [],
   "source": [
    "out_figures = \"\" # output to write figures"
   ]
  },
  {
   "cell_type": "code",
   "execution_count": null,
   "metadata": {
    "collapsed": true
   },
   "outputs": [],
   "source": [
    "df_clinical = pd.read_csv(\"\", sep='\\t') # Additional file 1 Table S1"
   ]
  },
  {
   "cell_type": "code",
   "execution_count": null,
   "metadata": {
    "collapsed": true,
    "scrolled": true
   },
   "outputs": [],
   "source": [
    "shared_muts = pd.DataFrame()\n",
    "private_primary_muts = pd.DataFrame()\n",
    "private_relapse_muts = pd.DataFrame()\n",
    "\n",
    "for p in df_clinical['Patient_id'].unique():\n",
    "    \n",
    "    maf_path = PATS_DIRS[p]\n",
    "    \n",
    "    pat_clinical = df_clinical[df_clinical['Patient_id'] == p].reset_index()\n",
    "    \n",
    "    #comparison\n",
    "    com_pry = pat_clinical.loc[0, 'Primary_seq_id']+'_vs_'+pat_clinical.loc[0, 'Remission_seq_id']\n",
    "    com_rel = pat_clinical.loc[0, 'Relapse_seq_id']+'_vs_'+pat_clinical.loc[0, 'Remission_seq_id']\n",
    "    \n",
    "    # read_mutations\n",
    "    df_pry = pd.read_csv(os.path.join(maf_path, p, com_pry, com_pry+'_strelka_uniq_all_anno_vep92_categories_filt_snps_cluster.maf'), sep='\\t')\n",
    "    df_rel = pd.read_csv(os.path.join(maf_path, p, com_rel, com_rel+'_strelka_uniq_all_anno_vep92_categories_filt_snps_cluster.maf'), sep='\\t')\n",
    "    \n",
    "    # remove indels and mnvs\n",
    "    df_pry = df_pry[df_pry['mut_type'] == 'snv']\n",
    "    df_rel = df_rel[df_rel['mut_type'] == 'snv']\n",
    "\n",
    "    # make subsets\n",
    "    trunk, private_pry, private_rel = get_three_subsets(df_pry, df_rel)\n",
    "\n",
    "    # private primary\n",
    "    private_pry_df = df_pry[df_pry['Variant'].isin(private_pry)]\n",
    "    private_rel_df = df_rel[df_rel['Variant'].isin(private_rel)]\n",
    "    shared_pry = df_pry[df_pry['Variant'].isin(trunk)]\n",
    "    shared_rel = df_rel[df_rel['Variant'].isin(trunk)]\n",
    "    \n",
    "    shared_pry = shared_pry[['Variant','Consequence','FILTER','t_alt_reads', 't_ref_reads', 'clonal_classification', 'ccf']]\n",
    "    shared_rel = shared_rel[['Variant','Consequence','FILTER','t_alt_reads', 't_ref_reads', 'clonal_classification', 'ccf']]\n",
    "    \n",
    "    shared_pry.rename(columns={'FILTER':'FILTER_pry','t_alt_reads':'t_alt_reads_pry', \n",
    "                               't_ref_reads':'t_ref_reads_pry', 'clonal_classification':'clonal_classification_pry',\n",
    "                              'ccf':'ccf_primary'}, inplace=True)\n",
    "    shared_rel.rename(columns={'FILTER':'FILTER_rel','t_alt_reads':'t_alt_reads_rel', \n",
    "                               't_ref_reads':'t_ref_reads_rel', 'clonal_classification':'clonal_classification_rel',\n",
    "                              'ccf':'ccf_relapse'}, inplace=True)\n",
    "    shared = shared_pry.merge(shared_rel, how='outer', on='Variant')\n",
    "    shared['PATIENT'] = p\n",
    "    private_pry_df['PATIENT'] = p\n",
    "    private_rel_df['PATIENT'] = p\n",
    "    \n",
    "    print(p)\n",
    "    print(len(shared))\n",
    "    print(len(private_pry_df))\n",
    "    print(len(private_rel_df))\n",
    "    \n",
    "    shared_muts = shared_muts.append(shared, ignore_index=True)\n",
    "    private_primary_muts = private_primary_muts.append(private_pry_df[['Variant','Consequence','FILTER','t_alt_reads', 't_ref_reads', 'clonal_classification', 'ccf', 'PATIENT']], ignore_index=True)\n",
    "    private_relapse_muts = private_relapse_muts.append(private_rel_df[['Variant','Consequence','FILTER','t_alt_reads', 't_ref_reads', 'clonal_classification', 'ccf', 'PATIENT']], ignore_index=True)"
   ]
  },
  {
   "cell_type": "code",
   "execution_count": null,
   "metadata": {
    "collapsed": true
   },
   "outputs": [],
   "source": [
    "## prepare dataframes\n",
    "\n",
    "private_primary_muts['ccf_primary'] = private_primary_muts['ccf']\n",
    "private_primary_muts['ccf_relapse'] = 0\n",
    "\n",
    "private_relapse_muts['ccf_relapse'] = private_relapse_muts['ccf']\n",
    "private_relapse_muts['ccf_primary'] = 0\n",
    "\n",
    "private_primary_muts['clonal_classification_pry'] = private_primary_muts['clonal_classification'] \n",
    "private_relapse_muts['clonal_classification_rel'] = private_relapse_muts['clonal_classification']  "
   ]
  },
  {
   "cell_type": "code",
   "execution_count": null,
   "metadata": {
    "collapsed": true
   },
   "outputs": [],
   "source": [
    "# append them for plotting\n",
    "\n",
    "dff_plot = shared_muts[['ccf_primary', 'ccf_relapse', 'PATIENT','clonal_classification_pry', 'clonal_classification_rel']]\n",
    "dff_plot = dff_plot.append(private_primary_muts[['ccf_primary', 'ccf_relapse', 'PATIENT','clonal_classification_pry']], ignore_index=True)\n",
    "dff_plot = dff_plot.append(private_relapse_muts[['ccf_primary', 'ccf_relapse', 'PATIENT','clonal_classification_rel']], ignore_index=True)\n",
    "\n",
    "dff_plot['clonal_classification_pry'].fillna('subclonal', inplace=True)\n",
    "dff_plot['clonal_classification_rel'].fillna('subclonal', inplace=True)"
   ]
  },
  {
   "cell_type": "code",
   "execution_count": null,
   "metadata": {
    "collapsed": true
   },
   "outputs": [],
   "source": [
    "grps = dff_plot.groupby('PATIENT')\n",
    "\n",
    "for g in grps.groups:\n",
    "    \n",
    "    dff_plot_pat = grps.get_group(g)\n",
    "    print(g)\n",
    "    print(len(dff_plot_pat))\n",
    "    \n",
    "    df_clinical_subset = df_clinical[df_clinical['Patient_id'] == g]\n",
    "    df_clinical_subset  = df_clinical_subset[['Patient_id','Primary_seq_id', 'Remission_seq_id', 'Relapse_seq_id',\n",
    "                                  'Primary_sample_type', 'Relapse_sample_type']].reset_index()\n",
    "    df_clinical_subset = df_clinical_subset.fillna(\"unknown\")\n",
    "    \n",
    "    scatter_plot(dff_plot_pat, g, df_clinical_subset, out_figures)"
   ]
  },
  {
   "cell_type": "code",
   "execution_count": null,
   "metadata": {
    "collapsed": true
   },
   "outputs": [],
   "source": []
  }
 ],
 "metadata": {
  "kernelspec": {
   "display_name": "Python [conda env:filter_pipeline]",
   "language": "python",
   "name": "conda-env-filter_pipeline-py"
  },
  "language_info": {
   "codemirror_mode": {
    "name": "ipython",
    "version": 3
   },
   "file_extension": ".py",
   "mimetype": "text/x-python",
   "name": "python",
   "nbconvert_exporter": "python",
   "pygments_lexer": "ipython3",
   "version": "3.7.6"
  }
 },
 "nbformat": 4,
 "nbformat_minor": 2
}
