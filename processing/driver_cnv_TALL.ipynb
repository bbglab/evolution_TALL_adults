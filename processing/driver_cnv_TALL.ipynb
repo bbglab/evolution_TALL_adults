{
 "cells": [
  {
   "cell_type": "markdown",
   "metadata": {},
   "source": [
    "Joined list of driver copy number variants of all TALL cohorts. The list is simplified and provided in Additional file 2 Table S6a and figure 2a and Additional file 1 Figure S4. "
   ]
  },
  {
   "cell_type": "code",
   "execution_count": null,
   "metadata": {
    "collapsed": true
   },
   "outputs": [],
   "source": [
    "import sys, os\n",
    "os.environ[\"PATH\"] = os.path.dirname(sys.executable) + os.pathsep + os.environ[\"PATH\"]\n",
    "import pandas as pd\n",
    "import numpy as np\n",
    "import glob\n",
    "from collections import defaultdict\n",
    "import pybedtools\n",
    "\n",
    "pd.set_option('display.max_columns', None)\n",
    "pd.set_option('display.max_rows', None)\n",
    "pd.set_option('display.max_colwidth', -1)"
   ]
  },
  {
   "cell_type": "code",
   "execution_count": null,
   "metadata": {
    "collapsed": true
   },
   "outputs": [],
   "source": [
    "## FUNCTION\n",
    "\n",
    "def cnv_make_simple(df_cnv, drivers_lite):\n",
    "    df_return = pd.DataFrame()\n",
    "    \n",
    "    df_undo = pd.DataFrame()\n",
    "    \n",
    "    for i,rw in df_cnv.iterrows():\n",
    "        genes = rw['driver_cnv'].split(\",\")\n",
    "        for g in genes:\n",
    "            lite = drivers_lite[drivers_lite['SYMBOL'] == g].reset_index()\n",
    "            print(g)\n",
    "            if type(lite.loc[0,'PATHWAY']) == str:\n",
    "                df_undo = df_undo.append({'patient':rw['patient'],'driver_cnv':g, 'alteration':rw['alteration'],\n",
    "                                  'band_name':rw['band_name'],'subset':rw['subset'],'level_confidence':rw['level_confidence'], \n",
    "                                          'PATHWAY':lite.loc[0,'PATHWAY']}, ignore_index=True)\n",
    "            else:\n",
    "                df_undo = df_undo.append({'patient':rw['patient'],'driver_cnv':g, 'alteration':rw['alteration'],\n",
    "                                  'band_name':rw['band_name'],'subset':rw['subset'],'level_confidence':rw['level_confidence'], \n",
    "                                          'PATHWAY':'other'}, ignore_index=True)\n",
    "\n",
    "    grps = df_undo.groupby(['patient', 'driver_cnv', 'alteration', 'subset', 'level_confidence'])\n",
    "    \n",
    "    for g in grps.groups:\n",
    "        df = grps.get_group(g)\n",
    "        band = fix_band_anntotation(df)\n",
    "        df['SYMBOL'] = df['driver_cnv']+' '+band\n",
    "        df.drop_duplicates(inplace=True, keep='first')\n",
    "        df_return = df_return.append(df, ignore_index=True)\n",
    "    return df_return\n",
    "\n",
    "def fix_band_anntotation(df):\n",
    "    \n",
    "    df['band'] = df['band_name'].apply(lambda x: x.split('.')[0])\n",
    "    df['suband'] = df['band_name'].apply(lambda x: x.split('.')[1] if '.' in x else 0)\n",
    "    df['suband'] = df['suband'].astype(int)\n",
    "    df.sort_values('suband', inplace=True)\n",
    "    df.drop_duplicates(subset='suband', inplace=True)\n",
    "    df.reset_index(drop=True, inplace=True)\n",
    "    \n",
    "    band = df['band'].unique()[0]\n",
    "    suband = list()\n",
    "    for i,rw in df.iterrows():\n",
    "        if rw['suband'] != 0:\n",
    "            suband.append(str(rw['suband']))\n",
    "    \n",
    "    subands = ('-').join(suband)\n",
    "    band = band+'.'+subands+' ('+df.loc[0, 'alteration']+')'\n",
    "    return band\n",
    "\n",
    "def check_candidates(rw, drivers_lite):\n",
    "    if rw['level_confidence'] == 'cnv_in_interesting_gene':\n",
    "        genes = rw['genes_of_interest'].split(\",\")\n",
    "        drivers_meaningful = list()\n",
    "\n",
    "        for gen in genes:\n",
    "            driver_interest = drivers_lite[drivers_lite['SYMBOL'] == gen].reset_index()\n",
    "            try:\n",
    "                if (rw['alteration'] == 'del') and (driver_interest.loc[0, 'ROLE'] != 'act'):\n",
    "                    drivers_meaningful.append(gen)\n",
    "                elif (rw['alteration'] == 'amp') and (driver_interest.loc[0, 'ROLE'] != 'lof'):\n",
    "                    drivers_meaningful.append(gen)\n",
    "                else:\n",
    "                    pass\n",
    "            except KeyError:\n",
    "                print(rw)\n",
    "            kk = (',').join(drivers_meaningful)\n",
    "        rw['driver_cnv'] = kk\n",
    "    else:\n",
    "        genes = rw['genes_of_interest'].split(\",\")\n",
    "        genes = list(set(genes))\n",
    "        kk = (',').join(genes)\n",
    "        rw['driver_cnv'] = kk\n",
    "    return rw"
   ]
  },
  {
   "cell_type": "code",
   "execution_count": null,
   "metadata": {
    "collapsed": true
   },
   "outputs": [],
   "source": [
    "# define path for results\n",
    "out_path = \"\"\n",
    "\n",
    "# read lite known cnv in ALL\n",
    "drivers_cnv = pd.read_csv(\"../ext_files/literature/cnv_lite.tsv\", sep='\\t')\n",
    "\n",
    "# read all general cancer genes in ALL\n",
    "drivers_muts = pd.read_csv(\"../ext_files/literature/mutations_lite.tsv\", sep='\\t')\n",
    "\n",
    "# clinical data\n",
    "df_info = pd.read_csv(\"../ext_files/all_cohort_clinical_groups.tsv\", sep='\\t')\n",
    "df_info['PATIENT'] = df_info.apply(lambda x: 'oshima_pat_'+ str(x['PATIENT']) if x['COHORT'] == 'PEDIATRIC TALL WXS (Oshima et al., 2016; PNAS)' else x['PATIENT'], axis=1)"
   ]
  },
  {
   "cell_type": "code",
   "execution_count": null,
   "metadata": {
    "collapsed": true
   },
   "outputs": [],
   "source": [
    "# dictionary with the paths to the processed cnv files\n",
    "dicc_paths_cnv = {'ADULT TALL AECC PROJECT':\"\",\n",
    "                 'PEDIATRIC TALL WXS (Oshima et al., 2016; PNAS)': \"\",\n",
    "                 'PEDIATRIC ALL (Li et al., 2019, Blood)': \"\"}"
   ]
  },
  {
   "cell_type": "code",
   "execution_count": null,
   "metadata": {
    "collapsed": true
   },
   "outputs": [],
   "source": [
    "drivers = drivers_muts.append(drivers_cnv, ignore_index=True, sort=False)"
   ]
  },
  {
   "cell_type": "code",
   "execution_count": null,
   "metadata": {
    "collapsed": true
   },
   "outputs": [],
   "source": [
    "drivers[['SYMBOL','ROLE']].drop_duplicates().groupby('SYMBOL').count().sort_values('ROLE',ascending=False)"
   ]
  },
  {
   "cell_type": "code",
   "execution_count": null,
   "metadata": {
    "collapsed": true
   },
   "outputs": [],
   "source": [
    "drivers[drivers['SYMBOL'] == 'NOTCH1']"
   ]
  },
  {
   "cell_type": "markdown",
   "metadata": {},
   "source": [
    "#### Adult TALL AECC"
   ]
  },
  {
   "cell_type": "code",
   "execution_count": null,
   "metadata": {
    "collapsed": true
   },
   "outputs": [],
   "source": [
    "# read cnv candidate cnv\n",
    "candidate_drivers_cnv = pd.read_csv(os.path.join(dicc_paths_cnv['ADULT TALL AECC PROJECT'],\"known_driver_cnv.tsv\"), sep='\\t')\n",
    "candidate_drivers_cnv_2 = pd.read_csv(os.path.join(dicc_paths_cnv['ADULT TALL AECC PROJECT'],\"recurrent_interesting_cnv.tsv\"), sep='\\t')\n",
    "candidate_drivers_cnv['level_confidence'] = 'known_driver'\n",
    "candidate_drivers_cnv_2['level_confidence'] = 'cnv_in_interesting_gene'\n",
    "candidate_drivers_cnv.rename(columns={'driver_cnv':'genes_of_interest'}, inplace=True)\n",
    "candidate_drivers_cnv = candidate_drivers_cnv.append(candidate_drivers_cnv_2, ignore_index=True)\n",
    "candidate_drivers_cnv['alteration'] = candidate_drivers_cnv['alteration'].apply(lambda x: x.strip())"
   ]
  },
  {
   "cell_type": "code",
   "execution_count": null,
   "metadata": {
    "collapsed": true
   },
   "outputs": [],
   "source": [
    "# remove balanced loh\n",
    "candidate_drivers_cnv = candidate_drivers_cnv[candidate_drivers_cnv['alteration'] != 'loh']"
   ]
  },
  {
   "cell_type": "code",
   "execution_count": null,
   "metadata": {
    "collapsed": true,
    "scrolled": true
   },
   "outputs": [],
   "source": [
    "candidate_drivers_cnv.head()"
   ]
  },
  {
   "cell_type": "code",
   "execution_count": null,
   "metadata": {
    "collapsed": true
   },
   "outputs": [],
   "source": [
    "# check candidates\n",
    "candidate_drivers_cnv = candidate_drivers_cnv.apply(lambda x: check_candidates(x,drivers), axis=1)\n",
    "\n",
    "#remove those that we don't have any information\n",
    "candidate_drivers_cnv = candidate_drivers_cnv[candidate_drivers_cnv['driver_cnv'] != ''] "
   ]
  },
  {
   "cell_type": "code",
   "execution_count": null,
   "metadata": {
    "collapsed": true,
    "scrolled": true
   },
   "outputs": [],
   "source": [
    "# make simple dataframe to summarize candidates\n",
    "adults_cnv = cnv_make_simple(candidate_drivers_cnv, drivers)\n",
    "adults_cnv = adults_cnv[['patient', 'subset', 'SYMBOL', 'level_confidence','PATHWAY']].drop_duplicates()\n",
    "adults_cnv.rename(columns={'patient':'PATIENT'}, inplace=True)\n",
    "\n",
    "# merge with clinical information\n",
    "adults_cnv = adults_cnv.merge(df_info[['PATIENT', 'COHORT','AGE_RANGE']], how='left', on='PATIENT')"
   ]
  },
  {
   "cell_type": "markdown",
   "metadata": {},
   "source": [
    "#### Pediatric WXS Oshima 2015"
   ]
  },
  {
   "cell_type": "code",
   "execution_count": null,
   "metadata": {
    "collapsed": true
   },
   "outputs": [],
   "source": [
    "# read cnv candidate cnv\n",
    "\n",
    "candidate_drivers_cnv = pd.read_csv(os.path.join(dicc_paths_cnv['PEDIATRIC TALL WXS (Oshima et al., 2016; PNAS)'],\"known_driver_cnv.tsv\"), sep='\\t')\n",
    "candidate_drivers_cnv_2 = pd.read_csv(os.path.join(dicc_paths_cnv['PEDIATRIC TALL WXS (Oshima et al., 2016; PNAS)'],\"recurrent_interesting_cnv.tsv\"), sep='\\t')\n",
    "candidate_drivers_cnv['level_confidence'] = 'known_driver'\n",
    "candidate_drivers_cnv_2['level_confidence'] = 'cnv_in_interesting_gene'\n",
    "candidate_drivers_cnv.rename(columns={'driver_cnv':'genes_of_interest'}, inplace=True)\n",
    "candidate_drivers_cnv = candidate_drivers_cnv.append(candidate_drivers_cnv_2, ignore_index=True)\n",
    "candidate_drivers_cnv['alteration'] = candidate_drivers_cnv['alteration'].apply(lambda x: x.strip())"
   ]
  },
  {
   "cell_type": "code",
   "execution_count": null,
   "metadata": {
    "collapsed": true
   },
   "outputs": [],
   "source": [
    "# remove balanced loh\n",
    "candidate_drivers_cnv = candidate_drivers_cnv[candidate_drivers_cnv['alteration'] != 'loh']"
   ]
  },
  {
   "cell_type": "code",
   "execution_count": null,
   "metadata": {
    "collapsed": true
   },
   "outputs": [],
   "source": [
    "# check candidates\n",
    "candidate_drivers_cnv = candidate_drivers_cnv.apply(lambda x: check_candidates(x,drivers), axis=1)\n",
    "\n",
    "# remove those that we don't have any information \n",
    "candidate_drivers_cnv = candidate_drivers_cnv[candidate_drivers_cnv['driver_cnv'] != '']\n",
    "\n",
    "# remove any copy number from chromosome X. Output from male patients reports unexisting copy number imbalance\n",
    "candidate_drivers_cnv = candidate_drivers_cnv[~candidate_drivers_cnv['band_name'].str.contains(\"X\")]"
   ]
  },
  {
   "cell_type": "code",
   "execution_count": null,
   "metadata": {
    "collapsed": true
   },
   "outputs": [],
   "source": [
    "# make simple dataframe to summarize candidates\n",
    "pediatrics_cnv = cnv_make_simple(candidate_drivers_cnv, drivers)\n",
    "pediatrics_cnv = pediatrics_cnv[['patient', 'subset', 'SYMBOL', 'level_confidence','PATHWAY']].drop_duplicates()\n",
    "pediatrics_cnv.rename(columns={'patient':'PATIENT'}, inplace=True)"
   ]
  },
  {
   "cell_type": "code",
   "execution_count": null,
   "metadata": {
    "collapsed": true
   },
   "outputs": [],
   "source": [
    "# merge with clinical information\n",
    "pediatrics_cnv = pediatrics_cnv.merge(df_info[['PATIENT', 'COHORT','AGE_RANGE']], how='left', on='PATIENT')"
   ]
  },
  {
   "cell_type": "markdown",
   "metadata": {},
   "source": [
    "#### Pediatric WGS TALL Li 2020 Blood"
   ]
  },
  {
   "cell_type": "code",
   "execution_count": null,
   "metadata": {
    "collapsed": true
   },
   "outputs": [],
   "source": [
    "# Go to the supplementary materials of Li et al., 2020 PMID: 31697823 and make a dataframe with the clinical information\n",
    "# like the one in Additional file 2 Table S2 of the paper\n",
    "df_info_chinese = pd.read_csv(\"\", sep='\\t')\n",
    "df_info_chinese_TALL = df_info_chinese[df_info_chinese['TYPE'] == 'TALL']\n",
    "print(len(df_info_chinese_TALL['PATIENT'].unique()))\n",
    "df_info_chinese_TALL.head()"
   ]
  },
  {
   "cell_type": "code",
   "execution_count": null,
   "metadata": {
    "collapsed": true
   },
   "outputs": [],
   "source": [
    "dicc_paths_cnv.keys()"
   ]
  },
  {
   "cell_type": "code",
   "execution_count": null,
   "metadata": {
    "collapsed": true
   },
   "outputs": [],
   "source": [
    "# read cnv candidate cnv\n",
    "\n",
    "candidate_drivers_cnv = pd.read_csv(os.path.join(dicc_paths_cnv['PEDIATRIC ALL (Li et al., 2019, Blood)'], \"known_driver_cnv.tsv\"), sep='\\t')\n",
    "candidate_drivers_cnv_2 = pd.read_csv(os.path.join(dicc_paths_cnv['PEDIATRIC ALL (Li et al., 2019, Blood)'], \"recurrent_interesting_cnv.tsv\"), sep='\\t')\n",
    "candidate_drivers_cnv['level_confidence'] = 'known_driver'\n",
    "candidate_drivers_cnv_2['level_confidence'] = 'cnv_in_interesting_gene'\n",
    "candidate_drivers_cnv.rename(columns={'driver_cnv':'genes_of_interest'}, inplace=True)\n",
    "candidate_drivers_cnv = candidate_drivers_cnv.append(candidate_drivers_cnv_2, ignore_index=True)\n",
    "candidate_drivers_cnv['alteration'] = candidate_drivers_cnv['alteration'].apply(lambda x: x.strip())"
   ]
  },
  {
   "cell_type": "code",
   "execution_count": null,
   "metadata": {
    "collapsed": true
   },
   "outputs": [],
   "source": [
    "# check candidates\n",
    "candidate_drivers_cnv = candidate_drivers_cnv.apply(lambda x: check_candidates(x,drivers), axis=1)\n",
    "\n",
    "# remove those that we don't have any information \n",
    "candidate_drivers_cnv = candidate_drivers_cnv[candidate_drivers_cnv['driver_cnv'] != '']"
   ]
  },
  {
   "cell_type": "code",
   "execution_count": null,
   "metadata": {
    "collapsed": true
   },
   "outputs": [],
   "source": [
    "# make simple dataframe to summarize candidates\n",
    "pediatrics_cnv_2 = cnv_make_simple(candidate_drivers_cnv, drivers)\n",
    "pediatrics_cnv_2 = pediatrics_cnv_2[['patient', 'subset', 'SYMBOL', 'level_confidence','PATHWAY']].drop_duplicates()\n",
    "pediatrics_cnv_2.rename(columns={'patient':'PATIENT'}, inplace=True)"
   ]
  },
  {
   "cell_type": "code",
   "execution_count": null,
   "metadata": {
    "collapsed": true
   },
   "outputs": [],
   "source": [
    "# merge with clinical information\n",
    "pediatrics_cnv_2 = pediatrics_cnv_2.merge(df_info_chinese[['PATIENT', 'COHORT','AGE_RANGE']], how='left', on='PATIENT')"
   ]
  },
  {
   "cell_type": "markdown",
   "metadata": {},
   "source": [
    "#### join them "
   ]
  },
  {
   "cell_type": "code",
   "execution_count": null,
   "metadata": {
    "collapsed": true
   },
   "outputs": [],
   "source": [
    "candidate_cnv_drivers = adults_cnv.copy()\n",
    "candidate_cnv_drivers = candidate_cnv_drivers.append(pediatrics_cnv, ignore_index=True)\n",
    "candidate_cnv_drivers = candidate_cnv_drivers.append(pediatrics_cnv_2, ignore_index=True)\n",
    "\n",
    "candidate_cnv_drivers.drop_duplicates(inplace=True, keep='first')\n",
    "candidate_cnv_drivers['subset'] = candidate_cnv_drivers['subset'].str.replace(\"private primary\",\"private_primary\")\n",
    "candidate_cnv_drivers['subset'] = candidate_cnv_drivers['subset'].str.replace(\"private relapse\",\"private_relapse\")"
   ]
  },
  {
   "cell_type": "code",
   "execution_count": null,
   "metadata": {
    "collapsed": true
   },
   "outputs": [],
   "source": [
    "candidate_cnv_drivers[candidate_cnv_drivers['SYMBOL'].str.contains('JAK3')]"
   ]
  },
  {
   "cell_type": "markdown",
   "metadata": {},
   "source": [
    "#### last check\n",
    "\n",
    "Check if the gene is truly affected by the cnv and not only the band \n",
    "\n",
    "Check if there are full amplifications of the activating genes"
   ]
  },
  {
   "cell_type": "code",
   "execution_count": null,
   "metadata": {
    "collapsed": true
   },
   "outputs": [],
   "source": [
    "gene_length = pd.read_csv(\"../ext_files/mart_export_grch37.txt\", sep='\\t')\n",
    "gene_length.rename(columns={'Chromosome/scaffold name':'chrom_gen', 'Gene start (bp)':'start_gen',\n",
    "                           'Gene end (bp)':'end_gen', 'Gene name':'SYMBOL'}, inplace=True)\n",
    "\n",
    "chroms = [str(x) for x in range(1,23,1)]\n",
    "chroms.extend(['X', 'Y'])\n",
    "gene_length  = gene_length[gene_length['chrom_gen'].isin(chroms)] "
   ]
  },
  {
   "cell_type": "code",
   "execution_count": null,
   "metadata": {
    "collapsed": true
   },
   "outputs": [],
   "source": [
    "cnv_check = pd.DataFrame()\n",
    "\n",
    "for i,rw in candidate_cnv_drivers.iterrows():\n",
    "    cnv = pd.read_excel(os.path.join(dicc_paths_cnv[rw['COHORT']],rw['subset']+\"_processed.xlsx\"), sheet_name=\"processed\")\n",
    "    cnv['chrom'] = cnv['chrom'].astype(str)\n",
    "    symbol = rw['SYMBOL'].split(' ')[0]\n",
    "    alt = rw['SYMBOL'].split(' ')[-1].replace(\"(\", \"\")\n",
    "    alt = alt.replace(\")\", \"\")\n",
    "    gene_len = gene_length[gene_length['SYMBOL'] == symbol].reset_index(drop=True)\n",
    "\n",
    "    gene_len['len_gene'] = gene_len.apply(lambda x: x['end_gen']-x['start_gen'], axis=1)\n",
    "\n",
    "    cnv = cnv[(cnv['chrom'] == str(gene_len.loc[0,'chrom_gen'])) & (cnv['alteration'] == alt) & (cnv['patient'] == rw['PATIENT'])]\n",
    "\n",
    "    cnv_bed = pybedtools.BedTool.from_dataframe(cnv[['chrom', 'start', 'end']])\n",
    "    gene_len_bed = pybedtools.BedTool.from_dataframe(gene_len[['chrom_gen', 'start_gen', 'end_gen']])\n",
    "\n",
    "    result = cnv_bed.intersect(gene_len_bed, wo = True)\n",
    "    merged = pd.read_table(result.fn, names=['chrom', 'start', 'end', \n",
    "                                              'chrom_gen', 'start_gen', 'end_gen', 'len_overlap'])\n",
    "    \n",
    "    if merged.empty == False:\n",
    "        if alt == 'del':\n",
    "            cnv_check = cnv_check.append(rw, ignore_index=True)\n",
    "        else:\n",
    "            merged[['start', 'end', \n",
    "                 'start_gen', 'end_gen']] = merged[['start', 'end', 'start_gen', 'end_gen']].astype(int)\n",
    "            merged[['chrom', 'chrom_gen']] = merged[['chrom', 'chrom_gen']].astype(str)\n",
    "\n",
    "            merged = merged.merge(cnv, how='left', on=['chrom', 'start', 'end'])\n",
    "            merged = merged.merge(gene_len, how='left', on=['chrom_gen', 'start_gen', 'end_gen'])\n",
    "\n",
    "            merged['keep'] = merged.apply(lambda x: True if x['len_gene'] == x['len_overlap'] else False, axis=1)\n",
    "            merged_filt = merged[merged['keep'] == True]\n",
    "            if merged_filt.empty == False:\n",
    "                cnv_check = cnv_check.append(rw, ignore_index=True)\n",
    "    else:\n",
    "        # these are genes in this cytobands that are actually not affected by the cnv that distrupts the cytoband\n",
    "        print(\"--------------------------------------------------------------------------------------\")\n",
    "        print(rw)\n",
    "        print(cnv)"
   ]
  },
  {
   "cell_type": "code",
   "execution_count": null,
   "metadata": {
    "collapsed": true
   },
   "outputs": [],
   "source": [
    "cnv_check"
   ]
  },
  {
   "cell_type": "code",
   "execution_count": null,
   "metadata": {
    "collapsed": true
   },
   "outputs": [],
   "source": [
    "cnv_check.to_csv(os.path.join(out_path, \"driver_cnv_TALL.tsv\", sep='\\t', index=False))"
   ]
  }
 ],
 "metadata": {
  "kernelspec": {
   "display_name": "Python [conda env:filter_pipeline]",
   "language": "python",
   "name": "conda-env-filter_pipeline-py"
  },
  "language_info": {
   "codemirror_mode": {
    "name": "ipython",
    "version": 3
   },
   "file_extension": ".py",
   "mimetype": "text/x-python",
   "name": "python",
   "nbconvert_exporter": "python",
   "pygments_lexer": "ipython3",
   "version": "3.7.6"
  }
 },
 "nbformat": 4,
 "nbformat_minor": 2
}
