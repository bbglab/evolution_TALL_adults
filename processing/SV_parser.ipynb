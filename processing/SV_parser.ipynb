{
 "cells": [
  {
   "cell_type": "markdown",
   "metadata": {},
   "source": [
    "This notebook processed the results from Delly. \n",
    "This piece of code relies on a worspace directory structure such as \n",
    "```\n",
    "cohort/\n",
    "\tpatientID/\n",
    "\t\tDxTumorID_vs_normalID/\n",
    "\t\tReTumorID_vs_normalID/ (sometimes)\n",
    "\n",
    "```\n",
    " patientID, DxTumorID etc can be found in ../ext_files/all_cohort_clinical_groups.tsv"
   ]
  },
  {
   "cell_type": "code",
   "execution_count": null,
   "metadata": {
    "collapsed": true
   },
   "outputs": [],
   "source": [
    "import sys, os\n",
    "os.environ[\"PATH\"] = os.path.dirname(sys.executable) + os.pathsep + os.environ[\"PATH\"]"
   ]
  },
  {
   "cell_type": "code",
   "execution_count": null,
   "metadata": {
    "collapsed": true
   },
   "outputs": [],
   "source": [
    "import pandas as pd\n",
    "import numpy as np\n",
    "import pybedtools\n",
    "from io import StringIO\n",
    "from aux_functions import stage_mapping, read_vcf\n",
    "\n",
    "pd.set_option('display.max_columns', None)\n",
    "pd.set_option('display.max_rows', None)\n",
    "pd.set_option('display.max_colwidth', -1)"
   ]
  },
  {
   "cell_type": "code",
   "execution_count": null,
   "metadata": {
    "collapsed": true
   },
   "outputs": [],
   "source": [
    "def basic_filter(df):\n",
    "    if df.empty == True:\n",
    "        df = pd.DataFrame(columns=['CHROM_A', 'START_A', 'END_A', \n",
    "                                       'CHROM_B', 'START_B', 'END_B', 'ID',\n",
    "                                      'STRAND_A', 'STRAND_B','FILTER','TYPE'])\n",
    "    df = df[df.FILTER == 'PASS']\n",
    "#     df = df[~df.INFO_A.str.contains(\"IMPRECISE\")]\n",
    "#     df = df[~df.INFO_B.str.contains(\"IMPRECISE\")]\n",
    "    return df"
   ]
  },
  {
   "cell_type": "code",
   "execution_count": null,
   "metadata": {
    "collapsed": true
   },
   "outputs": [],
   "source": [
    "def intersect_transloc_bands(df_sv, df_bands, letter):\n",
    "    sv_bed = pybedtools.BedTool.from_dataframe(df_sv[['CHROM'+'_'+letter.upper(), 'START'+'_'+letter.upper(), 'END'+'_'+letter.upper(),\n",
    "                                                  'FILTER', 'TYPE', 'STRAND'+'_'+letter.upper(), 'ID']])\n",
    "    band_bed = pybedtools.BedTool.from_dataframe(df_bands[['chrom', 'start', 'end', 'band']])\n",
    "    result = sv_bed.intersect(band_bed, wao = True)\n",
    "    result = pd.read_table(result.fn, names=['CHROM'+'_'+letter.upper(), 'START'+'_'+letter.upper(), \n",
    "                                             'END'+'_'+letter.upper(), \n",
    "                                             'FILTER', 'TYPE', 'STRAND'+'_'+letter.upper(), 'ID',\n",
    "                                             'chrom', 'start', 'end', 'band', 'overlap'])\n",
    "    result[['CHROM'+'_'+letter.upper(), 'chrom']] = result[['CHROM'+'_'+letter.upper(), 'chrom']].astype(str)\n",
    "    result[['START'+'_'+letter.upper(), 'END'+'_'+letter.upper(), 'start', 'end']] = result[['START'+'_'+letter.upper(), 'END'+'_'+letter.upper(), 'start', 'end']].astype(int)\n",
    "    result['alt_band'+'_'+letter.upper()] = result['band']\n",
    "    return result[['CHROM'+'_'+letter.upper(), 'START'+'_'+letter.upper(), 'END'+'_'+letter.upper(),\n",
    "                    'FILTER', 'TYPE', 'STRAND'+'_'+letter.upper(), 'ID', 'alt_band'+'_'+letter.upper()]].drop_duplicates()"
   ]
  },
  {
   "cell_type": "code",
   "execution_count": null,
   "metadata": {
    "collapsed": true
   },
   "outputs": [],
   "source": [
    "def sort_alterations(dfA, dfB):\n",
    "    df = pd.DataFrame()\n",
    "    \n",
    "    aut_chrom = [str(x) for x in range(1,23,1)]\n",
    "    sex_chrom = ['X', 'Y']\n",
    "    chroms = sex_chrom+aut_chrom\n",
    "  \n",
    "    for bnd in dfA['ID'].unique():\n",
    "        Arw = dfA[dfA['ID'] == bnd].reset_index()\n",
    "        Brw = dfB[dfB['ID'] == bnd].reset_index()\n",
    "    \n",
    "        i_A = chroms.index(Arw.loc[0,'CHROM_A'])\n",
    "        i_B = chroms.index(Brw.loc[0,'CHROM_B'])\n",
    "    \n",
    "        if i_A < i_B:\n",
    "            df = df.append({'CHROM_L': Arw.loc[0,'CHROM_A'], \n",
    "                            'START_L':Arw.loc[0,'START_A'], \n",
    "                            'END_L':Arw.loc[0,'END_A'],\n",
    "                            'STRAND_L':Arw.loc[0,'STRAND_A'],\n",
    "                            'CHROM_R': Brw.loc[0,'CHROM_B'], \n",
    "                            'START_R':Brw.loc[0,'START_B'], \n",
    "                            'END_R':Brw.loc[0,'END_B'],\n",
    "                            'STRAND_R':Brw.loc[0,'STRAND_B'],\n",
    "                            'ID':bnd,\n",
    "                            'BAND_R':Brw.loc[0,'alt_band_B'], 'BAND_L':Arw.loc[0,'alt_band_A']}, \n",
    "                           ignore_index=True, sort=False)\n",
    "        elif i_A > i_B:\n",
    "            df = df.append({'CHROM_L': Brw.loc[0,'CHROM_B'], \n",
    "                            'START_L':Brw.loc[0,'START_B'], \n",
    "                            'END_L':Brw.loc[0,'END_B'],'STRAND_L':Brw.loc[0,'STRAND_B'],\n",
    "                            'CHROM_R': Arw.loc[0,'CHROM_A'], \n",
    "                            'START_R':Arw.loc[0,'START_A'], \n",
    "                            'END_R':Arw.loc[0,'END_A'],\n",
    "                            'STRAND_R':Arw.loc[0,'STRAND_A'],\n",
    "                            'ID':bnd, \n",
    "                            'BAND_L':Brw.loc[0,'alt_band_B'], 'BAND_R':Arw.loc[0,'alt_band_A']}, \n",
    "                           ignore_index=True, sort=False)\n",
    "        else:\n",
    "            print(\"same chromosome in ID:{}\".format(band))\n",
    "    if df.empty==False:\n",
    "        df[['START_L', 'START_R']] = df[['START_L', 'START_R']].astype(int)\n",
    "        df[['END_L', 'END_R']] = df[['END_L', 'END_R']].astype(int)\n",
    "    else:\n",
    "        df = pd.DataFrame(columns=['BAND_L', 'BAND_R', 'CHROM_L', 'CHROM_R', 'END_L', 'END_R', 'ID',\n",
    "       'START_L', 'START_R', 'STRAND_L', 'STRAND_R'])\n",
    "    return df"
   ]
  },
  {
   "cell_type": "code",
   "execution_count": null,
   "metadata": {
    "collapsed": true
   },
   "outputs": [],
   "source": [
    "# FUNCTIONS\n",
    "\n",
    "def get_three_branches(all_pry, all_rel):\n",
    "\n",
    "    # CREATE SET OF VARIANTS CLONAL  SNVS\n",
    "\n",
    "    all_pry_variants = set(all_pry['Variant'].unique())\n",
    "\n",
    "    all_rel_variants = set(all_rel['Variant'].unique())\n",
    "\n",
    "    trunk_variants = all_pry_variants.intersection(all_rel_variants)\n",
    "\n",
    "    private_pry_variants = all_pry_variants.difference(trunk_variants)\n",
    "\n",
    "    private_rel_variants = all_rel_variants.difference(trunk_variants)\n",
    "\n",
    "    return trunk_variants, private_pry_variants, private_rel_variants\n"
   ]
  },
  {
   "cell_type": "code",
   "execution_count": null,
   "metadata": {
    "collapsed": true
   },
   "outputs": [],
   "source": [
    "def check_known_del(rw, del_known):\n",
    "    for driver in del_known['Variant']:\n",
    "        if driver in rw['Variant']:\n",
    "            rw['driver'] = True\n",
    "        else:\n",
    "            rw['driver'] = False\n",
    "    return rw"
   ]
  },
  {
   "cell_type": "code",
   "execution_count": null,
   "metadata": {
    "collapsed": true
   },
   "outputs": [],
   "source": [
    "def process_other_sv(type_sv, dire_in):\n",
    "\n",
    "    dff_pry = pd.DataFrame()\n",
    "    dff_rel = pd.DataFrame()\n",
    "    dff_joined = pd.DataFrame()\n",
    "\n",
    "    for pat in clinic.PATIENT.unique():\n",
    "        if not pat in ['PAT3', 'PAT4']:\n",
    "\n",
    "            # read data\n",
    "            pat_clinic = clinic[clinic['PATIENT'] == pat].reset_index().sort_values('STAGE')\n",
    "\n",
    "\n",
    "            df_pry = read_vcf(os.path.join(dire_in,pat, pat_clinic.loc[0, 'COMPARISON'], \n",
    "                                           pat_clinic.loc[0, 'COMPARISON']+\"_\"+type_sv+\"_delly.bedpe\"))\n",
    "\n",
    "            df_rel = read_vcf(os.path.join(dire_in,pat, pat_clinic.loc[1, 'COMPARISON'], \n",
    "                                           pat_clinic.loc[1, 'COMPARISON']+\"_\"+type_sv+\"_delly.bedpe\"))\n",
    "\n",
    "            if df_pry.empty == True:\n",
    "                df_pry = pd.DataFrame(columns=['CHROM_A', 'START_A', 'END_A', \n",
    "                                               'CHROM_B', 'START_B', 'END_B', 'ID', 'INFO_A', 'INFO_B',\n",
    "                                              'STRAND_A', 'STRAND_B','FILTER','TYPE'])\n",
    "            else: \n",
    "                df_pry.rename(columns={'#CHROM_A':'CHROM_A'}, inplace=True)\n",
    "            if df_rel.empty == True:\n",
    "                df_rel = pd.DataFrame(columns=['CHROM_A', 'START_A', 'END_A', \n",
    "                                               'CHROM_B', 'START_B', 'END_B', 'ID', 'INFO_A', 'INFO_B',\n",
    "                                              'STRAND_A', 'STRAND_B','FILTER','TYPE'])\n",
    "            else:\n",
    "                df_rel.rename(columns={'#CHROM_A':'CHROM_A'}, inplace=True)\n",
    "\n",
    "            print(pat)\n",
    "            print(\"Before filter pry:{} rel:{}\".format(len(df_pry), len(df_rel)))\n",
    "\n",
    "            # get reliable calls\n",
    "            df_pry = basic_filter(df_pry)\n",
    "            df_rel = basic_filter(df_rel)\n",
    "\n",
    "            print(\"After filter pry:{} rel:{}\".format(len(df_pry), len(df_rel)))\n",
    "\n",
    "            # map cytobands\n",
    "            df_pry_A = intersect_transloc_bands(df_pry, bands, 'A')\n",
    "            df_pry_B = intersect_transloc_bands(df_pry, bands, 'B')\n",
    "\n",
    "            df_rel_A = intersect_transloc_bands(df_rel, bands, 'A')\n",
    "            df_rel_B = intersect_transloc_bands(df_rel, bands, 'B')\n",
    "    \n",
    "\n",
    "            grps = df_pry_A.groupby('ID')\n",
    "\n",
    "            for i in grps.groups:\n",
    "                test1 = grps.get_group(i).reset_index()\n",
    "                test2 = df_pry_B[df_pry_B['ID'] == i].reset_index()\n",
    "\n",
    "                if test1.loc[0,'alt_band_A'] != test2.loc[0,'alt_band_B']:\n",
    "                    print(\"{} with diff band in {}: {} {} {}\".format(pat, type_sv, test1.loc[0,'CHROM_A'],\n",
    "                                                                    test1.loc[0,'alt_band_A'],\n",
    "                                                                    test2.loc[0,'alt_band_B']))\n",
    "\n",
    "            grps = df_rel_A.groupby('ID')\n",
    "\n",
    "            for i in grps.groups:\n",
    "                test1 = grps.get_group(i).reset_index()\n",
    "                test2 = df_rel_B[df_rel_B['ID'] == i].reset_index()\n",
    "\n",
    "                if test1.loc[0,'alt_band_A'] != test2.loc[0,'alt_band_B']:\n",
    "                    print(\"{} with diff band in {}: {} {} {}\".format(pat, type_sv, test1.loc[0,'CHROM_A'],\n",
    "                                                                    test1.loc[0,'alt_band_A'],\n",
    "                                                                    test2.loc[0,'alt_band_B']))\n",
    "\n",
    "            df_pry = df_pry_A.merge(df_pry_B, on=['ID', 'TYPE', 'FILTER'], how='outer')\n",
    "            df_rel = df_rel_A.merge(df_rel_B, on=['ID', 'TYPE', 'FILTER'], how='outer')\n",
    "\n",
    "            df_pry['PATIENT'] = pat\n",
    "            df_rel['PATIENT'] = pat\n",
    "\n",
    "            dff_pry = dff_pry.append(df_pry, ignore_index=True)\n",
    "            dff_rel = dff_rel.append(df_rel, ignore_index=True)\n",
    "\n",
    "            dff_pry['Variant'] = dff_pry.apply(lambda x: '({})({};{})'.format(x['CHROM_A'], x['alt_band_A'], x['alt_band_B']), axis=1)\n",
    "            dff_rel['Variant'] = dff_rel.apply(lambda x: '({})({};{})'.format(x['CHROM_A'], x['alt_band_A'], x['alt_band_B']), axis=1)\n",
    "\n",
    "            shared, private_pry, private_rel = get_three_branches(dff_pry, dff_rel)\n",
    "\n",
    "            dff_pry['subset'] = dff_pry['Variant'].apply(lambda x: 'shared' if x in shared else 'private_primary')\n",
    "            dff_rel = dff_rel[~dff_rel['Variant'].isin(shared)]\n",
    "            dff_rel['subset'] = 'private_relapse'\n",
    "            dff_rel['PATIENT'] = pat\n",
    "            dff_rel['PATIENT'] = pat\n",
    "\n",
    "            dff_joined = dff_joined.append(dff_pry, ignore_index=True, sort=False)\n",
    "            dff_joined = dff_joined.append(dff_rel, ignore_index=True, sort=False)\n",
    "            dff_joined.drop_duplicates(inplace=True)\n",
    "    return dff_joined"
   ]
  },
  {
   "cell_type": "code",
   "execution_count": null,
   "metadata": {},
   "outputs": [],
   "source": [
    "dire_out = \"\"\n",
    "dire_in = \"\"\n",
    "# read clinical data\n",
    "clinic = pd.read_csv(\"\", sep='\\t') # read Table S1 from Additional File 2\n",
    "clinic = stage_mapping(clinic)\n",
    "# read cytobands of chromosomes\n",
    "bands = pd.read_table(\"../ext_files/chromosome.band.hg19.txt\", sep='\\t', \n",
    "                     header=None, names=['chrom','start', 'end', 'band', 'giestain'], skiprows=[0])\n",
    "bands['chrom'] = bands['chrom'].str.replace(\"chr\", \"\") "
   ]
  },
  {
   "cell_type": "markdown",
   "metadata": {},
   "source": [
    "### BND/TRANSLOC Variants"
   ]
  },
  {
   "cell_type": "code",
   "execution_count": null,
   "metadata": {
    "collapsed": true
   },
   "outputs": [],
   "source": [
    "# read SV drivers\n",
    "known_transloc = pd.read_csv(\"../ext_files/literature/sv_transloc_lite.tsv\", sep='\\t')\n",
    "known_transloc['Variant'] = known_transloc.apply(lambda x: \"t({};{})({};{})\".format(x['CHROM_L'], \n",
    "                                                                                      x['CHROM_R'],\n",
    "                                                                                      x['BAND_L'],\n",
    "                                                                                      x['BAND_R']), axis=1)"
   ]
  },
  {
   "cell_type": "code",
   "execution_count": null,
   "metadata": {
    "scrolled": true
   },
   "outputs": [],
   "source": [
    "# DELLY\n",
    "dff_known = pd.DataFrame()\n",
    "dff_others = pd.DataFrame()\n",
    "\n",
    "for pat in clinic.PATIENT.unique():\n",
    "    \n",
    "    # read data\n",
    "    pat_clinic = clinic[clinic['PATIENT'] == pat].reset_index().sort_values('STAGE')\n",
    "\n",
    "    df_pry = read_vcf(os.path.join(dire_in,pat, pat_clinic.loc[0, 'COMPARISON'], \n",
    "                                   pat_clinic.loc[0, 'COMPARISON']+\"_bnd_delly.bedpe\"))\n",
    "    df_rel = read_vcf(os.path.join(dire_in,pat, pat_clinic.loc[1, 'COMPARISON'], \n",
    "                                   pat_clinic.loc[1, 'COMPARISON']+\"_bnd_delly.bedpe\"))\n",
    "    df_pry.rename(columns={'#CHROM_A':'CHROM_A'}, inplace=True)\n",
    "    df_rel.rename(columns={'#CHROM_A':'CHROM_A'}, inplace=True)\n",
    "\n",
    "\n",
    "    print(pat)\n",
    "    print(\"Before filter pry:{} rel:{}\".format(len(df_pry), len(df_rel)))\n",
    "\n",
    "    # get reliable calls\n",
    "    df_pry = basic_filter(df_pry)\n",
    "    df_rel = basic_filter(df_rel)\n",
    "\n",
    "    print(\"After filter pry:{} rel:{}\".format(len(df_pry), len(df_rel)))\n",
    "\n",
    "    # map cytobands\n",
    "    df_pry_A = intersect_transloc_bands(df_pry, bands, 'A')\n",
    "    df_pry_B = intersect_transloc_bands(df_pry, bands, 'B')\n",
    "\n",
    "    df_rel_A = intersect_transloc_bands(df_rel, bands, 'A')\n",
    "    df_rel_B = intersect_transloc_bands(df_rel, bands, 'B')\n",
    "\n",
    "    # sort A and B with chromosome order from 1 to Y\n",
    "    df_pry = sort_alterations(df_pry_A, df_pry_B)\n",
    "    df_rel = sort_alterations(df_rel_A, df_rel_B)\n",
    "\n",
    "    # get general name of band\n",
    "    df_pry[\"G_BAND_L\"] = df_pry[\"BAND_L\"].apply(lambda x: x.split('.')[0] if '.' in x else x)\n",
    "    df_pry[\"G_BAND_R\"] = df_pry[\"BAND_R\"].apply(lambda x: x.split('.')[0] if '.' in x else x)\n",
    "\n",
    "    df_rel[\"G_BAND_L\"] = df_rel[\"BAND_L\"].apply(lambda x: x.split('.')[0] if '.' in x else x)\n",
    "    df_rel[\"G_BAND_R\"] = df_rel[\"BAND_R\"].apply(lambda x: x.split('.')[0] if '.' in x else x)\n",
    "\n",
    "    \n",
    "    if df_pry.empty == False:\n",
    "        # get known alterations\n",
    "        df_pry['Variant'] = df_pry.apply(lambda x: \"t({};{})({};{})\".format(x['CHROM_L'], \n",
    "                                                                           x['CHROM_R'],\n",
    "                                                                           x['G_BAND_L'],\n",
    "                                                                           x['G_BAND_R']), axis=1)\n",
    "        df_pry_known = df_pry[df_pry['Variant'].isin(known_transloc['Variant'])]\n",
    "        # other transloc found\n",
    "        df_pry_others = df_pry[~df_pry['Variant'].isin(known_transloc['Variant'])]\n",
    "    else:\n",
    "        df_pry_known = pd.DataFrame(columns=['BAND_L', 'BAND_R', 'CHROM_L', 'CHROM_R', 'END_L', 'END_R', 'ID',\n",
    "       'START_L', 'START_R', 'STRAND_L', 'STRAND_R', 'G_BAND_L', 'G_BAND_R','Variant'])\n",
    "        \n",
    "    if df_rel.empty == False:\n",
    "        # get known alterations\n",
    "        df_rel['Variant'] = df_rel.apply(lambda x: \"t({};{})({};{})\".format(x['CHROM_L'], \n",
    "                                                                            x['CHROM_R'],\n",
    "                                                                            x['G_BAND_L'],\n",
    "                                                                            x['G_BAND_R']), axis=1)\n",
    "        df_rel_known = df_rel[df_rel['Variant'].isin(known_transloc['Variant'])]\n",
    "        # other transloc found\n",
    "        df_rel_others = df_rel[~df_rel['Variant'].isin(known_transloc['Variant'])]\n",
    "    else:\n",
    "        df_rel_known = pd.DataFrame(columns=['BAND_L', 'BAND_R', 'CHROM_L', 'CHROM_R', 'END_L', 'END_R', 'ID',\n",
    "       'START_L', 'START_R', 'STRAND_L', 'STRAND_R', 'G_BAND_L', 'G_BAND_R','Variant'])\n",
    "\n",
    "    shared, private_pry, private_rel = get_three_branches(df_pry_known, df_rel_known)\n",
    "\n",
    "    df_pry_known['subset'] = df_pry_known['Variant'].apply(lambda x: 'shared' if x in shared else 'private_primary')\n",
    "    df_rel_known = df_rel_known[~df_rel_known['Variant'].isin(shared)]\n",
    "    df_rel_known['subset'] = 'private_relapse'\n",
    "    df_pry_known['PATIENT'] = pat\n",
    "    df_rel_known['PATIENT'] = pat\n",
    "\n",
    "    df_pry_known = df_pry_known.merge(known_transloc[['Variant', 'SYMBOL']], how='left', on='Variant')\n",
    "    df_rel_known = df_rel_known.merge(known_transloc[['Variant', 'SYMBOL']], how='left', on='Variant')\n",
    "\n",
    "    dff_known = dff_known.append(df_pry_known, ignore_index=True, sort=False)\n",
    "    dff_known = dff_known.append(df_rel_known, ignore_index=True, sort=False)\n",
    "\n",
    "    shared, private_pry, private_rel = get_three_branches(df_pry_others, df_rel_others)\n",
    "\n",
    "    df_pry_others['subset'] = df_pry_others['Variant'].apply(lambda x: 'shared' if x in shared else 'private_primary')\n",
    "    df_rel_others = df_rel_others[~df_rel_others['Variant'].isin(shared)]\n",
    "    df_rel_others['subset'] = 'private_relapse'\n",
    "    df_pry_others['PATIENT'] = pat\n",
    "    df_rel_others['PATIENT'] = pat\n",
    "\n",
    "    dff_others = dff_others.append(df_pry_others, ignore_index=True, sort=False)\n",
    "    dff_others = dff_others.append(df_rel_others, ignore_index=True, sort=False)"
   ]
  },
  {
   "cell_type": "markdown",
   "metadata": {},
   "source": [
    "We have manually checked all the top recurrent ones in the BAM. Mapping information reveals no clear translocation. We have perfomed a BLAT of some of the regions of the BNDs in the UCSC and some of them are  Alu regions or mappable to many parts of the genome. "
   ]
  },
  {
   "cell_type": "code",
   "execution_count": null,
   "metadata": {
    "scrolled": true
   },
   "outputs": [],
   "source": [
    "print(len(dff_others[['Variant', 'subset','PATIENT']]))\n",
    "test = dff_others[['Variant', 'subset','PATIENT']].drop_duplicates()\n",
    "print(len(test))"
   ]
  },
  {
   "cell_type": "code",
   "execution_count": null,
   "metadata": {},
   "outputs": [],
   "source": [
    "test[['Variant', 'PATIENT']].groupby('Variant').count().sort_values('PATIENT',ascending=False)"
   ]
  },
  {
   "cell_type": "code",
   "execution_count": null,
   "metadata": {},
   "outputs": [],
   "source": [
    "dff_others[dff_others['Variant'] == 't(X;Y)(p22;q11)']"
   ]
  },
  {
   "cell_type": "code",
   "execution_count": null,
   "metadata": {},
   "outputs": [],
   "source": [
    "test[test['Variant'] == 't(4;8)(q32;p11)']"
   ]
  },
  {
   "cell_type": "code",
   "execution_count": null,
   "metadata": {},
   "outputs": [],
   "source": [
    "dff_others[dff_others['Variant'] == 't(4;8)(q32;p11)']"
   ]
  },
  {
   "cell_type": "code",
   "execution_count": null,
   "metadata": {},
   "outputs": [],
   "source": [
    "test[test['Variant'] == 't(X;2)(q28;p21)']"
   ]
  },
  {
   "cell_type": "code",
   "execution_count": null,
   "metadata": {},
   "outputs": [],
   "source": [
    "test[test['Variant'] == 't(6;14)(p22;q32)']"
   ]
  },
  {
   "cell_type": "code",
   "execution_count": null,
   "metadata": {},
   "outputs": [],
   "source": [
    "test[test['Variant'] == 't(6;16)(q16;p13)']"
   ]
  },
  {
   "cell_type": "code",
   "execution_count": null,
   "metadata": {},
   "outputs": [],
   "source": [
    "test[test['Variant'] == 't(6;18)(q14;q22)']"
   ]
  },
  {
   "cell_type": "code",
   "execution_count": null,
   "metadata": {},
   "outputs": [],
   "source": [
    "test[test['Variant'] == 't(1;11)(q42;q12)']"
   ]
  },
  {
   "cell_type": "code",
   "execution_count": null,
   "metadata": {
    "collapsed": true
   },
   "outputs": [],
   "source": [
    "dff_others[dff_others['Variant'] == 't(6;16)(q16;p13)']"
   ]
  },
  {
   "cell_type": "code",
   "execution_count": null,
   "metadata": {},
   "outputs": [],
   "source": [
    "dff_known"
   ]
  },
  {
   "cell_type": "code",
   "execution_count": null,
   "metadata": {
    "collapsed": true
   },
   "outputs": [],
   "source": [
    "dff_known.to_csv(os.path.join(dire_out,\"bnd_known.tsv\", sep='\\t', index=False)"
   ]
  },
  {
   "cell_type": "code",
   "execution_count": null,
   "metadata": {
    "collapsed": true
   },
   "outputs": [],
   "source": [
    "dff_others.to_csv(os.path.join(dire_out,\"bnd_recurrent.tsv\"), sep='\\t', index=False)"
   ]
  },
  {
   "cell_type": "markdown",
   "metadata": {},
   "source": [
    "### INVERSIONS"
   ]
  },
  {
   "cell_type": "markdown",
   "metadata": {},
   "source": [
    "All inversions reported by Delly are within same cytoband and do not match to the known driver ones of the literature"
   ]
  },
  {
   "cell_type": "code",
   "execution_count": null,
   "metadata": {
    "scrolled": true
   },
   "outputs": [],
   "source": [
    "known_inv = pd.read_csv(\"../ext_files/literature/sv_inv_lite.tsv\", sep='\\t')\n",
    "known_inv['Variant'] = known_inv.apply(lambda x: \"({});({})\".format(x['CHROM'], x['BAND_L']+x['BAND_R']), axis=1)\n",
    "known_inv.head()"
   ]
  },
  {
   "cell_type": "code",
   "execution_count": null,
   "metadata": {
    "scrolled": true
   },
   "outputs": [],
   "source": [
    "dire_in = \"\" # delly results\n",
    "dff_invs = process_other_sv('inv', dire_in)"
   ]
  },
  {
   "cell_type": "markdown",
   "metadata": {},
   "source": [
    "NO KNOWN INVERSION FOUND"
   ]
  },
  {
   "cell_type": "markdown",
   "metadata": {},
   "source": [
    "### DUPLICATIONS"
   ]
  },
  {
   "cell_type": "markdown",
   "metadata": {},
   "source": [
    "known duplication in MYB 6q23 doi: 10.1182/blood-2016-10-706465 \n",
    "\n",
    "Coordinates not mapping close to any known gene either"
   ]
  },
  {
   "cell_type": "code",
   "execution_count": null,
   "metadata": {
    "scrolled": true
   },
   "outputs": [],
   "source": [
    "dire_in = \"\" # delly results\n",
    "dff_dups = process_other_sv('dup',dire_in)"
   ]
  },
  {
   "cell_type": "code",
   "execution_count": null,
   "metadata": {},
   "outputs": [],
   "source": [
    "dff_dups[(dff_dups['CHROM_A'] == '6') & (dff_dups['alt_band_A'].str.contains('q23'))] # no MYB duplication"
   ]
  },
  {
   "cell_type": "code",
   "execution_count": null,
   "metadata": {},
   "outputs": [],
   "source": [
    "dff_dups[(dff_dups['CHROM_A'] == '6') & (dff_dups['alt_band_B'].str.contains('q23'))] # MYB duplication"
   ]
  }
 ],
 "metadata": {
  "kernelspec": {
   "display_name": "Python [conda env:noncoding]",
   "language": "python",
   "name": "conda-env-noncoding-py"
  },
  "language_info": {
   "codemirror_mode": {
    "name": "ipython",
    "version": 3
   },
   "file_extension": ".py",
   "mimetype": "text/x-python",
   "name": "python",
   "nbconvert_exporter": "python",
   "pygments_lexer": "ipython3",
   "version": "3.5.6"
  }
 },
 "nbformat": 4,
 "nbformat_minor": 2
}
