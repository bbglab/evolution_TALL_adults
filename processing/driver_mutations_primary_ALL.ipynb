{
 "cells": [
  {
   "cell_type": "markdown",
   "metadata": {},
   "source": [
    "This notebook provides a list of candidate coding driver mutations of the cancer gene's list from the run of IntoGen. It also performs some test to compare BALL and TALL frequency of mutated genes. The list of mutations is used in Figure 1d, Additional file 1 Figure S2.\n",
    "\n",
    "This piece of code relies on a workspace directory structure such as \n",
    "```\n",
    "cohort/\n",
    "\tpatientID/\n",
    "\t\tDxTumorID_vs_normalID/\n",
    "\t\tReTumorID_vs_normalID/ (sometimes)\n",
    "\n",
    "```\n",
    " patientID, DxTumorID etc can be found in ../ext_files/all_cohort_clinical_groups.tsv\n",
    " \n",
    "Be aware that the filtered mafs with clonal classification and joined mutations after running the scripts in ```filter/```  have the following file name: ```TumorID_vs_normalID + _strelka_uniq_all_anno_vep92_categories_filt_snps_cluster.maf``` \n",
    ".This file name is used in the following code."
   ]
  },
  {
   "cell_type": "code",
   "execution_count": null,
   "metadata": {
    "collapsed": true
   },
   "outputs": [],
   "source": [
    "import pandas as pd\n",
    "import os\n",
    "import numpy as np\n",
    "import glob\n",
    "import seaborn\n",
    "from scipy.stats import chi2_contingency\n",
    "from scipy.stats import chi2\n",
    "from aux_data_in_pyvar import pat_dirs\n",
    "from decimal import Decimal\n",
    "\n",
    "pd.set_option('display.max_columns', None)\n",
    "pd.set_option('display.max_rows', None)\n",
    "pd.set_option('display.max_colwidth', -1)"
   ]
  },
  {
   "cell_type": "markdown",
   "metadata": {},
   "source": [
    "#### Read clinical data"
   ]
  },
  {
   "cell_type": "code",
   "execution_count": null,
   "metadata": {
    "collapsed": true
   },
   "outputs": [],
   "source": [
    "## WGS from ST JUDE and ADULT FROM TALL\n",
    "\n",
    "df_info = pd.read_csv(\"../ext_files/all_cohort_clinical_groups.tsv\", sep='\\t')\n",
    "df_info['SUBTYPE'] = df_info['SUBTYPE'].str.replace(\" \", \"_\")\n",
    "df_info['PATIENT'] = df_info.apply(lambda x: 'oshima_pat_'+ str(x['PATIENT']) if x['COHORT'] == 'PEDIATRIC TALL WXS (Oshima et al., 2016; PNAS)' else x['PATIENT'], axis=1)\n",
    "df_info['PATIENT'] = df_info.apply(lambda x: 'oshima_pat_'+ str(x['PATIENT']) if x['COHORT'] == 'PEDIATRIC BALL WXS (Oshima et al., 2016; PNAS)' else x['PATIENT'], axis=1)\n",
    "df_info = df_info[df_info['SUBTYPE'] != 'Other']"
   ]
  },
  {
   "cell_type": "markdown",
   "metadata": {},
   "source": [
    "#### Read cancer genes of interest"
   ]
  },
  {
   "cell_type": "code",
   "execution_count": null,
   "metadata": {
    "collapsed": true
   },
   "outputs": [],
   "source": [
    "## cancer genes detected in mutations\n",
    "\n",
    "drivers = pd.read_csv(\"cancer_genes_ALL.csv\", sep='\\t')# results in Additional file 2 Table S3\n",
    "drivers.head()"
   ]
  },
  {
   "cell_type": "markdown",
   "metadata": {},
   "source": [
    "#### Read maf files with mutations and get the protein affecting mutations of the list of cancer genes"
   ]
  },
  {
   "cell_type": "code",
   "execution_count": null,
   "metadata": {
    "collapsed": true
   },
   "outputs": [],
   "source": [
    "## protein altering consequence types from VEP\n",
    "\n",
    "damaging_conseq = ['transcript_ablation',\n",
    "'splice_acceptor_variant',\n",
    "'splice_donor_variant',\n",
    "'stop_gained',\n",
    "'frameshift_variant',\n",
    "'stop_lost',\n",
    "'start_lost',\n",
    "'transcript_amplification',\n",
    "'inframe_insertion',\n",
    "'inframe_deletion',\n",
    "'missense_variant',\n",
    "'protein_altering_variant',\n",
    "'splice_region_variant',\n",
    "'incomplete_terminal_codon_variant',\n",
    "'start_retained_variant',\n",
    "'stop_retained_variant']"
   ]
  },
  {
   "cell_type": "code",
   "execution_count": null,
   "metadata": {
    "collapsed": true
   },
   "outputs": [],
   "source": [
    "#ADULT MUTATIONS\n",
    "\n",
    "df_all = pd.DataFrame()\n",
    "\n",
    "for com in df_info[df_info['SUBTYPE'].str.contains(\"Adult\")]['COMPARISON']:\n",
    "    pat_info = df_info[df_info['COMPARISON'] == com].reset_index(drop=True)\n",
    "    df = pd.read_csv(os.path.join(pat_dirs[pat_info.loc[0,'PATIENT']], pat_info.loc[0,'PATIENT'], com, com+'_strelka_uniq_all_anno_vep92_categories_filt_snps_cluster.maf'), sep='\\t')\n",
    "    df = df[df['Consequence'].isin(damaging_conseq)]\n",
    "    df = df[df['SYMBOL'].isin(drivers['SYMBOL'].unique())]\n",
    "    df['COMPARISON'] = com\n",
    "    df['AA_change'] = df.apply(lambda x: x['Amino_acids'].split('/')[0]+x['Protein_position']+x['Amino_acids'].split('/')[1] if \"/\" in x['Amino_acids'] else x['Protein_position']+x['Amino_acids'], axis=1)\n",
    "    df = df[['#CHROM', 'POS', 'REF', 'ALT', 'Consequence', 'AA_change', 'SYMBOL','COMPARISON']].merge(pat_info, how='left', on='COMPARISON')\n",
    "    df = df.merge(drivers[['SYMBOL', 'ROLE', 'PATHWAY']].drop_duplicates(), how='left', on='SYMBOL')\n",
    "    df = df[['#CHROM', 'POS','REF','ALT','SYMBOL', 'Consequence','AA_change', 'COMPARISON', \n",
    "             'PATIENT', 'ROLE', 'STAGE', 'AGE_RANGE', 'TYPE','SUBTYPE','SUBTYPE_LABEL', 'PATHWAY', 'COHORT']]\n",
    "    df.sort_values('AGE_RANGE', inplace=True, ascending=False)\n",
    "    df_all = df_all.append(df, ignore_index=True, sort=False)"
   ]
  },
  {
   "cell_type": "code",
   "execution_count": null,
   "metadata": {
    "collapsed": true
   },
   "outputs": [],
   "source": [
    "order_subtypes = ['TALL_Pediatric_pry','DUX4-ERG', 'Hypodiploid',\n",
    "                 'Hyperdiploid', 'PHALL', 'Ph-like', 'iAMP21', 'Infant_MLL-R']\n",
    "\n",
    "info_pedia = df_info[df_info['SUBTYPE'].isin(order_subtypes)]"
   ]
  },
  {
   "cell_type": "code",
   "execution_count": null,
   "metadata": {
    "collapsed": true
   },
   "outputs": [],
   "source": [
    "## PEDIATRIC COHORTS STJUDE\n",
    "\n",
    "input_files_path = \"\" # filtered MAF files path\n",
    "\n",
    "for i,rw in info_pedia.iterrows():\n",
    "    try:\n",
    "        df = pd.read_csv(glob.glob(os.path.join(input_files_path, '*', \n",
    "                                'maf_calls', rw['PATIENT'], \n",
    "                                rw['COMPARISON'], '*_strelka_uniq_all_anno_vep92_categories_filt_cluster.maf'))[0], sep='\\t')\n",
    "        pat_info = info_pedia[info_pedia['COMPARISON'] == rw['COMPARISON']].reset_index(drop=True)\n",
    "        df = df[df['Consequence'].isin(damaging_conseq)]\n",
    "        df = df[df['SYMBOL'].isin(drivers['SYMBOL'].unique())]\n",
    "        if df.empty == False:\n",
    "            df['COMPARISON'] = rw['COMPARISON']\n",
    "            df['AA_change'] = df.apply(lambda x: x['Amino_acids'].split('/')[0]+x['Protein_position']+x['Amino_acids'].split('/')[1] if \"/\" in x['Amino_acids'] else x['Protein_position']+x['Amino_acids'], axis=1)\n",
    "            df = df[['#CHROM', 'POS', 'REF', 'ALT', 'Consequence', 'AA_change', 'SYMBOL','COMPARISON']].merge(pat_info, how='left', on='COMPARISON')\n",
    "            df = df.merge(drivers[['SYMBOL', 'ROLE', 'PATHWAY']].drop_duplicates(), how='left', on='SYMBOL')\n",
    "            df = df[['#CHROM', 'POS','REF','ALT','SYMBOL', 'Consequence','AA_change', 'COMPARISON', \n",
    "                     'PATIENT', 'ROLE', 'STAGE', 'AGE_RANGE', 'TYPE','SUBTYPE', 'SUBTYPE_LABEL','PATHWAY', 'COHORT']]\n",
    "            df.sort_values('AGE_RANGE', inplace=True, ascending=False)\n",
    "            df_all = df_all.append(df, ignore_index=True, sort=False)\n",
    "    except IndexError:\n",
    "        print(\"{} {}\".format(rw['PATIENT'], rw['COMPARISON']))\n",
    "    "
   ]
  },
  {
   "cell_type": "code",
   "execution_count": null,
   "metadata": {
    "collapsed": true
   },
   "outputs": [],
   "source": [
    "## OSHIMA 2015 PEDIATRIC WXS \n",
    "\n",
    "dire_mafs = \"\" # filtered MAF files path\n",
    "\n",
    "for com in df_info[df_info['SUBTYPE'].str.contains(\"Pediatric_WXS\")]['COMPARISON']:\n",
    "    pat_info = df_info[df_info['COMPARISON'] == com].reset_index(drop=True)\n",
    "    try:\n",
    "        df = pd.read_csv(os.path.join(dire_mafs, pat_info.loc[0,'PATIENT'], com, com+'_strelka_uniq_all_anno_vep92_categories_filt_snps_cluster.maf'), sep='\\t')\n",
    "        df = df[df['Consequence'].isin(damaging_conseq)]\n",
    "        df = df[df['SYMBOL'].isin(drivers['SYMBOL'].unique())]\n",
    "        df['COMPARISON'] = com\n",
    "        if df.empty == False:\n",
    "            df['AA_change'] = df.apply(lambda x: x['Amino_acids'].split('/')[0]+x['Protein_position']+x['Amino_acids'].split('/')[1] if \"/\" in x['Amino_acids'] else x['Protein_position']+x['Amino_acids'], axis=1)\n",
    "            df = df[['#CHROM', 'POS', 'REF', 'ALT', 'Consequence', 'AA_change', 'SYMBOL','COMPARISON']].merge(pat_info, how='left', on='COMPARISON')\n",
    "            df = df.merge(drivers[['SYMBOL', 'ROLE', 'PATHWAY']].drop_duplicates(), how='left', on='SYMBOL')\n",
    "            df = df[['#CHROM', 'POS','REF','ALT','SYMBOL', 'Consequence','AA_change', 'COMPARISON', \n",
    "                     'PATIENT', 'ROLE', 'STAGE', 'AGE_RANGE', 'TYPE','SUBTYPE','SUBTYPE_LABEL', 'PATHWAY', 'COHORT']]\n",
    "            df.sort_values('AGE_RANGE', inplace=True, ascending=False)\n",
    "            df_all = df_all.append(df, ignore_index=True, sort=False)\n",
    "        else:\n",
    "            print(\"Empty df {} {}\".format(pat_info.loc[0,'PATIENT'], pat_info.loc[0,'COMPARISON']))\n",
    "    except FileNotFoundError:\n",
    "        print(\"No file {} {}\".format(pat_info.loc[0,'PATIENT'], pat_info.loc[0,'COMPARISON']))"
   ]
  },
  {
   "cell_type": "code",
   "execution_count": null,
   "metadata": {
    "collapsed": true
   },
   "outputs": [],
   "source": [
    "## BLOOD PAPER CHINESE COHORT LI ET AL 2020 \n",
    "# Go to the supplementary materials of Li et al., 2020 PMID: 31697823 and make a dataframe with the clinical information\n",
    "# like the one in Additional file 2 Table S2 of the paper.\n",
    "df_info_chinese = pd.read_csv(\"\", sep='\\t')  \n",
    "df_info_chinese_TALL = df_info_chinese[df_info_chinese['TYPE'] == 'TALL']\n",
    "print(len(df_info_chinese_TALL['PATIENT'].unique()))\n",
    "\n",
    "damaging_conseq_chinese = ['missense', 'proteinIns', 'frameshift', \n",
    "'nonsense', 'splice_region', 'splice','proteinDel','insertion']\n",
    "\n",
    "dire_mafs = \"\"  # filtered MAF files path\n",
    "\n",
    "for com in df_info_chinese_TALL['COMPARISON']:\n",
    "    pat_info = df_info_chinese_TALL[df_info_chinese_TALL['COMPARISON'] == com].reset_index(drop=True)\n",
    "    try:\n",
    "        df = pd.read_csv(os.path.join(dire_mafs, pat_info.loc[0,'PATIENT'], com, 'mutations_supp.maf'), sep='\\t')\n",
    "        df = df[df['Class'].isin(damaging_conseq_chinese)]\n",
    "        df = df[df['Gene'].isin(drivers['SYMBOL'].unique())]\n",
    "        if len(df) != 0: \n",
    "            df['COMPARISON'] = com\n",
    "            df['AA_change'] = df['AAChange']\n",
    "            df['SYMBOL'] = df['Gene']\n",
    "            df['Consequence'] = df['Class']\n",
    "            df = df[['#CHROM', 'POS', 'REF', 'ALT', 'Consequence', 'AA_change', 'SYMBOL','COMPARISON']].merge(pat_info, how='left', on='COMPARISON')\n",
    "            df = df.merge(drivers[['SYMBOL', 'ROLE', 'PATHWAY']].drop_duplicates(), how='left', on='SYMBOL')\n",
    "            df = df[['#CHROM', 'POS','REF','ALT','SYMBOL', 'Consequence','AA_change', 'COMPARISON', \n",
    "                     'PATIENT', 'ROLE', 'STAGE', 'AGE_RANGE', 'TYPE','SUBTYPE', 'PATHWAY', 'COHORT']]\n",
    "            df.sort_values('AGE_RANGE', inplace=True, ascending=False)\n",
    "            df_all = df_all.append(df, ignore_index=True, sort=False)\n",
    "    except FileNotFoundError:\n",
    "        print(os.path.join(dire_mafs, df_info_chinese_TALL.loc[0,'PATIENT'], com))"
   ]
  },
  {
   "cell_type": "code",
   "execution_count": null,
   "metadata": {
    "collapsed": true
   },
   "outputs": [],
   "source": [
    "out_path = \"\" # path to write the results\n",
    "df_all.to_csv(os.path.join(out_path, \"candidate_driver_muts.tsv\", sep='\\t', index=False))"
   ]
  },
  {
   "cell_type": "markdown",
   "metadata": {},
   "source": [
    "#### perform some test to see differences between BALL and TALL cohorts "
   ]
  },
  {
   "cell_type": "code",
   "execution_count": null,
   "metadata": {
    "collapsed": true
   },
   "outputs": [],
   "source": [
    "df_info = df_all[(df_all['STAGE'] == 'primary') & (df_all['COHORT'] !='PEDIATRIC ALL (Li et al., 2019, Blood)')][['PATIENT', 'SUBTYPE_LABEL', 'TYPE']].drop_duplicates()\n",
    "df_info"
   ]
  },
  {
   "cell_type": "code",
   "execution_count": null,
   "metadata": {
    "collapsed": true
   },
   "outputs": [],
   "source": [
    "# Define cancer gene of interest\n",
    "cancer_gene = 'NOTCH1'\n",
    "\n",
    "test_gene = df_info.merge(df_all[df_all['SYMBOL'] == cancer_gene].drop_duplicates()[['SYMBOL', 'PATIENT']].drop_duplicates(), \n",
    "                              how='left', on='PATIENT')\n",
    "test_gene['Mutated'] = test_gene.apply(lambda x: True if type(x['SYMBOL']) == str else False, axis=1)"
   ]
  },
  {
   "cell_type": "code",
   "execution_count": null,
   "metadata": {
    "collapsed": true
   },
   "outputs": [],
   "source": [
    "# create cont table\n",
    "contingency_table = pd.crosstab(index=test_gene['Mutated'], columns=test_gene['TYPE'])\n",
    "contingency_table"
   ]
  },
  {
   "cell_type": "code",
   "execution_count": null,
   "metadata": {
    "collapsed": true
   },
   "outputs": [],
   "source": [
    "stat_chi2, p, dof, expected = chi2_contingency(contingency_table, correction=False)\n",
    "print('%.2E' % Decimal(p))\n",
    "output = \"{:.3f}\".format(p)\n",
    "print(output)"
   ]
  },
  {
   "cell_type": "code",
   "execution_count": null,
   "metadata": {
    "collapsed": true
   },
   "outputs": [],
   "source": [
    "# interpret test-statistic\n",
    "prob = 0.90\n",
    "critical = chi2.ppf(prob, dof)\n",
    "if abs(stat_chi2) >= critical:\n",
    "    print('Dependent (reject H0)')\n",
    "else:\n",
    "    print('Independent (fail to reject H0)')"
   ]
  },
  {
   "cell_type": "code",
   "execution_count": null,
   "metadata": {
    "collapsed": true
   },
   "outputs": [],
   "source": [
    "# interpret test-statistic\n",
    "prob = 0.95\n",
    "critical = chi2.ppf(prob, dof)\n",
    "if abs(stat_chi2) >= critical:\n",
    "    print('Dependent (reject H0)')\n",
    "else:\n",
    "    print('Independent (fail to reject H0)')"
   ]
  },
  {
   "cell_type": "code",
   "execution_count": null,
   "metadata": {
    "collapsed": true
   },
   "outputs": [],
   "source": []
  }
 ],
 "metadata": {
  "kernelspec": {
   "display_name": "Python [conda env:filter_pipeline]",
   "language": "python",
   "name": "conda-env-filter_pipeline-py"
  },
  "language_info": {
   "codemirror_mode": {
    "name": "ipython",
    "version": 3
   },
   "file_extension": ".py",
   "mimetype": "text/x-python",
   "name": "python",
   "nbconvert_exporter": "python",
   "pygments_lexer": "ipython3",
   "version": "3.7.6"
  }
 },
 "nbformat": 4,
 "nbformat_minor": 2
}
