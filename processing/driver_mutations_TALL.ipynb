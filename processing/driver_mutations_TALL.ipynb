{
 "cells": [
  {
   "cell_type": "markdown",
   "metadata": {},
   "source": [
    "This notebook provides a list of the candidate driver mutations in coding regions in TALL separating subsets as privates (primary and relapse) and shared. It takes the list ot mutations outputted by driver_mutations_primary_ALL.ipynb. The list is used in Figure 2b of the paper and in Additional file 1 Figure S4  Additional file 2 Table S5 "
   ]
  },
  {
   "cell_type": "code",
   "execution_count": null,
   "metadata": {
    "collapsed": true
   },
   "outputs": [],
   "source": [
    "import os\n",
    "import pandas as pd\n",
    "import numpy as np\n",
    "from aux_functions import get_three_subsets"
   ]
  },
  {
   "cell_type": "code",
   "execution_count": null,
   "metadata": {
    "collapsed": true
   },
   "outputs": [],
   "source": [
    "# FUNCTIONS\n",
    "\n",
    "def convert_set_2_df(set_obj):\n",
    "    df = pd.DataFrame()\n",
    "\n",
    "    for variant in set_obj:\n",
    "        info = variant.split(\"_\")\n",
    "        chr_ = info[0]\n",
    "        pos = info[1]\n",
    "        ref = info[2]\n",
    "        alt = info[3]\n",
    "        df = df.append({\"#CHROM\": str(chr_), \"POS\": int(pos), \"REF\": ref, \"ALT\": alt}, ignore_index=True)\n",
    "    df = df[[\"#CHROM\", \"POS\", \"REF\", \"ALT\"]]\n",
    "    df[[\"POS\"]] = df[[\"POS\"]].astype(int)\n",
    "    df[[\"#CHROM\", \"REF\", \"ALT\"]] = df[[\"#CHROM\", \"REF\", \"ALT\"]].astype(str)\n",
    "    return df"
   ]
  },
  {
   "cell_type": "code",
   "execution_count": null,
   "metadata": {
    "collapsed": true
   },
   "outputs": [],
   "source": [
    "tall_cohorts = ['PEDIATRIC TALL WXS (Oshima et al., 2016; PNAS)',\n",
    "'ADULT TALL AECC PROJECT',\n",
    "'PEDIATRIC ALL (Li et al., 2019, Blood)'] #TALL cohorts\n",
    "\n",
    "# candidate_driver_muts.tsv input can be found Additional file 1 Table S5 \n",
    "# In the additional tables are missing the mutations from Li et al., 2020 Blood. \n",
    "# Those must be added from the supplementary of their paper PMID: 31697823\n",
    "driver_muts = pd.read_csv(\"candidate_driver_muts.tsv\", sep='\\t') \n",
    "\n",
    "driver_muts = driver_muts[driver_muts['COHORT'].isin(tall_cohorts)]\n",
    "driver_muts = driver_muts[driver_muts['TYPE'] == 'TALL']"
   ]
  },
  {
   "cell_type": "code",
   "execution_count": null,
   "metadata": {
    "collapsed": true
   },
   "outputs": [],
   "source": [
    "driver_muts['COHORT'].unique()"
   ]
  },
  {
   "cell_type": "code",
   "execution_count": null,
   "metadata": {
    "collapsed": true
   },
   "outputs": [],
   "source": [
    "# DEFINE SUBSETS\n",
    "\n",
    "grps_patient = driver_muts.groupby(\"PATIENT\")\n",
    "candidate_drivers_mutations = pd.DataFrame()\n",
    "\n",
    "for g in grps_patient.groups:\n",
    "    \n",
    "    df_pat = grps_patient.get_group(g)\n",
    "    df_pry = df_pat[df_pat['STAGE'] == 'primary']\n",
    "    df_rel = df_pat[df_pat['STAGE'] == 'relapse']\n",
    "    \n",
    "    if df_pry.empty == False:\n",
    "        df_pry['Variant'] = df_pry.apply(lambda x: x['#CHROM']+'_'+str(x['POS'])+'_'+x['REF']+'_'+x['ALT'], axis=1)\n",
    "    else:\n",
    "        df_pry['Variant'] = np.nan\n",
    "    if df_rel.empty == False:\n",
    "        df_rel['Variant'] = df_rel.apply(lambda x: x['#CHROM']+'_'+str(x['POS'])+'_'+x['REF']+'_'+x['ALT'], axis=1)\n",
    "    else:\n",
    "        df_rel['Variant'] = np.nan\n",
    "\n",
    "    # make subsets\n",
    "    shared, private_pry, private_rel = get_three_subsets(df_pry, df_rel)\n",
    "\n",
    "    # primary\n",
    "    if len(private_pry) != 0:\n",
    "        private_pry_df = convert_set_2_df(private_pry)\n",
    "        private_pry_df = private_pry_df.merge(df_pry, on=[\"#CHROM\", \"POS\", \"REF\", \"ALT\"], how='left')\n",
    "        private_pry_df['subset'] = 'private_primary'\n",
    "        candidate_drivers_mutations = candidate_drivers_mutations.append(private_pry_df, ignore_index=True, sort=False)\n",
    "\n",
    "    # relapse\n",
    "    if len(private_rel) != 0:\n",
    "        private_rel_df = convert_set_2_df(private_rel)\n",
    "        private_rel_df = private_rel_df.merge(df_rel, on=[\"#CHROM\", \"POS\", \"REF\", \"ALT\"], how='left')\n",
    "        private_rel_df['subset'] = 'private_relapse'\n",
    "        candidate_drivers_mutations = candidate_drivers_mutations.append(private_rel_df, ignore_index=True, sort=False)\n",
    "\n",
    "    # shared (trunk)\n",
    "    if len(shared) != 0:\n",
    "        shared_df = convert_set_2_df(shared)\n",
    "        shared_df = shared_df.merge(df_pry, on=[\"#CHROM\", \"POS\", \"REF\", \"ALT\"], how='left')\n",
    "        shared_df['subset'] = 'shared'\n",
    "        candidate_drivers_mutations = candidate_drivers_mutations.append(shared_df, ignore_index=True, sort=False)\n"
   ]
  },
  {
   "cell_type": "code",
   "execution_count": null,
   "metadata": {
    "collapsed": true
   },
   "outputs": [],
   "source": [
    "len(candidate_drivers_mutations)"
   ]
  },
  {
   "cell_type": "code",
   "execution_count": null,
   "metadata": {
    "collapsed": true
   },
   "outputs": [],
   "source": [
    "out_path = # path to write the results\n",
    "candidate_drivers_mutations.to_csv(os.path.join(out_path, \"driver_muts_TALL_subsets.tsv\"), sep='\\t', index=False)"
   ]
  }
 ],
 "metadata": {
  "kernelspec": {
   "display_name": "Python [conda env:filter_pipeline]",
   "language": "python",
   "name": "conda-env-filter_pipeline-py"
  },
  "language_info": {
   "codemirror_mode": {
    "name": "ipython",
    "version": 3
   },
   "file_extension": ".py",
   "mimetype": "text/x-python",
   "name": "python",
   "nbconvert_exporter": "python",
   "pygments_lexer": "ipython3",
   "version": "3.7.6"
  }
 },
 "nbformat": 4,
 "nbformat_minor": 2
}
