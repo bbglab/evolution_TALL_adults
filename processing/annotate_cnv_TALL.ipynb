{
 "cells": [
  {
   "cell_type": "markdown",
   "metadata": {},
   "source": [
    "This notebook gets a list of candidate driver CNV for each cohort. It first annotates the variants with cytobands and separates known and candidate drivers. "
   ]
  },
  {
   "cell_type": "code",
   "execution_count": null,
   "metadata": {
    "collapsed": true
   },
   "outputs": [],
   "source": [
    "import sys, os\n",
    "os.environ[\"PATH\"] = os.path.dirname(sys.executable) + os.pathsep + os.environ[\"PATH\"]\n",
    "import pandas as pd\n",
    "import numpy as np\n",
    "import glob\n",
    "from collections import defaultdict\n",
    "import pybedtools\n",
    "\n",
    "pd.set_option('display.max_columns', None)\n",
    "pd.set_option('display.max_rows', None)\n",
    "pd.set_option('display.max_colwidth', -1)"
   ]
  },
  {
   "cell_type": "code",
   "execution_count": null,
   "metadata": {
    "collapsed": true
   },
   "outputs": [],
   "source": [
    "## FUNCTIONS\n",
    "\n",
    "def get_info(df_subset,df_bands, dictionary, df_final):\n",
    "    for i, rw in df_subset.iterrows():\n",
    "        df_rw = pd.DataFrame(rw)\n",
    "        df_rw = df_rw.T\n",
    "\n",
    "        df_rw['chrom'] = df_rw['chrom'].astype(str)\n",
    "        df_rw[['start', 'end']] = df_rw[['start', 'end']].astype(int)\n",
    "\n",
    "        cnv = pybedtools.BedTool.from_dataframe(df_rw[['chrom', 'start', 'end']])\n",
    "        bands = pybedtools.BedTool.from_dataframe(df_bands[['chrom_band', 'start_band', 'end_band']])\n",
    "        intersection = cnv.intersect(bands, loj = True)\n",
    "        cnv_annotated = pd.read_table(intersection.fn, names=['chrom', 'start', 'end',\n",
    "                                                 'chrom_band', 'start_band', 'end_band'])\n",
    "\n",
    "        cnv_annotated[['chrom', 'chrom_band']] = cnv_annotated[['chrom', 'chrom_band']].astype(str)\n",
    "        cnv_annotated[['start', 'end','start_band', 'end_band']] = cnv_annotated[['start', 'end','start_band', 'end_band']].astype(int)\n",
    "        cnv_annotated = cnv_annotated.merge(df_rw, how='left', on=['chrom', 'start', 'end'])\n",
    "        cnv_annotated = cnv_annotated.merge(df_bands, how='left', on=['chrom_band', 'start_band', 'end_band'])\n",
    "\n",
    "        cnv_annotated['genes'] = cnv_annotated.apply(lambda x: dictionary[x['band_name']], axis=1)\n",
    "        df_final = df_final.append(cnv_annotated, sort=False, ignore_index=True) \n",
    "    return df_final\n",
    "\n",
    "def check_lite_knowleadge(rw, lite, other_drivers):\n",
    "    list_known=[]\n",
    "    for i,row in lite.iterrows():\n",
    "        check_band = rw['band_name'].split('.')[0]\n",
    "        if (row['BAND'] == rw['band_name']) and (row['CNV'] == rw['alteration']):\n",
    "            rw['specific_lite_cnv'] = 'known'\n",
    "            list_known.append(row['SYMBOL'])\n",
    "            list_genes_others= list()\n",
    "            for gene in rw['genes']:\n",
    "                if gene in other_drivers['SYMBOL'].tolist():\n",
    "                    list_genes_others.append(gene)\n",
    "            rw['other_known_genes_in_band'] = list_genes_others\n",
    "        elif (row['BAND'] == check_band) and (row['CNV'] == rw['alteration']):\n",
    "            rw['specific_lite_cnv'] = 'known'\n",
    "            list_known.append(row['SYMBOL'])\n",
    "            list_genes_others= list()\n",
    "            for gene in rw['genes']:\n",
    "                if gene in other_drivers['SYMBOL'].tolist():\n",
    "                    list_genes_others.append(gene)\n",
    "            rw['other_known_genes_in_band'] = list_genes_others\n",
    "        else:\n",
    "            do_nothing = 'do_nothing'\n",
    "    print(list_known)\n",
    "    kk = (',').join(list_known)\n",
    "    rw['driver_cnv'] = kk\n",
    "    print(rw['driver_cnv'])\n",
    "    return rw\n",
    "\n",
    "def add_gene_of_interest(rw, drivers):\n",
    "    list_genes = list()\n",
    "    for gene in rw['genes']:\n",
    "        if gene in drivers['SYMBOL'].tolist():\n",
    "            list_genes.append(gene)\n",
    "    genes = (',').join(list_genes)\n",
    "    rw['genes_of_interest'] = genes\n",
    "    return rw"
   ]
  },
  {
   "cell_type": "markdown",
   "metadata": {},
   "source": [
    "#### read manually checked processed results and annotate band and gene affected"
   ]
  },
  {
   "cell_type": "code",
   "execution_count": null,
   "metadata": {
    "collapsed": true
   },
   "outputs": [],
   "source": [
    "dire_in = # directory with the inputs\n",
    "dire_out = # directory to put the results"
   ]
  },
  {
   "cell_type": "code",
   "execution_count": null,
   "metadata": {
    "collapsed": true
   },
   "outputs": [],
   "source": [
    "chroms = [str(x) for x in range(1,23,1)]\n",
    "chroms.extend(\"X\")"
   ]
  },
  {
   "cell_type": "code",
   "execution_count": null,
   "metadata": {
    "collapsed": true
   },
   "outputs": [],
   "source": [
    "# read processed excels\n",
    "cnv_private_pry = pd.read_excel(os.path.join(dire_in, \"private_primary_processed.xlsx\"))\n",
    "cnv_private_rel = pd.read_excel(os.path.join(dire_in, \"private_relapse_processed.xlsx\"))\n",
    "cnv_shared = pd.read_excel(os.path.join(dire_in, \"shared_processed.xlsx\"))"
   ]
  },
  {
   "cell_type": "code",
   "execution_count": null,
   "metadata": {
    "collapsed": true
   },
   "outputs": [],
   "source": [
    "# read cytobands\n",
    "df_bands = pd.read_csv(\"../ext_files/chromosome.band.hg19.txt\",  sep='\\t')\n",
    "df_bands.rename(columns={'#chrom':'chrom_band', 'chromStart':'start_band', 'chromEnd':'end_band'}, inplace=True)\n",
    "df_bands['chrom_band'] = df_bands['chrom_band'].apply(lambda x: x.replace('chr', ''))\n",
    "df_bands['band_name'] = df_bands.apply(lambda x: x['chrom_band']+x['name'], axis=1)"
   ]
  },
  {
   "cell_type": "code",
   "execution_count": null,
   "metadata": {
    "collapsed": true
   },
   "outputs": [],
   "source": [
    "# read genes hg19 of biomart\n",
    "df_genes = pd.read_csv(\"../ext_files/mart_export_grch37.txt\", sep='\\t')\n",
    "df_genes.rename(columns={'Chromosome/scaffold name':'chrom', 'Gene start (bp)':'start_gene', \n",
    "                         'Gene end (bp)':'end_gene', 'Gene name':'symbol', 'Gene stable ID':'ensembl_id'}, \n",
    "                inplace=True)\n",
    "df_genes = df_genes[df_genes['chrom'].isin(chroms)]"
   ]
  },
  {
   "cell_type": "code",
   "execution_count": null,
   "metadata": {
    "collapsed": true
   },
   "outputs": [],
   "source": [
    "# merge them\n",
    "bands = pybedtools.BedTool.from_dataframe(df_bands[['chrom_band', 'start_band', 'end_band']])\n",
    "genes = pybedtools.BedTool.from_dataframe(df_genes[['chrom', 'start_gene', 'end_gene']])\n",
    "result = bands.intersect(genes, loj = True)\n",
    "results = pd.read_table(result.fn, names=[ 'chrom_band', 'start_band', 'end_band',\n",
    "                                          'chrom','start_gene', 'end_gene'])\n",
    "results[['start_gene', 'end_gene', 'start_band', 'end_band']] = results[['start_gene', 'end_gene', 'start_band', 'end_band']].astype(int)\n",
    "results[['chrom', 'chrom_band']] = results[['chrom', 'chrom_band']].astype(str)\n",
    "results = results.merge(df_genes, how='left', on=['chrom', 'start_gene', 'end_gene'])\n",
    "results = results.merge(df_bands, how='left', on=['chrom_band', 'start_band', 'end_band'])"
   ]
  },
  {
   "cell_type": "code",
   "execution_count": null,
   "metadata": {
    "collapsed": true
   },
   "outputs": [],
   "source": [
    "# create dictionary with band name and genes \n",
    "grps = results.groupby(['chrom_band', 'start_band', 'end_band'])\n",
    "\n",
    "dict_band_gene = defaultdict(list)\n",
    "\n",
    "for g in grps.groups:\n",
    "    df = grps.get_group(g)\n",
    "    for i,rw in df.iterrows():\n",
    "        dict_band_gene[rw['chrom_band']+rw['name']].append(rw['symbol']) "
   ]
  },
  {
   "cell_type": "code",
   "execution_count": null,
   "metadata": {
    "collapsed": true
   },
   "outputs": [],
   "source": [
    "# change column data types\n",
    "\n",
    "cnv_private_pry['chrom'] = cnv_private_pry['chrom'].astype(str)\n",
    "cnv_private_rel['chrom'] = cnv_private_rel['chrom'].astype(str) \n",
    "cnv_shared['chrom'] = cnv_shared['chrom'].astype(str)\n",
    "\n",
    "cnv_private_pry[['start', 'end']] = cnv_private_pry[['start', 'end']].astype(int)\n",
    "cnv_private_rel[['start', 'end']] = cnv_private_rel[['start', 'end']].astype(int)\n",
    "cnv_shared[['start', 'end']] = cnv_shared[['start', 'end']].astype(int)"
   ]
  },
  {
   "cell_type": "code",
   "execution_count": null,
   "metadata": {
    "collapsed": true
   },
   "outputs": [],
   "source": [
    "# add band-gene info to the cnv of each subset\n",
    "df_cnv_info = pd.DataFrame()\n",
    "\n",
    "df_cnv_info = get_info(cnv_shared, df_bands, dict_band_gene, df_cnv_info)\n",
    "df_cnv_info = get_info(cnv_private_pry,df_bands, dict_band_gene, df_cnv_info)\n",
    "df_cnv_info = get_info(cnv_private_rel, df_bands, dict_band_gene, df_cnv_info)"
   ]
  },
  {
   "cell_type": "code",
   "execution_count": null,
   "metadata": {
    "collapsed": true,
    "scrolled": true
   },
   "outputs": [],
   "source": [
    "# read lite known cnv in ALL\n",
    "df_lite = pd.read_csv(\"../ext_files/literature/cnv_lite.tsv\", sep='\\t')\n",
    "\n",
    "# read all general cancer genes\n",
    "drivers_muts = pd.read_csv(\"../ext_files/literature/mutations_lite.tsv\", sep='\\t')"
   ]
  },
  {
   "cell_type": "code",
   "execution_count": null,
   "metadata": {},
   "outputs": [],
   "source": [
    "df_lite.head()"
   ]
  },
  {
   "cell_type": "code",
   "execution_count": null,
   "metadata": {
    "collapsed": true
   },
   "outputs": [],
   "source": [
    "df_lite['CNV'] = df_lite['CNV'].apply(lambda x: x.strip())\n",
    "df_cnv_info['alteration'] = df_cnv_info['alteration'].apply(lambda x: x.strip())"
   ]
  },
  {
   "cell_type": "code",
   "execution_count": null,
   "metadata": {
    "scrolled": true
   },
   "outputs": [],
   "source": [
    "# get known driver cnv\n",
    "df_cnv_info = df_cnv_info.apply(lambda x: check_lite_knowleadge(x, df_lite, drivers_muts), axis=1)\n",
    "df_cnv_info_known = df_cnv_info[df_cnv_info['specific_lite_cnv'] == 'known']"
   ]
  },
  {
   "cell_type": "code",
   "execution_count": null,
   "metadata": {},
   "outputs": [],
   "source": [
    "df_cnv_info_known"
   ]
  },
  {
   "cell_type": "code",
   "execution_count": null,
   "metadata": {},
   "outputs": [],
   "source": [
    "# get recurrent cnv in genes of interest\n",
    "df_cnv_info = df_cnv_info[df_cnv_info['specific_lite_cnv'] != 'known']\n",
    "\n",
    "count = df_cnv_info[['band_name', 'patient']].drop_duplicates().groupby('band_name').count().sort_values(by='patient',ascending=False)\n",
    "count.rename(columns={'patient':'count'}, inplace=True)\n",
    "count = count[count['count'] > 1]\n",
    "count.reset_index(inplace=True)\n",
    "list_bands_recurrent = count['band_name'].tolist()\n",
    "df_cnv_info_recurrent = df_cnv_info[df_cnv_info['band_name'].isin(list_bands_recurrent)]\n",
    "print(len(df_cnv_info_recurrent))\n",
    "\n",
    "df_cnv_info_recurrent = df_cnv_info_recurrent.apply(lambda x: add_gene_of_interest(x,drivers_muts), axis=1)\n",
    "df_cnv_info_recurrent_annotated = df_cnv_info_recurrent[df_cnv_info_recurrent['genes_of_interest'] != '']"
   ]
  },
  {
   "cell_type": "code",
   "execution_count": null,
   "metadata": {
    "collapsed": true
   },
   "outputs": [],
   "source": [
    "# check unknown recurrent cnv\n",
    "df_cnv_info_recurrent_only = df_cnv_info_recurrent[df_cnv_info_recurrent['genes_of_interest'] == '']\n",
    "\n",
    "count = df_cnv_info_recurrent_only[['band_name', 'patient']].drop_duplicates().groupby('band_name').count().sort_values(by='patient',ascending=False)\n",
    "count.rename(columns={'patient':'count'}, inplace=True)\n",
    "count = count[count['count'] > 1]\n",
    "count.reset_index(inplace=True)"
   ]
  },
  {
   "cell_type": "code",
   "execution_count": null,
   "metadata": {},
   "outputs": [],
   "source": [
    "df_cnv_info_known[['patient', 'band_name', 'subset', 'driver_cnv', 'alteration']].drop_duplicates().sort_values('patient')"
   ]
  },
  {
   "cell_type": "code",
   "execution_count": null,
   "metadata": {},
   "outputs": [],
   "source": [
    "# write results\n",
    "df_cnv_info_known_write = df_cnv_info_known[['patient', 'band_name', 'subset', 'driver_cnv', 'alteration']]\n",
    "df_cnv_info_known_write.drop_duplicates(subset=['patient', 'band_name', 'subset', 'driver_cnv', 'alteration'], inplace=True)\n",
    "df_cnv_info_known_write.to_csv(os.path.join(dire_out, \"known_driver_cnv.tsv\"), sep='\\t', index=False)\n",
    "\n",
    "df_cnv_info_recurrent_annotated[['patient', 'band_name', 'subset', 'genes_of_interest', 'alteration']].to_csv(os.path.join(dire_out,\"recurrent_interesting_cnv.tsv\"), sep='\\t', index=False)"
   ]
  },
  {
   "cell_type": "code",
   "execution_count": null,
   "metadata": {},
   "outputs": [],
   "source": [
    "df_cnv_info_recurrent_annotated[['patient', 'band_name', 'subset', 'genes_of_interest', 'alteration']]"
   ]
  },
  {
   "cell_type": "code",
   "execution_count": null,
   "metadata": {
    "collapsed": true
   },
   "outputs": [],
   "source": []
  }
 ],
 "metadata": {
  "kernelspec": {
   "display_name": "Python [conda env:filter_pipeline]",
   "language": "python",
   "name": "conda-env-filter_pipeline-py"
  },
  "language_info": {
   "codemirror_mode": {
    "name": "ipython",
    "version": 3
   },
   "file_extension": ".py",
   "mimetype": "text/x-python",
   "name": "python",
   "nbconvert_exporter": "python",
   "pygments_lexer": "ipython3",
   "version": "3.7.6"
  }
 },
 "nbformat": 4,
 "nbformat_minor": 2
}
