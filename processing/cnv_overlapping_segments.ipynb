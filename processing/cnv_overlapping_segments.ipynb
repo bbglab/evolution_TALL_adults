{
 "cells": [
  {
   "cell_type": "markdown",
   "metadata": {},
   "source": [
    "This notebook process FACETS calls of CNV. It merges primary and relapse to obtain private and shared variants. After manually inspection, the shared variants (START and END) are determined as the smallest and greatest position of the overlapping segments. "
   ]
  },
  {
   "cell_type": "code",
   "execution_count": null,
   "metadata": {
    "collapsed": true
   },
   "outputs": [],
   "source": [
    "import sys, os\n",
    "os.environ[\"PATH\"] = os.path.dirname(sys.executable) + os.pathsep + os.environ[\"PATH\"]"
   ]
  },
  {
   "cell_type": "code",
   "execution_count": null,
   "metadata": {
    "collapsed": true
   },
   "outputs": [],
   "source": [
    "import os\n",
    "import pandas as pd\n",
    "import numpy as np\n",
    "import pybedtools\n",
    "import glob\n",
    "from aux_functions import process_cnv,stage_mapping\n",
    "\n",
    "pd.set_option('display.max_columns', None)\n",
    "pd.set_option('display.max_rows', None)\n",
    "pd.set_option('display.max_colwidth', -1)\n",
    "\n",
    "%load_ext autoreload\n",
    "%autoreload 2"
   ]
  },
  {
   "cell_type": "code",
   "execution_count": null,
   "metadata": {
    "collapsed": true
   },
   "outputs": [],
   "source": [
    "## FUNCTIONS\n",
    "\n",
    "def alteration(rw):\n",
    "    if rw['tcn.em']>2:\n",
    "        rw['alteration'] = 'amp'\n",
    "    elif rw['tcn.em']<2:\n",
    "        rw['alteration'] = 'del'\n",
    "    elif (rw['tcn.em'] == 2) and (rw['lcn.em'] == 0):\n",
    "        rw['alteration'] = 'loh'\n",
    "    else:\n",
    "        print(rw)\n",
    "    return(rw)\n",
    "\n",
    "def merge_bedtools_shared(df_pry,df_rel):\n",
    "        \n",
    "    df_pry = df_pry.apply(lambda x: alteration(x), axis=1)\n",
    "    df_rel = df_rel.apply(lambda x: alteration(x), axis=1)\n",
    "\n",
    "    df_pry.rename(columns={'chrom':'chrom_pry', 'start':'start_pry', 'end':'end_pry', \n",
    "                       'lcn.em':'minor_cnv_pry', 'tcn.em':'total_cnv_pry', 'cf.em':'ccf_pry',\n",
    "                       'alteration':'alteration_pry'}, inplace=True)\n",
    "    df_rel.rename(columns={'chrom':'chrom_rel', 'start':'start_rel', 'end':'end_rel',\n",
    "                       'lcn.em':'minor_cnv_rel', 'tcn.em':'total_cnv_rel', 'cf.em':'ccf_rel',\n",
    "                       'alteration':'alteration_rel'}, inplace=True)\n",
    "\n",
    "    df_pry = df_pry[['chrom_pry', 'start_pry', 'end_pry', 'minor_cnv_pry', 'total_cnv_pry', 'ccf_pry', 'patient', 'alteration_pry']]\n",
    "    df_rel = df_rel[['chrom_rel', 'start_rel', 'end_rel', 'minor_cnv_rel', 'total_cnv_rel', 'ccf_rel', 'patient', 'alteration_rel']]\n",
    "    \n",
    "    df_pry['chrom_pry'] = df_pry['chrom_pry'].astype(str)\n",
    "    df_rel['chrom_rel'] = df_rel['chrom_rel'].astype(str)\n",
    "\n",
    "    df_pry[['start_pry', 'end_pry']] = df_pry[['start_pry', 'end_pry']].astype(int)\n",
    "    df_rel[['start_rel', 'end_rel']] = df_rel[['start_rel', 'end_rel']].astype(int)\n",
    "\n",
    "    pry = pybedtools.BedTool.from_dataframe(df_pry[['chrom_pry', 'start_pry', 'end_pry']])\n",
    "    rel = pybedtools.BedTool.from_dataframe(df_rel[['chrom_rel', 'start_rel', 'end_rel']])\n",
    "\n",
    "    result = pry.intersect(rel, loj = True)\n",
    "\n",
    "    merged = pd.read_table(result.fn, names=['chrom_pry', 'start_pry', 'end_pry', \n",
    "                                                  'chrom_rel', 'start_rel', 'end_rel'])\n",
    "\n",
    "    merged[['start_pry', 'end_pry', \n",
    "            'start_rel', 'end_rel']] = merged[['start_pry', 'end_pry', \n",
    "                                               'start_rel', 'end_rel']].astype(int)\n",
    "    merged[['chrom_pry', 'chrom_rel']] = merged[['chrom_pry', 'chrom_rel']].astype(str)\n",
    "\n",
    "\n",
    "    merged = merged.merge(df_pry, how='left', on=['chrom_pry', 'start_pry', 'end_pry'])\n",
    "    merged = merged.merge(df_rel, how='left', on=['chrom_rel', 'start_rel', 'end_rel', 'patient'])\n",
    "\n",
    "    merged['pry_alt'] = merged.apply(lambda x: x['chrom_pry']+':'+str(x['start_pry'])+'-'+str(x['end_pry']), axis=1)\n",
    "    merged['rel_alt'] = merged.apply(lambda x: x['chrom_rel']+':'+str(x['start_rel'])+'-'+str(x['end_rel']), axis=1)\n",
    "    \n",
    "    merged['subset'] = 'shared'\n",
    "    merged = merged[(merged['chrom_rel'] != '.') & (merged['start_rel'] != -1) & (merged['end_rel'] != -1)]\n",
    "    \n",
    "    df_pry['pry_alt'] = df_pry.apply(lambda x: str(x['chrom_pry'])+':'+str(x['start_pry'])+'-'+str(x['end_pry']), axis=1)\n",
    "    df_rel['rel_alt'] = df_rel.apply(lambda x: str(x['chrom_rel'])+':'+str(x['start_rel'])+'-'+str(x['end_rel']), axis=1)\n",
    "    \n",
    "    df_pp = df_pry[~df_pry['pry_alt'].isin(merged['pry_alt'].tolist())]\n",
    "    df_pr = df_rel[~df_rel['rel_alt'].isin(merged['rel_alt'].tolist())]\n",
    "    \n",
    "    df_pp['subset'] = 'private primary'\n",
    "    df_pp.rename(columns={'chrom_pry':'chrom', 'start_pry':'start', 'end_pry':'end',\n",
    "                              'minor_cnv_pry':'minor_cnv', 'total_cnv_pry':'total_cnv',\n",
    "                              'alteration_pry':'alteration','ccf_pry':'ccf'}, inplace=True)\n",
    "    df_pp = df_pp[['chrom', 'start', 'end', 'minor_cnv', 'total_cnv', 'ccf','alteration', 'subset', 'patient']]\n",
    "    \n",
    "    df_pr['subset'] = 'private relapse'\n",
    "    df_pr.rename(columns={'chrom_rel':'chrom', 'start_rel':'start', 'end_rel':'end',\n",
    "                              'minor_cnv_rel':'minor_cnv', 'total_cnv_rel':'total_cnv',\n",
    "                              'alteration_rel':'alteration','ccf_rel':'ccf'}, inplace=True)\n",
    "    df_pr = df_pr[['chrom', 'start', 'end', 'minor_cnv', 'total_cnv', 'ccf','alteration', 'subset', 'patient']]\n",
    "    \n",
    "    df_pp[['start', 'end']] = df_pp[['start', 'end']].astype(int)\n",
    "    df_pp[['chrom']] = df_pp[['chrom']].astype(str)\n",
    "    \n",
    "    df_pr[['start', 'end']] = df_pr[['start', 'end']].astype(int)\n",
    "    df_pr[['chrom']] = df_pr[['chrom']].astype(str)\n",
    "\n",
    "    \n",
    "    merged_sh = pd.DataFrame()\n",
    "    for i,rw in merged.iterrows():\n",
    "        if rw['alteration_pry'] != rw['alteration_rel']:\n",
    "            df_pp = df_pp.append({'chrom':rw['chrom_pry'], 'start':rw['start_pry'], 'end':rw['end_pry'],\n",
    "                          'minor_cnv':rw['minor_cnv_pry'], 'total_cnv':rw['total_cnv_pry'],\n",
    "                          'alteration':rw['alteration_pry'],'ccf':rw['ccf_pry'],'patient':rw['patient'], \n",
    "                         'subset':'private primary'}, ignore_index=True, sort=False)\n",
    "    \n",
    "            df_pr = df_pr.append({'chrom':rw['chrom_rel'], 'start':rw['start_rel'], 'end':rw['end_rel'],\n",
    "                          'minor_cnv':rw['minor_cnv_rel'], 'total_cnv':rw['total_cnv_rel'],'patient':rw['patient'], \n",
    "                          'subset':'private relapse','alteration':rw['alteration_rel'],'ccf':rw['ccf_rel']}, \n",
    "                                         ignore_index=True, sort=False)\n",
    "        else:\n",
    "            merged_sh = merged_sh.append(rw, ignore_index=True, sort=False)\n",
    "    merged_sh = merged_sh[['chrom_pry', 'start_pry', 'end_pry', 'chrom_rel', 'start_rel',\n",
    "       'end_rel', 'minor_cnv_pry', 'total_cnv_pry', 'ccf_pry', 'patient',\n",
    "       'alteration_pry', 'minor_cnv_rel', 'total_cnv_rel', 'ccf_rel',\n",
    "       'alteration_rel', 'subset']]\n",
    "    merged_sh[['start_pry', 'end_pry','start_rel','end_rel']] = merged_sh[['start_pry', 'end_pry','start_rel','end_rel']].astype(int)\n",
    "    return merged_sh, df_pp, df_pr\n",
    "\n",
    "def merge_bedtools_private(df, ttype):\n",
    "    df = df.apply(lambda x: alteration(x), axis=1)\n",
    "    df.rename(columns={'lcn.em':'minor_cnv', 'tcn.em':'total_cnv', 'cf.em':'ccf'}, inplace=True)\n",
    "    if ttype == 'private primary':\n",
    "        df['subset'] = 'private primary'\n",
    "    else:\n",
    "        df['subset'] = ttype\n",
    "    df = df[['chrom', 'start', 'end', 'minor_cnv', 'total_cnv', 'ccf', 'patient', 'alteration','subset']]\n",
    "    return df"
   ]
  },
  {
   "cell_type": "code",
   "execution_count": null,
   "metadata": {
    "collapsed": true
   },
   "outputs": [],
   "source": [
    "# clinical: Dataframe with the clinical data. You can get the dataframe by reading the excel table \n",
    "# Table S1. of Additional file 2 of the paper and then use function stage_mapping to get the desired dataframe\n",
    "clinical = pd.read_excel(, sheet_name=\"Table S1\", skiprows=[0,1])\n",
    "clinical = stage_mapping(clinical)"
   ]
  },
  {
   "cell_type": "code",
   "execution_count": null,
   "metadata": {
    "collapsed": true
   },
   "outputs": [],
   "source": [
    "clinical.head()"
   ]
  },
  {
   "cell_type": "code",
   "execution_count": null,
   "metadata": {
    "collapsed": true
   },
   "outputs": [],
   "source": [
    "ttype='both'\n",
    "\n",
    "## path to FACETS run results\n",
    "dire_in = \"\"\n",
    "\n",
    "chroms = [str(x) for x in range(1,23,1)]\n",
    "chroms.extend(\"X\")"
   ]
  },
  {
   "cell_type": "code",
   "execution_count": null,
   "metadata": {
    "collapsed": true
   },
   "outputs": [],
   "source": [
    "facets_results = process_cnv(dire_in, clinical)\n",
    "\n",
    "facets_cnv = facets_results[~((facets_results['tcn.em'] == 2) & (facets_results['lcn.em'] == 1))]\n",
    "facets_cnv.groupby('chrom').count()\n",
    "\n",
    "facets_cnv_pry = facets_cnv[facets_cnv['stage'] == 'primary']\n",
    "facets_cnv_rel = facets_cnv[facets_cnv['stage'] == 'relapse']"
   ]
  },
  {
   "cell_type": "code",
   "execution_count": null,
   "metadata": {
    "collapsed": true
   },
   "outputs": [],
   "source": [
    "facets_cnv_pry.head()"
   ]
  },
  {
   "cell_type": "code",
   "execution_count": null,
   "metadata": {
    "collapsed": true
   },
   "outputs": [],
   "source": [
    "facets_cnv_rel.head()"
   ]
  },
  {
   "cell_type": "code",
   "execution_count": null,
   "metadata": {
    "collapsed": true
   },
   "outputs": [],
   "source": [
    "grps = facets_cnv_pry.groupby(\"patient\")\n",
    "\n",
    "cnv_shared = pd.DataFrame()\n",
    "cnv_private_pry = pd.DataFrame()\n",
    "cnv_private_rel = pd.DataFrame()\n",
    "\n",
    "for g in grps.groups:\n",
    "    if (g != 'PAT3') | (g != 'PAT4'):\n",
    "        print(g)\n",
    "        df_pat_pry = grps.get_group(g)\n",
    "        chr_grps = df_pat_pry.groupby(\"chrom\")\n",
    "        for chr_ in chroms:\n",
    "            df_chr_pry = df_pat_pry[df_pat_pry['chrom'] == chr_]\n",
    "            df_chr_rel = facets_cnv_rel[(facets_cnv_rel['patient'] == g) & (facets_cnv_rel['chrom'] == chr_)]\n",
    "            \n",
    "            if (df_chr_pry.empty == False) and (df_chr_rel.empty == False): \n",
    "                df_chr_sh, df_chr_pp, df_chr_pr = merge_bedtools_shared(df_chr_pry, df_chr_rel)\n",
    "                cnv_shared = cnv_shared.append(df_chr_sh, ignore_index=True,sort=False)\n",
    "                cnv_private_pry = cnv_private_pry.append(df_chr_pp, ignore_index=True,sort=False)\n",
    "                cnv_private_rel = cnv_private_rel.append(df_chr_pr, ignore_index=True,sort=False)\n",
    "            \n",
    "            elif (df_chr_pry.empty == False) and (df_chr_rel.empty == True):\n",
    "                df_chr = merge_bedtools_private(df_chr_pry, 'private primary')\n",
    "                cnv_private_pry = cnv_private_pry.append(df_chr, ignore_index=True,sort=False)\n",
    "                \n",
    "            elif (df_chr_pry.empty == True) and (df_chr_rel.empty == False):\n",
    "                df_chr = merge_bedtools_private(df_chr_rel, 'private relapse')\n",
    "                cnv_private_rel = cnv_private_rel.append(df_chr, ignore_index=True, sort=False)\n",
    "            else:\n",
    "                if (df_chr_pry.empty == True) and (df_chr_rel.empty == True):\n",
    "                    print('both empty')\n",
    "                else:\n",
    "                    print('unknown situation')"
   ]
  },
  {
   "cell_type": "code",
   "execution_count": null,
   "metadata": {
    "collapsed": true,
    "scrolled": true
   },
   "outputs": [],
   "source": [
    "cnv_shared"
   ]
  },
  {
   "cell_type": "code",
   "execution_count": null,
   "metadata": {
    "collapsed": true
   },
   "outputs": [],
   "source": [
    "cnv_private_pry"
   ]
  },
  {
   "cell_type": "code",
   "execution_count": null,
   "metadata": {
    "collapsed": true
   },
   "outputs": [],
   "source": [
    "cnv_private_rel"
   ]
  },
  {
   "cell_type": "code",
   "execution_count": null,
   "metadata": {
    "collapsed": true
   },
   "outputs": [],
   "source": [
    "# make a directory with the processed results. For example here is cnv_results_processed/\n",
    "\n",
    "cnv_private_pry.to_csv(os.path.join(dire_in,\"cnv_results_processed/private_primary_cnv.csv\"), \n",
    "                    sep='\\t', index=False)\n",
    "\n",
    "cnv_private_rel.to_csv(os.path.join(dire_in,\"cnv_results_processed/private_relapse_cnv.csv\"), \n",
    "                  sep='\\t',index=False)\n",
    "\n",
    "cnv_shared.to_csv(os.path.join(dire_in,\"cnv_results_processed/shared_cnv.csv\"), \n",
    "                    sep='\\t',index=False) # check the overlapping segments to determine the truly shared variants"
   ]
  }
 ],
 "metadata": {
  "kernelspec": {
   "display_name": "Python [conda env:filter_pipeline]",
   "language": "python",
   "name": "conda-env-filter_pipeline-py"
  },
  "language_info": {
   "codemirror_mode": {
    "name": "ipython",
    "version": 3
   },
   "file_extension": ".py",
   "mimetype": "text/x-python",
   "name": "python",
   "nbconvert_exporter": "python",
   "pygments_lexer": "ipython3",
   "version": "3.7.6"
  }
 },
 "nbformat": 4,
 "nbformat_minor": 2
}
